{
 "cells": [
  {
   "cell_type": "code",
   "execution_count": 1,
   "metadata": {},
   "outputs": [],
   "source": [
    "import requests"
   ]
  },
  {
   "cell_type": "code",
   "execution_count": 2,
   "metadata": {},
   "outputs": [],
   "source": [
    "import bs4"
   ]
  },
  {
   "cell_type": "code",
   "execution_count": 3,
   "metadata": {},
   "outputs": [],
   "source": [
    "result = requests.get(\"https://en.wikipedia.org/wiki/The_Vinelander\")"
   ]
  },
  {
   "cell_type": "code",
   "execution_count": 4,
   "metadata": {},
   "outputs": [
    {
     "data": {
      "text/plain": [
       "requests.models.Response"
      ]
     },
     "execution_count": 4,
     "metadata": {},
     "output_type": "execute_result"
    }
   ],
   "source": [
    "type(result)"
   ]
  },
  {
   "cell_type": "code",
   "execution_count": 5,
   "metadata": {},
   "outputs": [
    {
     "data": {
      "text/plain": [
       "'<!DOCTYPE html>\\n<html class=\"client-nojs\" lang=\"en\" dir=\"ltr\">\\n<head>\\n<meta charset=\"UTF-8\"/>\\n<title>The Vinelander - Wikipedia</title>\\n<script>document.documentElement.className=\"client-js\";RLCONF={\"wgBreakFrames\":!1,\"wgSeparatorTransformTable\":[\"\",\"\"],\"wgDigitTransformTable\":[\"\",\"\"],\"wgDefaultDateFormat\":\"dmy\",\"wgMonthNames\":[\"\",\"January\",\"February\",\"March\",\"April\",\"May\",\"June\",\"July\",\"August\",\"September\",\"October\",\"November\",\"December\"],\"wgRequestId\":\"a2270bf5-c8ae-4587-a678-8c3bcc50cdfa\",\"wgCSPNonce\":!1,\"wgCanonicalNamespace\":\"\",\"wgCanonicalSpecialPageName\":!1,\"wgNamespaceNumber\":0,\"wgPageName\":\"The_Vinelander\",\"wgTitle\":\"The Vinelander\",\"wgCurRevisionId\":1012433723,\"wgRevisionId\":1012433723,\"wgArticleId\":19100873,\"wgIsArticle\":!0,\"wgIsRedirect\":!1,\"wgAction\":\"view\",\"wgUserName\":null,\"wgUserGroups\":[\"*\"],\"wgCategories\":[\"Use dmy dates from June 2015\",\"Use Australian English from June 2015\",\"All Wikipedia articles written in Australian English\",\"Named passenger trains of Victoria (Australia)\",\"Night trains of Australia\",\"Railway services introduced in 1972\",\"Railway services discontinued in 1993\",\\n\"1972 establishments in Australia\",\"1993 disestablishments in Australia\",\"Discontinued railway services in Australia\"],\"wgPageContentLanguage\":\"en\",\"wgPageContentModel\":\"wikitext\",\"wgRelevantPageName\":\"The_Vinelander\",\"wgRelevantArticleId\":19100873,\"wgIsProbablyEditable\":!0,\"wgRelevantPageIsProbablyEditable\":!0,\"wgRestrictionEdit\":[],\"wgRestrictionMove\":[],\"wgMediaViewerOnClick\":!0,\"wgMediaViewerEnabledByDefault\":!0,\"wgPopupsReferencePreviews\":!1,\"wgPopupsReferencePreviewsBeta\":!0,\"wgPopupsConflictsWithNavPopupGadget\":!1,\"wgPopupsConflictsWithRefTooltipsGadget\":!0,\"wgVisualEditor\":{\"pageLanguageCode\":\"en\",\"pageLanguageDir\":\"ltr\",\"pageVariantFallbacks\":\"en\"},\"wgMFDisplayWikibaseDescriptions\":{\"search\":!0,\"nearby\":!0,\"watchlist\":!0,\"tagline\":!1},\"wgWMESchemaEditAttemptStepOversample\":!1,\"wgULSCurrentAutonym\":\"English\",\"wgNoticeProject\":\"wikipedia\",\"wgCentralAuthMobileDomain\":!1,\"wgEditSubmitButtonLabelPublish\":!0,\"wgULSPosition\":\"interlanguage\",\\n\"wgWikibaseItemId\":\"Q7932449\"};RLSTATE={\"ext.globalCssJs.user.styles\":\"ready\",\"site.styles\":\"ready\",\"noscript\":\"ready\",\"user.styles\":\"ready\",\"ext.globalCssJs.user\":\"ready\",\"user\":\"ready\",\"user.options\":\"loading\",\"ext.cite.styles\":\"ready\",\"skins.vector.styles.legacy\":\"ready\",\"jquery.makeCollapsible.styles\":\"ready\",\"ext.visualEditor.desktopArticleTarget.noscript\":\"ready\",\"ext.uls.interlanguage\":\"ready\",\"ext.wikimediaBadges\":\"ready\",\"wikibase.client.init\":\"ready\"};RLPAGEMODULES=[\"ext.cite.ux-enhancements\",\"site\",\"mediawiki.page.ready\",\"jquery.makeCollapsible\",\"mediawiki.toc\",\"skins.vector.legacy.js\",\"ext.gadget.ReferenceTooltips\",\"ext.gadget.charinsert\",\"ext.gadget.extra-toolbar-buttons\",\"ext.gadget.refToolbar\",\"ext.gadget.switcher\",\"ext.centralauth.centralautologin\",\"mmv.head\",\"mmv.bootstrap.autostart\",\"ext.popups\",\"ext.visualEditor.desktopArticleTarget.init\",\"ext.visualEditor.targetLoader\",\"ext.eventLogging\",\"ext.wikimediaEvents\",\"ext.navigationTiming\",\"ext.uls.compactlinks\",\\n\"ext.uls.interface\",\"ext.cx.eventlogging.campaigns\",\"ext.centralNotice.geoIP\",\"ext.centralNotice.startUp\"];</script>\\n<script>(RLQ=window.RLQ||[]).push(function(){mw.loader.implement(\"user.options@1hzgi\",function($,jQuery,require,module){/*@nomin*/mw.user.tokens.set({\"patrolToken\":\"+\\\\\\\\\",\"watchToken\":\"+\\\\\\\\\",\"csrfToken\":\"+\\\\\\\\\"});\\n});});</script>\\n<link rel=\"stylesheet\" href=\"/w/load.php?lang=en&amp;modules=ext.cite.styles%7Cext.uls.interlanguage%7Cext.visualEditor.desktopArticleTarget.noscript%7Cext.wikimediaBadges%7Cjquery.makeCollapsible.styles%7Cskins.vector.styles.legacy%7Cwikibase.client.init&amp;only=styles&amp;skin=vector\"/>\\n<script async=\"\" src=\"/w/load.php?lang=en&amp;modules=startup&amp;only=scripts&amp;raw=1&amp;skin=vector\"></script>\\n<meta name=\"ResourceLoaderDynamicStyles\" content=\"\"/>\\n<link rel=\"stylesheet\" href=\"/w/load.php?lang=en&amp;modules=site.styles&amp;only=styles&amp;skin=vector\"/>\\n<meta name=\"generator\" content=\"MediaWiki 1.36.0-wmf.35\"/>\\n<meta name=\"referrer\" content=\"origin\"/>\\n<meta name=\"referrer\" content=\"origin-when-crossorigin\"/>\\n<meta name=\"referrer\" content=\"origin-when-cross-origin\"/>\\n<meta property=\"og:image\" content=\"https://upload.wikimedia.org/wikipedia/commons/thumb/4/4f/Vinelander_Carriage_Newport_2014.jpg/1200px-Vinelander_Carriage_Newport_2014.jpg\"/>\\n<meta property=\"og:title\" content=\"The Vinelander - Wikipedia\"/>\\n<meta property=\"og:type\" content=\"website\"/>\\n<link rel=\"preconnect\" href=\"//upload.wikimedia.org\"/>\\n<link rel=\"alternate\" media=\"only screen and (max-width: 720px)\" href=\"//en.m.wikipedia.org/wiki/The_Vinelander\"/>\\n<link rel=\"alternate\" type=\"application/x-wiki\" title=\"Edit this page\" href=\"/w/index.php?title=The_Vinelander&amp;action=edit\"/>\\n<link rel=\"edit\" title=\"Edit this page\" href=\"/w/index.php?title=The_Vinelander&amp;action=edit\"/>\\n<link rel=\"apple-touch-icon\" href=\"/static/apple-touch/wikipedia.png\"/>\\n<link rel=\"shortcut icon\" href=\"/static/favicon/wikipedia.ico\"/>\\n<link rel=\"search\" type=\"application/opensearchdescription+xml\" href=\"/w/opensearch_desc.php\" title=\"Wikipedia (en)\"/>\\n<link rel=\"EditURI\" type=\"application/rsd+xml\" href=\"//en.wikipedia.org/w/api.php?action=rsd\"/>\\n<link rel=\"license\" href=\"//creativecommons.org/licenses/by-sa/3.0/\"/>\\n<link rel=\"canonical\" href=\"https://en.wikipedia.org/wiki/The_Vinelander\"/>\\n<link rel=\"dns-prefetch\" href=\"//login.wikimedia.org\"/>\\n<link rel=\"dns-prefetch\" href=\"//meta.wikimedia.org\" />\\n</head>\\n<body class=\"mediawiki ltr sitedir-ltr mw-hide-empty-elt ns-0 ns-subject mw-editable page-The_Vinelander rootpage-The_Vinelander skin-vector action-view skin-vector-legacy\"><div id=\"mw-page-base\" class=\"noprint\"></div>\\n<div id=\"mw-head-base\" class=\"noprint\"></div>\\n<div id=\"content\" class=\"mw-body\" role=\"main\">\\n\\t<a id=\"top\"></a>\\n\\t<div id=\"siteNotice\" class=\"mw-body-content\"><!-- CentralNotice --></div>\\n\\t<div class=\"mw-indicators mw-body-content\">\\n\\t</div>\\n\\t<h1 id=\"firstHeading\" class=\"firstHeading\" >The Vinelander</h1>\\n\\t<div id=\"bodyContent\" class=\"mw-body-content\">\\n\\t\\t<div id=\"siteSub\" class=\"noprint\">From Wikipedia, the free encyclopedia</div>\\n\\t\\t<div id=\"contentSub\"></div>\\n\\t\\t<div id=\"contentSub2\"></div>\\n\\t\\t\\n\\t\\t<div id=\"jump-to-nav\"></div>\\n\\t\\t<a class=\"mw-jump-link\" href=\"#mw-head\">Jump to navigation</a>\\n\\t\\t<a class=\"mw-jump-link\" href=\"#searchInput\">Jump to search</a>\\n\\t\\t<div id=\"mw-content-text\" lang=\"en\" dir=\"ltr\" class=\"mw-content-ltr\"><div class=\"mw-parser-output\"><p class=\"mw-empty-elt\">\\n\\n</p>\\n<table class=\"infobox\" style=\"width:22em;width:;\"><caption>The Vinelander</caption><tbody><tr><td colspan=\"2\" style=\"text-align:center\"><a href=\"/wiki/File:Vinelander_Carriage_Newport_2014.jpg\" class=\"image\"><img alt=\"Vinelander Carriage Newport 2014.jpg\" src=\"//upload.wikimedia.org/wikipedia/commons/thumb/4/4f/Vinelander_Carriage_Newport_2014.jpg/220px-Vinelander_Carriage_Newport_2014.jpg\" decoding=\"async\" width=\"220\" height=\"164\" srcset=\"//upload.wikimedia.org/wikipedia/commons/thumb/4/4f/Vinelander_Carriage_Newport_2014.jpg/330px-Vinelander_Carriage_Newport_2014.jpg 1.5x, //upload.wikimedia.org/wikipedia/commons/thumb/4/4f/Vinelander_Carriage_Newport_2014.jpg/440px-Vinelander_Carriage_Newport_2014.jpg 2x\" data-file-width=\"2592\" data-file-height=\"1936\" /></a><div>Preserved Vinelander carriage at <a href=\"/wiki/Newport_Workshops\" title=\"Newport Workshops\">Newport Workshops</a> in March 2014</div></td></tr><tr><th colspan=\"2\" style=\"text-align:center;background-color: #efefef\">Overview</th></tr><tr><th scope=\"row\">Service type</th><td>Overnight sleeper train</td></tr><tr><th scope=\"row\">Status</th><td>Ceased</td></tr><tr><th scope=\"row\">First service</th><td>9 August 1972</td></tr><tr><th scope=\"row\">Last service</th><td>12 September 1993</td></tr><tr><th scope=\"row\"><span class=\"nowrap\">Former operator(s)</span></th><td><a href=\"/wiki/V/Line\" title=\"V/Line\">V/Line</a></td></tr><tr><th colspan=\"2\" style=\"text-align:center;background-color: #efefef\">Route</th></tr><tr><th scope=\"row\">Start</th><td><a href=\"/wiki/Southern_Cross_railway_station\" title=\"Southern Cross railway station\">Melbourne</a></td></tr><tr><th scope=\"row\">End</th><td><a href=\"/wiki/Mildura_railway_station\" title=\"Mildura railway station\">Mildura</a></td></tr><tr><th scope=\"row\">Distance travelled</th><td>609 kilometres</td></tr><tr><th scope=\"row\">Line(s) used</th><td><a href=\"/wiki/Serviceton_railway_line\" title=\"Serviceton railway line\">Serviceton</a><br /><a href=\"/wiki/Mildura_railway_line\" title=\"Mildura railway line\">Mildura</a></td></tr></tbody></table>\\n<p><i><b>The Vinelander</b></i> was an Australian passenger train operated by the <a href=\"/wiki/Victorian_Railways\" title=\"Victorian Railways\">Victorian Railways</a> and later <a href=\"/wiki/V/Line\" title=\"V/Line\">V/Line</a> between <a href=\"/wiki/Southern_Cross_railway_station\" title=\"Southern Cross railway station\">Melbourne</a> and <a href=\"/wiki/Mildura_railway_station\" title=\"Mildura railway station\">Mildura</a> from August 1972 until September 1993. Operating overnight along the <a href=\"/wiki/Mildura_railway_line\" title=\"Mildura railway line\">Mildura line</a>, it included <a href=\"/wiki/Motorail\" title=\"Motorail\">motorail</a> and <a href=\"/wiki/Sleeping_car\" title=\"Sleeping car\">sleeping car</a> facilities.\\n</p>\\n<div id=\"toc\" class=\"toc\" role=\"navigation\" aria-labelledby=\"mw-toc-heading\"><input type=\"checkbox\" role=\"button\" id=\"toctogglecheckbox\" class=\"toctogglecheckbox\" style=\"display:none\" /><div class=\"toctitle\" lang=\"en\" dir=\"ltr\"><h2 id=\"mw-toc-heading\">Contents</h2><span class=\"toctogglespan\"><label class=\"toctogglelabel\" for=\"toctogglecheckbox\"></label></span></div>\\n<ul>\\n<li class=\"toclevel-1 tocsection-1\"><a href=\"#History\"><span class=\"tocnumber\">1</span> <span class=\"toctext\">History</span></a></li>\\n<li class=\"toclevel-1 tocsection-2\"><a href=\"#Withdrawal\"><span class=\"tocnumber\">2</span> <span class=\"toctext\">Withdrawal</span></a></li>\\n<li class=\"toclevel-1 tocsection-3\"><a href=\"#References\"><span class=\"tocnumber\">3</span> <span class=\"toctext\">References</span></a></li>\\n<li class=\"toclevel-1 tocsection-4\"><a href=\"#External_links\"><span class=\"tocnumber\">4</span> <span class=\"toctext\">External links</span></a></li>\\n</ul>\\n</div>\\n\\n<h2><span class=\"mw-headline\" id=\"History\">History</span><span class=\"mw-editsection\"><span class=\"mw-editsection-bracket\">[</span><a href=\"/w/index.php?title=The_Vinelander&amp;action=edit&amp;section=1\" title=\"Edit section: History\">edit</a><span class=\"mw-editsection-bracket\">]</span></span></h2>\\n<div class=\"thumb tright\"><div class=\"thumbinner\" style=\"width:222px;\"><a href=\"/wiki/File:Vinelander_Bed.jpg\" class=\"image\"><img alt=\"\" src=\"//upload.wikimedia.org/wikipedia/commons/thumb/d/d4/Vinelander_Bed.jpg/220px-Vinelander_Bed.jpg\" decoding=\"async\" width=\"220\" height=\"164\" class=\"thumbimage\" srcset=\"//upload.wikimedia.org/wikipedia/commons/thumb/d/d4/Vinelander_Bed.jpg/330px-Vinelander_Bed.jpg 1.5x, //upload.wikimedia.org/wikipedia/commons/thumb/d/d4/Vinelander_Bed.jpg/440px-Vinelander_Bed.jpg 2x\" data-file-width=\"2592\" data-file-height=\"1936\" /></a>  <div class=\"thumbcaption\"><div class=\"magnify\"><a href=\"/wiki/File:Vinelander_Bed.jpg\" class=\"internal\" title=\"Enlarge\"></a></div>Sleeping facilities</div></div></div>\\n<p>A trial daylight service, the <i>Mildura Sunlight</i> was introduced by the <a href=\"/wiki/Victorian_Railways\" title=\"Victorian Railways\">Victorian Railways</a> between <a href=\"/wiki/Southern_Cross_railway_station\" title=\"Southern Cross railway station\">Melbourne</a> and <a href=\"/wiki/Mildura_railway_station\" title=\"Mildura railway station\">Mildura</a> on 3 September 1957. Air-conditioned <a href=\"/wiki/Z_type_carriage\" class=\"mw-redirect\" title=\"Z type carriage\">Z type carriage</a> stock was used, running thrice weekly.<sup id=\"cite_ref-lee_1-0\" class=\"reference\"><a href=\"#cite_note-lee-1\">&#91;1&#93;</a></sup>\\n</p><p>Night trains replaced this from 1967, and a <a href=\"/wiki/Motorail\" title=\"Motorail\">motorail</a> service was added in 1968.<sup id=\"cite_ref-rhsv_2-0\" class=\"reference\"><a href=\"#cite_note-rhsv-2\">&#91;2&#93;</a></sup>\\n</p><p><i>The Vinelander</i> first ran on 9 August 1972 after intense local lobbying for an upgrade of the existing overnight train.<sup id=\"cite_ref-3\" class=\"reference\"><a href=\"#cite_note-3\">&#91;3&#93;</a></sup><sup id=\"cite_ref-RailwayAge_4-0\" class=\"reference\"><a href=\"#cite_note-RailwayAge-4\">&#91;4&#93;</a></sup> The name was the product of a naming competition held by the Victorian Railways, with steel sleeping cars formerly used on <i><a href=\"/wiki/The_Overland\" title=\"The Overland\">The Overland</a></i> being used,<sup id=\"cite_ref-5\" class=\"reference\"><a href=\"#cite_note-5\">&#91;5&#93;</a></sup> along with <a href=\"/wiki/E_type_carriage\" class=\"mw-redirect\" title=\"E type carriage\">older wooded stock</a>. A <a href=\"/wiki/Buffet_car\" title=\"Buffet car\">buffet car</a> and bar was added to the train from 18 July 1977,<sup id=\"cite_ref-vicrail6283_6-0\" class=\"reference\"><a href=\"#cite_note-vicrail6283-6\">&#91;6&#93;</a></sup> but drunken behaviour became an issue, with offending passengers being removed from the train at intermediate stations. The typical timetable of the 1970s had a Melbourne departure at 21:20 and an arrival into Mildura at 08:05.<sup id=\"cite_ref-RailwayAge_4-1\" class=\"reference\"><a href=\"#cite_note-RailwayAge-4\">&#91;4&#93;</a></sup>\\n</p><p>The train was promoted as one of the Victorian Railways\\' premier trains, in 1974 Victorian Railways sponsored a race meeting of the Mildura Racing Club, with the winner receiving the Vinelander Plate.<sup id=\"cite_ref-RailwayAge_4-2\" class=\"reference\"><a href=\"#cite_note-RailwayAge-4\">&#91;4&#93;</a></sup>\\n</p><p>In 1984 a parallel road coach commenced operations. A day train named <i>The Sunraysia</i> commenced in 1987 but was withdrawn in 1990.<sup id=\"cite_ref-rhsv_2-1\" class=\"reference\"><a href=\"#cite_note-rhsv-2\">&#91;2&#93;</a></sup>\\n</p><p>By November 1986, <i>The Vinelander</i> was only operating two nights per week, with <i>The Sunraysia</i> daylight service running as a replacement on some other days. The price of the sleeping car service also rose; from $17 per berth in 1985, it had risen to $30 per berth by July 1986. Staff levels were also reduced, with one conductor to manage two carriages (prior to this it was a one-to-one ratio). This was seen by some as an attempt by <a href=\"/wiki/V/Line\" title=\"V/Line\">V/Line</a> management to cut back the service.<sup id=\"cite_ref-7\" class=\"reference\"><a href=\"#cite_note-7\">&#91;7&#93;</a></sup><sup id=\"cite_ref-8\" class=\"reference\"><a href=\"#cite_note-8\">&#91;8&#93;</a></sup>\\n</p><p>The last <i>Vinelander</i> ran on 12 September 1993 after the cutbacks of the <a href=\"/wiki/Jeff_Kennett\" title=\"Jeff Kennett\">Kennett Government</a>.<sup id=\"cite_ref-RailwayAge_4-3\" class=\"reference\"><a href=\"#cite_note-RailwayAge-4\">&#91;4&#93;</a></sup> A service review was announced by the <a href=\"/wiki/Bracks_Ministry\" title=\"Bracks Ministry\">Bracks Government</a> in 2000,<sup id=\"cite_ref-9\" class=\"reference\"><a href=\"#cite_note-9\">&#91;9&#93;</a></sup> in part due to the independent politician <a href=\"/wiki/Russell_Savage\" title=\"Russell Savage\">Russell Savage</a> enabling the formation of a minority Labor government after the <a href=\"/wiki/1999_Victorian_state_election\" title=\"1999 Victorian state election\">1999 Victorian state election</a>.<sup id=\"cite_ref-10\" class=\"reference\"><a href=\"#cite_note-10\">&#91;10&#93;</a></sup> The service never returned.\\n</p>\\n<h2><span class=\"mw-headline\" id=\"Withdrawal\">Withdrawal</span><span class=\"mw-editsection\"><span class=\"mw-editsection-bracket\">[</span><a href=\"/w/index.php?title=The_Vinelander&amp;action=edit&amp;section=2\" title=\"Edit section: Withdrawal\">edit</a><span class=\"mw-editsection-bracket\">]</span></span></h2>\\n<p>The withdrawal of <i>The Vinelander</i> service in 1993 occurred under controversial circumstances. Two days before the service was scheduled to be axed, intending passengers were on the platform at <a href=\"/wiki/Southern_Cross_railway_station\" title=\"Southern Cross railway station\">Spencer Street station</a>, ready to board the train to Mildura, when it was announced that it had been cancelled due to a landslide along the track. Despite the very short notice of the cancellation, buses were conveniently available as an alternative. Suspicions about the supposed landslide story were aroused when it was noted that it hadn\\'t blocked the Melbourne-bound <i>Vinelander</i> that same evening.\\n</p><p>A leaked document from the train controllers working that evening also aroused suspicion and an investigation revealed that the story about the landslide was a hoax.<sup id=\"cite_ref-11\" class=\"reference\"><a href=\"#cite_note-11\">&#91;11&#93;</a></sup>\\n</p><p>V/Line management failed to give any clear explanation for their actions and it is widely believed that the sudden cancellation of the final <i>Vinelander</i> service was done to avoid any protests, such as the one that had taken place earlier at <a href=\"/wiki/Bairnsdale_railway_station\" title=\"Bairnsdale railway station\">Bairnsdale</a>, when the withdrawal of the service occurred as planned a couple of days later.\\n</p>\\n<h2><span class=\"mw-headline\" id=\"References\">References</span><span class=\"mw-editsection\"><span class=\"mw-editsection-bracket\">[</span><a href=\"/w/index.php?title=The_Vinelander&amp;action=edit&amp;section=3\" title=\"Edit section: References\">edit</a><span class=\"mw-editsection-bracket\">]</span></span></h2>\\n<style data-mw-deduplicate=\"TemplateStyles:r1011085734\">.mw-parser-output .reflist{font-size:90%;margin-bottom:0.5em;list-style-type:decimal}.mw-parser-output .reflist .references{font-size:100%;margin-bottom:0;list-style-type:inherit}.mw-parser-output .reflist-columns-2{column-width:30em}.mw-parser-output .reflist-columns-3{column-width:25em}.mw-parser-output .reflist-columns{margin-top:0.3em}.mw-parser-output .reflist-columns ol{margin-top:0}.mw-parser-output .reflist-columns li{page-break-inside:avoid;break-inside:avoid-column}.mw-parser-output .reflist-upper-alpha{list-style-type:upper-alpha}.mw-parser-output .reflist-upper-roman{list-style-type:upper-roman}.mw-parser-output .reflist-lower-alpha{list-style-type:lower-alpha}.mw-parser-output .reflist-lower-greek{list-style-type:lower-greek}.mw-parser-output .reflist-lower-roman{list-style-type:lower-roman}</style><div class=\"reflist reflist-columns references-column-width reflist-columns-2\" style=\"\">\\n<ol class=\"references\">\\n<li id=\"cite_note-lee-1\"><span class=\"mw-cite-backlink\"><b><a href=\"#cite_ref-lee_1-0\">^</a></b></span> <span class=\"reference-text\"><style data-mw-deduplicate=\"TemplateStyles:r999302996\">.mw-parser-output cite.citation{font-style:inherit}.mw-parser-output .citation q{quotes:\"\\\\\"\"\"\\\\\"\"\"\\'\"\"\\'\"}.mw-parser-output .id-lock-free a,.mw-parser-output .citation .cs1-lock-free a{background:linear-gradient(transparent,transparent),url(\"//upload.wikimedia.org/wikipedia/commons/6/65/Lock-green.svg\")right 0.1em center/9px no-repeat}.mw-parser-output .id-lock-limited a,.mw-parser-output .id-lock-registration a,.mw-parser-output .citation .cs1-lock-limited a,.mw-parser-output .citation .cs1-lock-registration a{background:linear-gradient(transparent,transparent),url(\"//upload.wikimedia.org/wikipedia/commons/d/d6/Lock-gray-alt-2.svg\")right 0.1em center/9px no-repeat}.mw-parser-output .id-lock-subscription a,.mw-parser-output .citation .cs1-lock-subscription a{background:linear-gradient(transparent,transparent),url(\"//upload.wikimedia.org/wikipedia/commons/a/aa/Lock-red-alt-2.svg\")right 0.1em center/9px no-repeat}.mw-parser-output .cs1-subscription,.mw-parser-output .cs1-registration{color:#555}.mw-parser-output .cs1-subscription span,.mw-parser-output .cs1-registration span{border-bottom:1px dotted;cursor:help}.mw-parser-output .cs1-ws-icon a{background:linear-gradient(transparent,transparent),url(\"//upload.wikimedia.org/wikipedia/commons/4/4c/Wikisource-logo.svg\")right 0.1em center/12px no-repeat}.mw-parser-output code.cs1-code{color:inherit;background:inherit;border:none;padding:inherit}.mw-parser-output .cs1-hidden-error{display:none;font-size:100%}.mw-parser-output .cs1-visible-error{font-size:100%}.mw-parser-output .cs1-maint{display:none;color:#33aa33;margin-left:0.3em}.mw-parser-output .cs1-format{font-size:95%}.mw-parser-output .cs1-kern-left,.mw-parser-output .cs1-kern-wl-left{padding-left:0.2em}.mw-parser-output .cs1-kern-right,.mw-parser-output .cs1-kern-wl-right{padding-right:0.2em}.mw-parser-output .citation .mw-selflink{font-weight:inherit}</style><cite id=\"CITEREFLee,_Robert2007\" class=\"citation book cs1\">Lee, Robert (2007). <i>The Railways of Victoria 1854-2004</i>. Melbourne University Publishing. p.&#160;216. <a href=\"/wiki/ISBN_(identifier)\" class=\"mw-redirect\" title=\"ISBN (identifier)\">ISBN</a>&#160;<a href=\"/wiki/Special:BookSources/978-0-522-85134-2\" title=\"Special:BookSources/978-0-522-85134-2\"><bdi>978-0-522-85134-2</bdi></a>.</cite><span title=\"ctx_ver=Z39.88-2004&amp;rft_val_fmt=info%3Aofi%2Ffmt%3Akev%3Amtx%3Abook&amp;rft.genre=book&amp;rft.btitle=The+Railways+of+Victoria+1854-2004&amp;rft.pages=216&amp;rft.pub=Melbourne+University+Publishing&amp;rft.date=2007&amp;rft.isbn=978-0-522-85134-2&amp;rft.au=Lee%2C+Robert&amp;rfr_id=info%3Asid%2Fen.wikipedia.org%3AThe+Vinelander\" class=\"Z3988\"></span></span>\\n</li>\\n<li id=\"cite_note-rhsv-2\"><span class=\"mw-cite-backlink\">^ <a href=\"#cite_ref-rhsv_2-0\"><sup><i><b>a</b></i></sup></a> <a href=\"#cite_ref-rhsv_2-1\"><sup><i><b>b</b></i></sup></a></span> <span class=\"reference-text\"><link rel=\"mw-deduplicated-inline-style\" href=\"mw-data:TemplateStyles:r999302996\"/><cite class=\"citation web cs1\"><a rel=\"nofollow\" class=\"external text\" href=\"https://web.archive.org/web/20080719030504/http://www.historyvictoria.org.au/pdf/Mildura.pdf\">\"The Mildura Story The Battle of the Routes\"</a> <span class=\"cs1-format\">(PDF)</span>. Royal Historical Society of Victoria. Archived from <a rel=\"nofollow\" class=\"external text\" href=\"http://www.historyvictoria.org.au/pdf/Mildura.pdf\">the original</a> <span class=\"cs1-format\">(PDF)</span> on 19 July 2008<span class=\"reference-accessdate\">. Retrieved <span class=\"nowrap\">30 August</span> 2008</span>.</cite><span title=\"ctx_ver=Z39.88-2004&amp;rft_val_fmt=info%3Aofi%2Ffmt%3Akev%3Amtx%3Abook&amp;rft.genre=unknown&amp;rft.btitle=The+Mildura+Story+The+Battle+of+the+Routes&amp;rft.pub=Royal+Historical+Society+of+Victoria&amp;rft_id=http%3A%2F%2Fwww.historyvictoria.org.au%2Fpdf%2FMildura.pdf&amp;rfr_id=info%3Asid%2Fen.wikipedia.org%3AThe+Vinelander\" class=\"Z3988\"></span></span>\\n</li>\\n<li id=\"cite_note-3\"><span class=\"mw-cite-backlink\"><b><a href=\"#cite_ref-3\">^</a></b></span> <span class=\"reference-text\">\"In Brief\" <i><a href=\"/wiki/Railway_Gazette_International\" title=\"Railway Gazette International\">Railway Gazette International</a></i> September 1972 page 326</span>\\n</li>\\n<li id=\"cite_note-RailwayAge-4\"><span class=\"mw-cite-backlink\">^ <a href=\"#cite_ref-RailwayAge_4-0\"><sup><i><b>a</b></i></sup></a> <a href=\"#cite_ref-RailwayAge_4-1\"><sup><i><b>b</b></i></sup></a> <a href=\"#cite_ref-RailwayAge_4-2\"><sup><i><b>c</b></i></sup></a> <a href=\"#cite_ref-RailwayAge_4-3\"><sup><i><b>d</b></i></sup></a></span> <span class=\"reference-text\"><link rel=\"mw-deduplicated-inline-style\" href=\"mw-data:TemplateStyles:r999302996\"/><cite id=\"CITEREFRobin_Bromby2004\" class=\"citation book cs1\">Robin Bromby (2004). <i>The Railway Age in Australia</i>. Lothian Press. p.&#160;99. <a href=\"/wiki/ISBN_(identifier)\" class=\"mw-redirect\" title=\"ISBN (identifier)\">ISBN</a>&#160;<a href=\"/wiki/Special:BookSources/0-7344-0715-7\" title=\"Special:BookSources/0-7344-0715-7\"><bdi>0-7344-0715-7</bdi></a>.</cite><span title=\"ctx_ver=Z39.88-2004&amp;rft_val_fmt=info%3Aofi%2Ffmt%3Akev%3Amtx%3Abook&amp;rft.genre=book&amp;rft.btitle=The+Railway+Age+in+Australia&amp;rft.pages=99&amp;rft.pub=Lothian+Press&amp;rft.date=2004&amp;rft.isbn=0-7344-0715-7&amp;rft.au=Robin+Bromby&amp;rfr_id=info%3Asid%2Fen.wikipedia.org%3AThe+Vinelander\" class=\"Z3988\"></span></span>\\n</li>\\n<li id=\"cite_note-5\"><span class=\"mw-cite-backlink\"><b><a href=\"#cite_ref-5\">^</a></b></span> <span class=\"reference-text\"><link rel=\"mw-deduplicated-inline-style\" href=\"mw-data:TemplateStyles:r999302996\"/><cite class=\"citation web cs1\"><a rel=\"nofollow\" class=\"external text\" href=\"http://www.comrails.com/sar_carriages/a0203_sj.html\">\"Steel Sleeping Carriages - V&amp;SAR Joint Stock\"</a>. www.comrails.com<span class=\"reference-accessdate\">. Retrieved <span class=\"nowrap\">30 August</span> 2008</span>.</cite><span title=\"ctx_ver=Z39.88-2004&amp;rft_val_fmt=info%3Aofi%2Ffmt%3Akev%3Amtx%3Abook&amp;rft.genre=unknown&amp;rft.btitle=Steel+Sleeping+Carriages+-+V%26SAR+Joint+Stock&amp;rft.pub=www.comrails.com&amp;rft_id=http%3A%2F%2Fwww.comrails.com%2Fsar_carriages%2Fa0203_sj.html&amp;rfr_id=info%3Asid%2Fen.wikipedia.org%3AThe+Vinelander\" class=\"Z3988\"></span></span>\\n</li>\\n<li id=\"cite_note-vicrail6283-6\"><span class=\"mw-cite-backlink\"><b><a href=\"#cite_ref-vicrail6283_6-0\">^</a></b></span> <span class=\"reference-text\"><link rel=\"mw-deduplicated-inline-style\" href=\"mw-data:TemplateStyles:r999302996\"/><cite id=\"CITEREFVincent_Adams_Winter1990\" class=\"citation book cs1\">Vincent Adams Winter (1990). <i>VR and VicRail: 1962 - 1983</i>. p.&#160;206. <a href=\"/wiki/ISBN_(identifier)\" class=\"mw-redirect\" title=\"ISBN (identifier)\">ISBN</a>&#160;<a href=\"/wiki/Special:BookSources/0-9592069-3-0\" title=\"Special:BookSources/0-9592069-3-0\"><bdi>0-9592069-3-0</bdi></a>.</cite><span title=\"ctx_ver=Z39.88-2004&amp;rft_val_fmt=info%3Aofi%2Ffmt%3Akev%3Amtx%3Abook&amp;rft.genre=book&amp;rft.btitle=VR+and+VicRail%3A+1962+-+1983&amp;rft.pages=206&amp;rft.date=1990&amp;rft.isbn=0-9592069-3-0&amp;rft.au=Vincent+Adams+Winter&amp;rfr_id=info%3Asid%2Fen.wikipedia.org%3AThe+Vinelander\" class=\"Z3988\"></span></span>\\n</li>\\n<li id=\"cite_note-7\"><span class=\"mw-cite-backlink\"><b><a href=\"#cite_ref-7\">^</a></b></span> <span class=\"reference-text\"><link rel=\"mw-deduplicated-inline-style\" href=\"mw-data:TemplateStyles:r999302996\"/><cite class=\"citation magazine cs1\">\"General News\". <i>Newsrail</i>. Australian Railway Historical Society. September 1986. p.&#160;274.</cite><span title=\"ctx_ver=Z39.88-2004&amp;rft_val_fmt=info%3Aofi%2Ffmt%3Akev%3Amtx%3Ajournal&amp;rft.genre=article&amp;rft.jtitle=Newsrail&amp;rft.atitle=General+News&amp;rft.pages=274&amp;rft.date=1986-09&amp;rfr_id=info%3Asid%2Fen.wikipedia.org%3AThe+Vinelander\" class=\"Z3988\"></span></span>\\n</li>\\n<li id=\"cite_note-8\"><span class=\"mw-cite-backlink\"><b><a href=\"#cite_ref-8\">^</a></b></span> <span class=\"reference-text\">\"Investment saves long distance train\" <i>Railway Gazette International</i> May 1986 page 327</span>\\n</li>\\n<li id=\"cite_note-9\"><span class=\"mw-cite-backlink\"><b><a href=\"#cite_ref-9\">^</a></b></span> <span class=\"reference-text\"><link rel=\"mw-deduplicated-inline-style\" href=\"mw-data:TemplateStyles:r999302996\"/><cite class=\"citation web cs1\"><a rel=\"nofollow\" class=\"external text\" href=\"https://web.archive.org/web/20120213134749/http://www.legislation.vic.gov.au/domino/Web_Notes/MediaRelArc02.nsf/17ed9415cb17e3d34a25682500254734/e41833f1ff2e46144a25689d007c4a17!OpenDocument&amp;Click=\">\"Minister Announces Mildura Passenger Rail Service Review\"</a>. <i>Media Release: Minister for Transport</i>. www.legislation.vic.gov.au. 9 March 2000. Archived from <a rel=\"nofollow\" class=\"external text\" href=\"http://www.legislation.vic.gov.au/domino/Web_Notes/MediaRelArc02.nsf/17ed9415cb17e3d34a25682500254734/e41833f1ff2e46144a25689d007c4a17!OpenDocument&amp;Click=\">the original</a> on 13 February 2012<span class=\"reference-accessdate\">. Retrieved <span class=\"nowrap\">23 July</span> 2019</span>.</cite><span title=\"ctx_ver=Z39.88-2004&amp;rft_val_fmt=info%3Aofi%2Ffmt%3Akev%3Amtx%3Ajournal&amp;rft.genre=unknown&amp;rft.jtitle=Media+Release%3A+Minister+for+Transport&amp;rft.atitle=Minister+Announces+Mildura+Passenger+Rail+Service+Review&amp;rft.date=2000-03-09&amp;rft_id=http%3A%2F%2Fwww.legislation.vic.gov.au%2Fdomino%2FWeb_Notes%2FMediaRelArc02.nsf%2F17ed9415cb17e3d34a25682500254734%2Fe41833f1ff2e46144a25689d007c4a17%21OpenDocument%26Click%3D&amp;rfr_id=info%3Asid%2Fen.wikipedia.org%3AThe+Vinelander\" class=\"Z3988\"></span></span>\\n</li>\\n<li id=\"cite_note-10\"><span class=\"mw-cite-backlink\"><b><a href=\"#cite_ref-10\">^</a></b></span> <span class=\"reference-text\"><link rel=\"mw-deduplicated-inline-style\" href=\"mw-data:TemplateStyles:r999302996\"/><cite class=\"citation web cs1\"><a rel=\"nofollow\" class=\"external text\" href=\"https://web.archive.org/web/20071005054950/http://australianpolitics.com/states/vic/savage_statement.shtml\">\"Russell Savage Statement Supporting A Minority Labor Government\"</a>. australianpolitics.com. 18 October 1999. Archived from <a rel=\"nofollow\" class=\"external text\" href=\"http://australianpolitics.com/states/vic/savage_statement.shtml\">the original</a> on 5 October 2007<span class=\"reference-accessdate\">. Retrieved <span class=\"nowrap\">30 August</span> 2008</span>.</cite><span title=\"ctx_ver=Z39.88-2004&amp;rft_val_fmt=info%3Aofi%2Ffmt%3Akev%3Amtx%3Abook&amp;rft.genre=unknown&amp;rft.btitle=Russell+Savage+Statement+Supporting+A+Minority+Labor+Government&amp;rft.pub=australianpolitics.com&amp;rft.date=1999-10-18&amp;rft_id=http%3A%2F%2Faustralianpolitics.com%2Fstates%2Fvic%2Fsavage_statement.shtml&amp;rfr_id=info%3Asid%2Fen.wikipedia.org%3AThe+Vinelander\" class=\"Z3988\"></span></span>\\n</li>\\n<li id=\"cite_note-11\"><span class=\"mw-cite-backlink\"><b><a href=\"#cite_ref-11\">^</a></b></span> <span class=\"reference-text\"><link rel=\"mw-deduplicated-inline-style\" href=\"mw-data:TemplateStyles:r999302996\"/><cite class=\"citation web cs1\"><a rel=\"nofollow\" class=\"external text\" href=\"https://web.archive.org/web/20150530005813/http://www.tramtimetable.com.au/tram-timetable-articles/1993/10/1/browns-transport-revolution-is-right-on-the-track/\">\"Brown\\'s Transport Revolution Is Right On The Track\"</a>. Tram Timetable. 1 October 1993. Archived from <a rel=\"nofollow\" class=\"external text\" href=\"http://www.tramtimetable.com.au/tram-timetable-articles/1993/10/1/browns-transport-revolution-is-right-on-the-track/\">the original</a> on 30 May 2015<span class=\"reference-accessdate\">. Retrieved <span class=\"nowrap\">23 July</span> 2019</span>.</cite><span title=\"ctx_ver=Z39.88-2004&amp;rft_val_fmt=info%3Aofi%2Ffmt%3Akev%3Amtx%3Abook&amp;rft.genre=unknown&amp;rft.btitle=Brown%27s+Transport+Revolution+Is+Right+On+The+Track&amp;rft.pub=Tram+Timetable&amp;rft.date=1993-10-01&amp;rft_id=http%3A%2F%2Fwww.tramtimetable.com.au%2Ftram-timetable-articles%2F1993%2F10%2F1%2Fbrowns-transport-revolution-is-right-on-the-track%2F&amp;rfr_id=info%3Asid%2Fen.wikipedia.org%3AThe+Vinelander\" class=\"Z3988\"></span></span>\\n</li>\\n</ol></div>\\n<h2><span class=\"mw-headline\" id=\"External_links\">External links</span><span class=\"mw-editsection\"><span class=\"mw-editsection-bracket\">[</span><a href=\"/w/index.php?title=The_Vinelander&amp;action=edit&amp;section=4\" title=\"Edit section: External links\">edit</a><span class=\"mw-editsection-bracket\">]</span></span></h2>\\n<ul><li><a rel=\"nofollow\" class=\"external text\" href=\"http://www.prov.vic.gov.au/images/12903/12903-p00001-000922-120.asp\"><i>Victoria\\'s Latest Named Train, \"The Vinelander\"</i></a>, advertising poster from November 1972, Public Record Office Victoria.</li></ul>\\n<div role=\"navigation\" class=\"navbox\" aria-labelledby=\"Named_trains_of_the_Victorian_Railways\" style=\"padding:3px\"><table class=\"nowraplinks mw-collapsible autocollapse navbox-inner\" style=\"border-spacing:0;background:transparent;color:inherit\"><tbody><tr><th scope=\"col\" class=\"navbox-title\" colspan=\"2\"><style data-mw-deduplicate=\"TemplateStyles:r992953826\">.mw-parser-output .navbar{display:inline;font-size:88%;font-weight:normal}.mw-parser-output .navbar-collapse{float:left;text-align:left}.mw-parser-output .navbar-boxtext{word-spacing:0}.mw-parser-output .navbar ul{display:inline-block;white-space:nowrap;line-height:inherit}.mw-parser-output .navbar-brackets::before{margin-right:-0.125em;content:\"[ \"}.mw-parser-output .navbar-brackets::after{margin-left:-0.125em;content:\" ]\"}.mw-parser-output .navbar li{word-spacing:-0.125em}.mw-parser-output .navbar-mini abbr{font-variant:small-caps;border-bottom:none;text-decoration:none;cursor:inherit}.mw-parser-output .navbar-ct-full{font-size:114%;margin:0 7em}.mw-parser-output .navbar-ct-mini{font-size:114%;margin:0 4em}.mw-parser-output .infobox .navbar{font-size:100%}.mw-parser-output .navbox .navbar{display:block;font-size:100%}.mw-parser-output .navbox-title .navbar{float:left;text-align:left;margin-right:0.5em}</style><div class=\"navbar plainlinks hlist navbar-mini\"><ul><li class=\"nv-view\"><a href=\"/wiki/Template:Named_trains_of_the_Victorian_Railways\" title=\"Template:Named trains of the Victorian Railways\"><abbr title=\"View this template\" style=\";;background:none transparent;border:none;box-shadow:none;padding:0;\">v</abbr></a></li><li class=\"nv-talk\"><a href=\"/wiki/Template_talk:Named_trains_of_the_Victorian_Railways\" title=\"Template talk:Named trains of the Victorian Railways\"><abbr title=\"Discuss this template\" style=\";;background:none transparent;border:none;box-shadow:none;padding:0;\">t</abbr></a></li><li class=\"nv-edit\"><a class=\"external text\" href=\"https://en.wikipedia.org/w/index.php?title=Template:Named_trains_of_the_Victorian_Railways&amp;action=edit\"><abbr title=\"Edit this template\" style=\";;background:none transparent;border:none;box-shadow:none;padding:0;\">e</abbr></a></li></ul></div><div id=\"Named_trains_of_the_Victorian_Railways\" style=\"font-size:114%;margin:0 4em\">Named trains of the <a href=\"/wiki/Victorian_Railways\" title=\"Victorian Railways\">Victorian Railways</a></div></th></tr><tr><td class=\"navbox-abovebelow\" colspan=\"2\"><div id=\"List_of_named_trains_in_Victoria\"><a href=\"/wiki/List_of_named_trains_in_Victoria\" title=\"List of named trains in Victoria\">List of named trains in Victoria</a></div></td></tr><tr><th scope=\"row\" class=\"navbox-group\" style=\"width:1%\">Regular passenger trains</th><td class=\"navbox-list navbox-odd hlist\" style=\"text-align:left;border-left-width:2px;border-left-style:solid;width:100%;padding:0px\"><div style=\"padding:0em 0.25em\">\\n<ul><li><a href=\"/wiki/Tait_(train)#The_Boat_Train\" title=\"Tait (train)\">The Boat Train</a></li>\\n<li><a href=\"/wiki/Geelong_Flier\" title=\"Geelong Flier\">Geelong Flier</a></li>\\n<li><a href=\"/wiki/The_Gippslander\" title=\"The Gippslander\">The Gippslander</a></li>\\n<li><a href=\"/wiki/Intercapital_Daylight\" title=\"Intercapital Daylight\">Intercapital Daylight</a></li>\\n<li><a href=\"/wiki/The_Overland\" title=\"The Overland\">The Overland</a></li>\\n<li><a href=\"/wiki/Southern_Aurora\" title=\"Southern Aurora\">Southern Aurora</a></li>\\n<li><a href=\"/wiki/Spirit_of_Progress\" title=\"Spirit of Progress\">Spirit of Progress</a></li>\\n<li><a href=\"/wiki/Sydney/Melbourne_Express\" title=\"Sydney/Melbourne Express\">Sydney/Melbourne Express</a></li>\\n<li><a class=\"mw-selflink selflink\">The Vinelander</a></li>\\n<li><a href=\"/wiki/List_of_named_trains_in_Victoria#The_West_Coaster\" title=\"List of named trains in Victoria\">The West Coaster</a></li></ul>\\n</div></td></tr><tr><th scope=\"row\" class=\"navbox-group\" style=\"width:1%\">Other trains</th><td class=\"navbox-list navbox-even hlist\" style=\"text-align:left;border-left-width:2px;border-left-style:solid;width:100%;padding:0px\"><div style=\"padding:0em 0.25em\">\\n<ul><li><a href=\"/wiki/Victorian_Railways_PL_type_carriage#1942_Hospital_carriages,_1951_Jubilee_Train\" title=\"Victorian Railways PL type carriage\">Ambulance/Hospital Train</a></li>\\n<li><a href=\"/wiki/Better_Farming_Train_(Victoria)\" title=\"Better Farming Train (Victoria)\">Better Farming Train</a></li>\\n<li><a href=\"/wiki/Victorian_Railways_V_type_carriage#The_Display_Train\" title=\"Victorian Railways V type carriage\">The Display Train</a></li>\\n<li><a href=\"/wiki/Fruit_Flyer\" title=\"Fruit Flyer\">Fruit Flyer</a></li>\\n<li><a href=\"/wiki/Victorian_Railways_PL_type_carriage#1942_Hospital_carriages,_1951_Jubilee_Train\" title=\"Victorian Railways PL type carriage\">The Jubilee Train</a></li>\\n<li><a href=\"/wiki/Reso_Train\" title=\"Reso Train\">Reso Train</a></li>\\n<li><a href=\"/wiki/Train_of_Knowledge\" title=\"Train of Knowledge\">Train of Knowledge</a></li>\\n<li><a href=\"/wiki/Victorian_Railways_Royal_Train\" title=\"Victorian Railways Royal Train\">State and Royal Trains</a></li>\\n<li><a href=\"/wiki/Victorian_Railways_fixed_wheel_passenger_carriages#The_Veteran_Train\" title=\"Victorian Railways fixed wheel passenger carriages\">The Veteran Train</a></li>\\n<li><a href=\"/wiki/Victorian_Railways_V_type_carriage#The_Vintage_Train\" title=\"Victorian Railways V type carriage\">The Vintage Train</a></li></ul>\\n</div></td></tr></tbody></table></div>\\n<!-- \\nNewPP limit report\\nParsed by mw1382\\nCached time: 20210316103933\\nCache expiry: 2592000\\nDynamic content: false\\nComplications: [vary‐revision‐sha1]\\nCPU time usage: 0.282 seconds\\nReal time usage: 0.372 seconds\\nPreprocessor visited node count: 1124/1000000\\nPost‐expand include size: 27998/2097152 bytes\\nTemplate argument size: 1186/2097152 bytes\\nHighest expansion depth: 13/40\\nExpensive parser function count: 2/500\\nUnstrip recursion depth: 1/20\\nUnstrip post‐expand size: 31040/5000000 bytes\\nLua time usage: 0.139/10.000 seconds\\nLua memory usage: 4732801/52428800 bytes\\nNumber of Wikibase entities loaded: 0/400\\n-->\\n<!--\\nTransclusion expansion time report (%,ms,calls,template)\\n100.00%  335.180      1 -total\\n 51.13%  171.371      1 Template:Reflist\\n 31.60%  105.912      3 Template:Cite_book\\n 19.40%   65.019      1 Template:Infobox_rail_service\\n 14.11%   47.285      1 Template:Infobox\\n 13.50%   45.266      1 Template:Use_dmy_dates\\n  8.87%   29.745      5 Template:Cite_web\\n  8.75%   29.335      1 Template:Named_trains_of_the_Victorian_Railways\\n  8.53%   28.605      2 Template:DMCA\\n  7.48%   25.061      1 Template:Navbox\\n-->\\n\\n<!-- Saved in parser cache with key enwiki:pcache:idhash:19100873-0!canonical and timestamp 20210316103933 and revision id 1012433723. Serialized with JSON.\\n -->\\n</div><noscript><img src=\"//en.wikipedia.org/wiki/Special:CentralAutoLogin/start?type=1x1\" alt=\"\" title=\"\" width=\"1\" height=\"1\" style=\"border: none; position: absolute;\" /></noscript>\\n<div class=\"printfooter\">Retrieved from \"<a dir=\"ltr\" href=\"https://en.wikipedia.org/w/index.php?title=The_Vinelander&amp;oldid=1012433723\">https://en.wikipedia.org/w/index.php?title=The_Vinelander&amp;oldid=1012433723</a>\"</div></div>\\n\\t\\t<div id=\"catlinks\" class=\"catlinks\" data-mw=\"interface\"><div id=\"mw-normal-catlinks\" class=\"mw-normal-catlinks\"><a href=\"/wiki/Help:Category\" title=\"Help:Category\">Categories</a>: <ul><li><a href=\"/wiki/Category:Named_passenger_trains_of_Victoria_(Australia)\" title=\"Category:Named passenger trains of Victoria (Australia)\">Named passenger trains of Victoria (Australia)</a></li><li><a href=\"/wiki/Category:Night_trains_of_Australia\" title=\"Category:Night trains of Australia\">Night trains of Australia</a></li><li><a href=\"/wiki/Category:Railway_services_introduced_in_1972\" title=\"Category:Railway services introduced in 1972\">Railway services introduced in 1972</a></li><li><a href=\"/wiki/Category:Railway_services_discontinued_in_1993\" title=\"Category:Railway services discontinued in 1993\">Railway services discontinued in 1993</a></li><li><a href=\"/wiki/Category:1972_establishments_in_Australia\" title=\"Category:1972 establishments in Australia\">1972 establishments in Australia</a></li><li><a href=\"/wiki/Category:1993_disestablishments_in_Australia\" title=\"Category:1993 disestablishments in Australia\">1993 disestablishments in Australia</a></li><li><a href=\"/wiki/Category:Discontinued_railway_services_in_Australia\" title=\"Category:Discontinued railway services in Australia\">Discontinued railway services in Australia</a></li></ul></div><div id=\"mw-hidden-catlinks\" class=\"mw-hidden-catlinks mw-hidden-cats-hidden\">Hidden categories: <ul><li><a href=\"/wiki/Category:Use_dmy_dates_from_June_2015\" title=\"Category:Use dmy dates from June 2015\">Use dmy dates from June 2015</a></li><li><a href=\"/wiki/Category:Use_Australian_English_from_June_2015\" title=\"Category:Use Australian English from June 2015\">Use Australian English from June 2015</a></li><li><a href=\"/wiki/Category:All_Wikipedia_articles_written_in_Australian_English\" title=\"Category:All Wikipedia articles written in Australian English\">All Wikipedia articles written in Australian English</a></li></ul></div></div>\\n\\t</div>\\n</div>\\n<div id=\\'mw-data-after-content\\'>\\n\\t<div class=\"read-more-container\"></div>\\n</div>\\n\\n<div id=\"mw-navigation\">\\n\\t<h2>Navigation menu</h2>\\n\\t<div id=\"mw-head\">\\n\\t\\t<!-- Please do not use role attribute as CSS selector, it is deprecated. -->\\n<nav id=\"p-personal\" class=\"mw-portlet mw-portlet-personal vector-menu\" aria-labelledby=\"p-personal-label\" role=\"navigation\" \\n\\t >\\n\\t<h3 id=\"p-personal-label\" class=\"vector-menu-heading\">\\n\\t\\t<span>Personal tools</span>\\n\\t</h3>\\n\\t<div class=\"vector-menu-content\">\\n\\t\\t<ul class=\"vector-menu-content-list\"><li id=\"pt-anonuserpage\">Not logged in</li><li id=\"pt-anontalk\"><a href=\"/wiki/Special:MyTalk\" title=\"Discussion about edits from this IP address [n]\" accesskey=\"n\">Talk</a></li><li id=\"pt-anoncontribs\"><a href=\"/wiki/Special:MyContributions\" title=\"A list of edits made from this IP address [y]\" accesskey=\"y\">Contributions</a></li><li id=\"pt-createaccount\"><a href=\"/w/index.php?title=Special:CreateAccount&amp;returnto=The+Vinelander\" title=\"You are encouraged to create an account and log in; however, it is not mandatory\">Create account</a></li><li id=\"pt-login\"><a href=\"/w/index.php?title=Special:UserLogin&amp;returnto=The+Vinelander\" title=\"You&#039;re encouraged to log in; however, it&#039;s not mandatory. [o]\" accesskey=\"o\">Log in</a></li></ul>\\n\\t\\t\\n\\t</div>\\n</nav>\\n\\n\\t\\t<div id=\"left-navigation\">\\n\\t\\t\\t<!-- Please do not use role attribute as CSS selector, it is deprecated. -->\\n<nav id=\"p-namespaces\" class=\"mw-portlet mw-portlet-namespaces vector-menu vector-menu-tabs\" aria-labelledby=\"p-namespaces-label\" role=\"navigation\" \\n\\t >\\n\\t<h3 id=\"p-namespaces-label\" class=\"vector-menu-heading\">\\n\\t\\t<span>Namespaces</span>\\n\\t</h3>\\n\\t<div class=\"vector-menu-content\">\\n\\t\\t<ul class=\"vector-menu-content-list\"><li id=\"ca-nstab-main\" class=\"selected\"><a href=\"/wiki/The_Vinelander\" title=\"View the content page [c]\" accesskey=\"c\">Article</a></li><li id=\"ca-talk\"><a href=\"/wiki/Talk:The_Vinelander\" rel=\"discussion\" title=\"Discuss improvements to the content page [t]\" accesskey=\"t\">Talk</a></li></ul>\\n\\t\\t\\n\\t</div>\\n</nav>\\n\\n\\t\\t\\t<!-- Please do not use role attribute as CSS selector, it is deprecated. -->\\n<nav id=\"p-variants\" class=\"mw-portlet mw-portlet-variants emptyPortlet vector-menu vector-menu-dropdown\" aria-labelledby=\"p-variants-label\" role=\"navigation\" \\n\\t >\\n\\t<input type=\"checkbox\" class=\"vector-menu-checkbox\" aria-labelledby=\"p-variants-label\" />\\n\\t<h3 id=\"p-variants-label\" class=\"vector-menu-heading\">\\n\\t\\t<span>Variants</span>\\n\\t</h3>\\n\\t<div class=\"vector-menu-content\">\\n\\t\\t<ul class=\"vector-menu-content-list\"></ul>\\n\\t\\t\\n\\t</div>\\n</nav>\\n\\n\\t\\t</div>\\n\\t\\t<div id=\"right-navigation\">\\n\\t\\t\\t<!-- Please do not use role attribute as CSS selector, it is deprecated. -->\\n<nav id=\"p-views\" class=\"mw-portlet mw-portlet-views vector-menu vector-menu-tabs\" aria-labelledby=\"p-views-label\" role=\"navigation\" \\n\\t >\\n\\t<h3 id=\"p-views-label\" class=\"vector-menu-heading\">\\n\\t\\t<span>Views</span>\\n\\t</h3>\\n\\t<div class=\"vector-menu-content\">\\n\\t\\t<ul class=\"vector-menu-content-list\"><li id=\"ca-view\" class=\"selected\"><a href=\"/wiki/The_Vinelander\">Read</a></li><li id=\"ca-edit\"><a href=\"/w/index.php?title=The_Vinelander&amp;action=edit\" title=\"Edit this page [e]\" accesskey=\"e\">Edit</a></li><li id=\"ca-history\"><a href=\"/w/index.php?title=The_Vinelander&amp;action=history\" title=\"Past revisions of this page [h]\" accesskey=\"h\">View history</a></li></ul>\\n\\t\\t\\n\\t</div>\\n</nav>\\n\\n\\t\\t\\t<!-- Please do not use role attribute as CSS selector, it is deprecated. -->\\n<nav id=\"p-cactions\" class=\"mw-portlet mw-portlet-cactions emptyPortlet vector-menu vector-menu-dropdown\" aria-labelledby=\"p-cactions-label\" role=\"navigation\" \\n\\t >\\n\\t<input type=\"checkbox\" class=\"vector-menu-checkbox\" aria-labelledby=\"p-cactions-label\" />\\n\\t<h3 id=\"p-cactions-label\" class=\"vector-menu-heading\">\\n\\t\\t<span>More</span>\\n\\t</h3>\\n\\t<div class=\"vector-menu-content\">\\n\\t\\t<ul class=\"vector-menu-content-list\"></ul>\\n\\t\\t\\n\\t</div>\\n</nav>\\n\\n\\t\\t\\t<div id=\"p-search\" role=\"search\" >\\n\\t<h3 >\\n\\t\\t<label for=\"searchInput\">Search</label>\\n\\t</h3>\\n\\t<form action=\"/w/index.php\" id=\"searchform\">\\n\\t\\t<div id=\"simpleSearch\" data-search-loc=\"header-navigation\">\\n\\t\\t\\t<input type=\"search\" name=\"search\" placeholder=\"Search Wikipedia\" autocapitalize=\"sentences\" title=\"Search Wikipedia [f]\" accesskey=\"f\" id=\"searchInput\"/>\\n\\t\\t\\t<input type=\"hidden\" name=\"title\" value=\"Special:Search\"/>\\n\\t\\t\\t<input type=\"submit\" name=\"fulltext\" value=\"Search\" title=\"Search Wikipedia for this text\" id=\"mw-searchButton\" class=\"searchButton mw-fallbackSearchButton\"/>\\n\\t\\t\\t<input type=\"submit\" name=\"go\" value=\"Go\" title=\"Go to a page with this exact name if it exists\" id=\"searchButton\" class=\"searchButton\"/>\\n\\t\\t</div>\\n\\t</form>\\n</div>\\n\\n\\t\\t</div>\\n\\t</div>\\n\\t\\n<div id=\"mw-panel\">\\n\\t<div id=\"p-logo\" role=\"banner\">\\n\\t\\t<a class=\"mw-wiki-logo\" href=\"/wiki/Main_Page\"\\n\\t\\t\\ttitle=\"Visit the main page\"></a>\\n\\t</div>\\n\\t<!-- Please do not use role attribute as CSS selector, it is deprecated. -->\\n<nav id=\"p-navigation\" class=\"mw-portlet mw-portlet-navigation vector-menu vector-menu-portal portal\" aria-labelledby=\"p-navigation-label\" role=\"navigation\" \\n\\t >\\n\\t<h3 id=\"p-navigation-label\" class=\"vector-menu-heading\">\\n\\t\\t<span>Navigation</span>\\n\\t</h3>\\n\\t<div class=\"vector-menu-content\">\\n\\t\\t<ul class=\"vector-menu-content-list\"><li id=\"n-mainpage-description\"><a href=\"/wiki/Main_Page\" title=\"Visit the main page [z]\" accesskey=\"z\">Main page</a></li><li id=\"n-contents\"><a href=\"/wiki/Wikipedia:Contents\" title=\"Guides to browsing Wikipedia\">Contents</a></li><li id=\"n-currentevents\"><a href=\"/wiki/Portal:Current_events\" title=\"Articles related to current events\">Current events</a></li><li id=\"n-randompage\"><a href=\"/wiki/Special:Random\" title=\"Visit a randomly selected article [x]\" accesskey=\"x\">Random article</a></li><li id=\"n-aboutsite\"><a href=\"/wiki/Wikipedia:About\" title=\"Learn about Wikipedia and how it works\">About Wikipedia</a></li><li id=\"n-contactpage\"><a href=\"//en.wikipedia.org/wiki/Wikipedia:Contact_us\" title=\"How to contact Wikipedia\">Contact us</a></li><li id=\"n-sitesupport\"><a href=\"https://donate.wikimedia.org/wiki/Special:FundraiserRedirector?utm_source=donate&amp;utm_medium=sidebar&amp;utm_campaign=C13_en.wikipedia.org&amp;uselang=en\" title=\"Support us by donating to the Wikimedia Foundation\">Donate</a></li></ul>\\n\\t\\t\\n\\t</div>\\n</nav>\\n\\n\\t<!-- Please do not use role attribute as CSS selector, it is deprecated. -->\\n<nav id=\"p-interaction\" class=\"mw-portlet mw-portlet-interaction vector-menu vector-menu-portal portal\" aria-labelledby=\"p-interaction-label\" role=\"navigation\" \\n\\t >\\n\\t<h3 id=\"p-interaction-label\" class=\"vector-menu-heading\">\\n\\t\\t<span>Contribute</span>\\n\\t</h3>\\n\\t<div class=\"vector-menu-content\">\\n\\t\\t<ul class=\"vector-menu-content-list\"><li id=\"n-help\"><a href=\"/wiki/Help:Contents\" title=\"Guidance on how to use and edit Wikipedia\">Help</a></li><li id=\"n-introduction\"><a href=\"/wiki/Help:Introduction\" title=\"Learn how to edit Wikipedia\">Learn to edit</a></li><li id=\"n-portal\"><a href=\"/wiki/Wikipedia:Community_portal\" title=\"The hub for editors\">Community portal</a></li><li id=\"n-recentchanges\"><a href=\"/wiki/Special:RecentChanges\" title=\"A list of recent changes to Wikipedia [r]\" accesskey=\"r\">Recent changes</a></li><li id=\"n-upload\"><a href=\"/wiki/Wikipedia:File_Upload_Wizard\" title=\"Add images or other media for use on Wikipedia\">Upload file</a></li></ul>\\n\\t\\t\\n\\t</div>\\n</nav>\\n<!-- Please do not use role attribute as CSS selector, it is deprecated. -->\\n<nav id=\"p-tb\" class=\"mw-portlet mw-portlet-tb vector-menu vector-menu-portal portal\" aria-labelledby=\"p-tb-label\" role=\"navigation\" \\n\\t >\\n\\t<h3 id=\"p-tb-label\" class=\"vector-menu-heading\">\\n\\t\\t<span>Tools</span>\\n\\t</h3>\\n\\t<div class=\"vector-menu-content\">\\n\\t\\t<ul class=\"vector-menu-content-list\"><li id=\"t-whatlinkshere\"><a href=\"/wiki/Special:WhatLinksHere/The_Vinelander\" title=\"List of all English Wikipedia pages containing links to this page [j]\" accesskey=\"j\">What links here</a></li><li id=\"t-recentchangeslinked\"><a href=\"/wiki/Special:RecentChangesLinked/The_Vinelander\" rel=\"nofollow\" title=\"Recent changes in pages linked from this page [k]\" accesskey=\"k\">Related changes</a></li><li id=\"t-upload\"><a href=\"/wiki/Wikipedia:File_Upload_Wizard\" title=\"Upload files [u]\" accesskey=\"u\">Upload file</a></li><li id=\"t-specialpages\"><a href=\"/wiki/Special:SpecialPages\" title=\"A list of all special pages [q]\" accesskey=\"q\">Special pages</a></li><li id=\"t-permalink\"><a href=\"/w/index.php?title=The_Vinelander&amp;oldid=1012433723\" title=\"Permanent link to this revision of this page\">Permanent link</a></li><li id=\"t-info\"><a href=\"/w/index.php?title=The_Vinelander&amp;action=info\" title=\"More information about this page\">Page information</a></li><li id=\"t-cite\"><a href=\"/w/index.php?title=Special:CiteThisPage&amp;page=The_Vinelander&amp;id=1012433723&amp;wpFormIdentifier=titleform\" title=\"Information on how to cite this page\">Cite this page</a></li><li id=\"t-wikibase\"><a href=\"https://www.wikidata.org/wiki/Special:EntityPage/Q7932449\" title=\"Structured data on this page hosted by Wikidata [g]\" accesskey=\"g\">Wikidata item</a></li></ul>\\n\\t\\t\\n\\t</div>\\n</nav>\\n<!-- Please do not use role attribute as CSS selector, it is deprecated. -->\\n<nav id=\"p-coll-print_export\" class=\"mw-portlet mw-portlet-coll-print_export vector-menu vector-menu-portal portal\" aria-labelledby=\"p-coll-print_export-label\" role=\"navigation\" \\n\\t >\\n\\t<h3 id=\"p-coll-print_export-label\" class=\"vector-menu-heading\">\\n\\t\\t<span>Print/export</span>\\n\\t</h3>\\n\\t<div class=\"vector-menu-content\">\\n\\t\\t<ul class=\"vector-menu-content-list\"><li id=\"coll-download-as-rl\"><a href=\"/w/index.php?title=Special:DownloadAsPdf&amp;page=The_Vinelander&amp;action=show-download-screen\" title=\"Download this page as a PDF file\">Download as PDF</a></li><li id=\"t-print\"><a href=\"/w/index.php?title=The_Vinelander&amp;printable=yes\" title=\"Printable version of this page [p]\" accesskey=\"p\">Printable version</a></li></ul>\\n\\t\\t\\n\\t</div>\\n</nav>\\n<!-- Please do not use role attribute as CSS selector, it is deprecated. -->\\n<nav id=\"p-wikibase-otherprojects\" class=\"mw-portlet mw-portlet-wikibase-otherprojects vector-menu vector-menu-portal portal\" aria-labelledby=\"p-wikibase-otherprojects-label\" role=\"navigation\" \\n\\t >\\n\\t<h3 id=\"p-wikibase-otherprojects-label\" class=\"vector-menu-heading\">\\n\\t\\t<span>In other projects</span>\\n\\t</h3>\\n\\t<div class=\"vector-menu-content\">\\n\\t\\t<ul class=\"vector-menu-content-list\"><li class=\"wb-otherproject-link wb-otherproject-commons\"><a href=\"https://commons.wikimedia.org/wiki/Category:The_Vinelander\" hreflang=\"en\">Wikimedia Commons</a></li></ul>\\n\\t\\t\\n\\t</div>\\n</nav>\\n\\n\\t<!-- Please do not use role attribute as CSS selector, it is deprecated. -->\\n<nav id=\"p-lang\" class=\"mw-portlet mw-portlet-lang vector-menu vector-menu-portal portal\" aria-labelledby=\"p-lang-label\" role=\"navigation\" \\n\\t >\\n\\t<h3 id=\"p-lang-label\" class=\"vector-menu-heading\">\\n\\t\\t<span>Languages</span>\\n\\t</h3>\\n\\t<div class=\"vector-menu-content\">\\n\\t\\t<ul class=\"vector-menu-content-list\"></ul>\\n\\t\\t<div class=\"after-portlet after-portlet-lang\"><span class=\"uls-after-portlet-link\"></span><span class=\"wb-langlinks-add wb-langlinks-link\"><a href=\"https://www.wikidata.org/wiki/Special:EntityPage/Q7932449#sitelinks-wikipedia\" title=\"Add interlanguage links\" class=\"wbc-editpage\">Add links</a></span></div>\\n\\t</div>\\n</nav>\\n\\n</div>\\n\\n</div>\\n<footer id=\"footer\" class=\"mw-footer\" role=\"contentinfo\" >\\n\\t<ul id=\"footer-info\" >\\n\\t<li id=\"footer-info-lastmod\"> This page was last edited on 16 March 2021, at 10:39<span class=\"anonymous-show\">&#160;(UTC)</span>.</li>\\n\\t<li id=\"footer-info-copyright\">Text is available under the <a rel=\"license\" href=\"//en.wikipedia.org/wiki/Wikipedia:Text_of_Creative_Commons_Attribution-ShareAlike_3.0_Unported_License\">Creative Commons Attribution-ShareAlike License</a><a rel=\"license\" href=\"//creativecommons.org/licenses/by-sa/3.0/\" style=\"display:none;\"></a>;\\nadditional terms may apply.  By using this site, you agree to the <a href=\"//foundation.wikimedia.org/wiki/Terms_of_Use\">Terms of Use</a> and <a href=\"//foundation.wikimedia.org/wiki/Privacy_policy\">Privacy Policy</a>. Wikipedia® is a registered trademark of the <a href=\"//www.wikimediafoundation.org/\">Wikimedia Foundation, Inc.</a>, a non-profit organization.</li>\\n</ul>\\n\\n\\t<ul id=\"footer-places\" >\\n\\t<li id=\"footer-places-privacy\"><a href=\"https://foundation.wikimedia.org/wiki/Privacy_policy\" class=\"extiw\" title=\"wmf:Privacy policy\">Privacy policy</a></li>\\n\\t<li id=\"footer-places-about\"><a href=\"/wiki/Wikipedia:About\" title=\"Wikipedia:About\">About Wikipedia</a></li>\\n\\t<li id=\"footer-places-disclaimer\"><a href=\"/wiki/Wikipedia:General_disclaimer\" title=\"Wikipedia:General disclaimer\">Disclaimers</a></li>\\n\\t<li id=\"footer-places-contact\"><a href=\"//en.wikipedia.org/wiki/Wikipedia:Contact_us\">Contact Wikipedia</a></li>\\n\\t<li id=\"footer-places-mobileview\"><a href=\"//en.m.wikipedia.org/w/index.php?title=The_Vinelander&amp;mobileaction=toggle_view_mobile\" class=\"noprint stopMobileRedirectToggle\">Mobile view</a></li>\\n\\t<li id=\"footer-places-developers\"><a href=\"https://www.mediawiki.org/wiki/Special:MyLanguage/How_to_contribute\">Developers</a></li>\\n\\t<li id=\"footer-places-statslink\"><a href=\"https://stats.wikimedia.org/#/en.wikipedia.org\">Statistics</a></li>\\n\\t<li id=\"footer-places-cookiestatement\"><a href=\"https://foundation.wikimedia.org/wiki/Cookie_statement\">Cookie statement</a></li>\\n</ul>\\n\\n\\t<ul id=\"footer-icons\" class=\"noprint\">\\n\\t<li id=\"footer-copyrightico\"><a href=\"https://wikimediafoundation.org/\"><img src=\"/static/images/footer/wikimedia-button.png\" srcset=\"/static/images/footer/wikimedia-button-1.5x.png 1.5x, /static/images/footer/wikimedia-button-2x.png 2x\" width=\"88\" height=\"31\" alt=\"Wikimedia Foundation\" loading=\"lazy\" /></a></li>\\n\\t<li id=\"footer-poweredbyico\"><a href=\"https://www.mediawiki.org/\"><img src=\"/static/images/footer/poweredby_mediawiki_88x31.png\" alt=\"Powered by MediaWiki\" srcset=\"/static/images/footer/poweredby_mediawiki_132x47.png 1.5x, /static/images/footer/poweredby_mediawiki_176x62.png 2x\" width=\"88\" height=\"31\" loading=\"lazy\"/></a></li>\\n</ul>\\n\\n\\t<div style=\"clear: both;\"></div>\\n</footer>\\n\\n\\n<script>(RLQ=window.RLQ||[]).push(function(){mw.config.set({\"wgPageParseReport\":{\"limitreport\":{\"cputime\":\"0.282\",\"walltime\":\"0.372\",\"ppvisitednodes\":{\"value\":1124,\"limit\":1000000},\"postexpandincludesize\":{\"value\":27998,\"limit\":2097152},\"templateargumentsize\":{\"value\":1186,\"limit\":2097152},\"expansiondepth\":{\"value\":13,\"limit\":40},\"expensivefunctioncount\":{\"value\":2,\"limit\":500},\"unstrip-depth\":{\"value\":1,\"limit\":20},\"unstrip-size\":{\"value\":31040,\"limit\":5000000},\"entityaccesscount\":{\"value\":0,\"limit\":400},\"timingprofile\":[\"100.00%  335.180      1 -total\",\" 51.13%  171.371      1 Template:Reflist\",\" 31.60%  105.912      3 Template:Cite_book\",\" 19.40%   65.019      1 Template:Infobox_rail_service\",\" 14.11%   47.285      1 Template:Infobox\",\" 13.50%   45.266      1 Template:Use_dmy_dates\",\"  8.87%   29.745      5 Template:Cite_web\",\"  8.75%   29.335      1 Template:Named_trains_of_the_Victorian_Railways\",\"  8.53%   28.605      2 Template:DMCA\",\"  7.48%   25.061      1 Template:Navbox\"]},\"scribunto\":{\"limitreport-timeusage\":{\"value\":\"0.139\",\"limit\":\"10.000\"},\"limitreport-memusage\":{\"value\":4732801,\"limit\":52428800}},\"cachereport\":{\"origin\":\"mw1382\",\"timestamp\":\"20210316103933\",\"ttl\":2592000,\"transientcontent\":false}}});});</script>\\n<script type=\"application/ld+json\">{\"@context\":\"https:\\\\/\\\\/schema.org\",\"@type\":\"Article\",\"name\":\"The Vinelander\",\"url\":\"https:\\\\/\\\\/en.wikipedia.org\\\\/wiki\\\\/The_Vinelander\",\"sameAs\":\"http:\\\\/\\\\/www.wikidata.org\\\\/entity\\\\/Q7932449\",\"mainEntity\":\"http:\\\\/\\\\/www.wikidata.org\\\\/entity\\\\/Q7932449\",\"author\":{\"@type\":\"Organization\",\"name\":\"Contributors to Wikimedia projects\"},\"publisher\":{\"@type\":\"Organization\",\"name\":\"Wikimedia Foundation, Inc.\",\"logo\":{\"@type\":\"ImageObject\",\"url\":\"https:\\\\/\\\\/www.wikimedia.org\\\\/static\\\\/images\\\\/wmf-hor-googpub.png\"}},\"datePublished\":\"2008-08-30T08:04:56Z\",\"dateModified\":\"2021-03-16T10:39:33Z\",\"image\":\"https:\\\\/\\\\/upload.wikimedia.org\\\\/wikipedia\\\\/commons\\\\/4\\\\/4f\\\\/Vinelander_Carriage_Newport_2014.jpg\"}</script>\\n<script>(RLQ=window.RLQ||[]).push(function(){mw.config.set({\"wgBackendResponseTime\":167,\"wgHostname\":\"mw1327\"});});</script>\\n</body></html>'"
      ]
     },
     "execution_count": 5,
     "metadata": {},
     "output_type": "execute_result"
    }
   ],
   "source": [
    "result.text"
   ]
  },
  {
   "cell_type": "code",
   "execution_count": 9,
   "metadata": {},
   "outputs": [],
   "source": [
    "import bs4"
   ]
  },
  {
   "cell_type": "code",
   "execution_count": 10,
   "metadata": {},
   "outputs": [],
   "source": [
    "soup = bs4.BeautifulSoup(result.text,\"lxml\")"
   ]
  },
  {
   "cell_type": "code",
   "execution_count": 11,
   "metadata": {},
   "outputs": [
    {
     "data": {
      "text/plain": [
       "<!DOCTYPE html>\n",
       "<html class=\"client-nojs\" dir=\"ltr\" lang=\"en\">\n",
       "<head>\n",
       "<meta charset=\"utf-8\"/>\n",
       "<title>The Vinelander - Wikipedia</title>\n",
       "<script>document.documentElement.className=\"client-js\";RLCONF={\"wgBreakFrames\":!1,\"wgSeparatorTransformTable\":[\"\",\"\"],\"wgDigitTransformTable\":[\"\",\"\"],\"wgDefaultDateFormat\":\"dmy\",\"wgMonthNames\":[\"\",\"January\",\"February\",\"March\",\"April\",\"May\",\"June\",\"July\",\"August\",\"September\",\"October\",\"November\",\"December\"],\"wgRequestId\":\"a2270bf5-c8ae-4587-a678-8c3bcc50cdfa\",\"wgCSPNonce\":!1,\"wgCanonicalNamespace\":\"\",\"wgCanonicalSpecialPageName\":!1,\"wgNamespaceNumber\":0,\"wgPageName\":\"The_Vinelander\",\"wgTitle\":\"The Vinelander\",\"wgCurRevisionId\":1012433723,\"wgRevisionId\":1012433723,\"wgArticleId\":19100873,\"wgIsArticle\":!0,\"wgIsRedirect\":!1,\"wgAction\":\"view\",\"wgUserName\":null,\"wgUserGroups\":[\"*\"],\"wgCategories\":[\"Use dmy dates from June 2015\",\"Use Australian English from June 2015\",\"All Wikipedia articles written in Australian English\",\"Named passenger trains of Victoria (Australia)\",\"Night trains of Australia\",\"Railway services introduced in 1972\",\"Railway services discontinued in 1993\",\n",
       "\"1972 establishments in Australia\",\"1993 disestablishments in Australia\",\"Discontinued railway services in Australia\"],\"wgPageContentLanguage\":\"en\",\"wgPageContentModel\":\"wikitext\",\"wgRelevantPageName\":\"The_Vinelander\",\"wgRelevantArticleId\":19100873,\"wgIsProbablyEditable\":!0,\"wgRelevantPageIsProbablyEditable\":!0,\"wgRestrictionEdit\":[],\"wgRestrictionMove\":[],\"wgMediaViewerOnClick\":!0,\"wgMediaViewerEnabledByDefault\":!0,\"wgPopupsReferencePreviews\":!1,\"wgPopupsReferencePreviewsBeta\":!0,\"wgPopupsConflictsWithNavPopupGadget\":!1,\"wgPopupsConflictsWithRefTooltipsGadget\":!0,\"wgVisualEditor\":{\"pageLanguageCode\":\"en\",\"pageLanguageDir\":\"ltr\",\"pageVariantFallbacks\":\"en\"},\"wgMFDisplayWikibaseDescriptions\":{\"search\":!0,\"nearby\":!0,\"watchlist\":!0,\"tagline\":!1},\"wgWMESchemaEditAttemptStepOversample\":!1,\"wgULSCurrentAutonym\":\"English\",\"wgNoticeProject\":\"wikipedia\",\"wgCentralAuthMobileDomain\":!1,\"wgEditSubmitButtonLabelPublish\":!0,\"wgULSPosition\":\"interlanguage\",\n",
       "\"wgWikibaseItemId\":\"Q7932449\"};RLSTATE={\"ext.globalCssJs.user.styles\":\"ready\",\"site.styles\":\"ready\",\"noscript\":\"ready\",\"user.styles\":\"ready\",\"ext.globalCssJs.user\":\"ready\",\"user\":\"ready\",\"user.options\":\"loading\",\"ext.cite.styles\":\"ready\",\"skins.vector.styles.legacy\":\"ready\",\"jquery.makeCollapsible.styles\":\"ready\",\"ext.visualEditor.desktopArticleTarget.noscript\":\"ready\",\"ext.uls.interlanguage\":\"ready\",\"ext.wikimediaBadges\":\"ready\",\"wikibase.client.init\":\"ready\"};RLPAGEMODULES=[\"ext.cite.ux-enhancements\",\"site\",\"mediawiki.page.ready\",\"jquery.makeCollapsible\",\"mediawiki.toc\",\"skins.vector.legacy.js\",\"ext.gadget.ReferenceTooltips\",\"ext.gadget.charinsert\",\"ext.gadget.extra-toolbar-buttons\",\"ext.gadget.refToolbar\",\"ext.gadget.switcher\",\"ext.centralauth.centralautologin\",\"mmv.head\",\"mmv.bootstrap.autostart\",\"ext.popups\",\"ext.visualEditor.desktopArticleTarget.init\",\"ext.visualEditor.targetLoader\",\"ext.eventLogging\",\"ext.wikimediaEvents\",\"ext.navigationTiming\",\"ext.uls.compactlinks\",\n",
       "\"ext.uls.interface\",\"ext.cx.eventlogging.campaigns\",\"ext.centralNotice.geoIP\",\"ext.centralNotice.startUp\"];</script>\n",
       "<script>(RLQ=window.RLQ||[]).push(function(){mw.loader.implement(\"user.options@1hzgi\",function($,jQuery,require,module){/*@nomin*/mw.user.tokens.set({\"patrolToken\":\"+\\\\\",\"watchToken\":\"+\\\\\",\"csrfToken\":\"+\\\\\"});\n",
       "});});</script>\n",
       "<link href=\"/w/load.php?lang=en&amp;modules=ext.cite.styles%7Cext.uls.interlanguage%7Cext.visualEditor.desktopArticleTarget.noscript%7Cext.wikimediaBadges%7Cjquery.makeCollapsible.styles%7Cskins.vector.styles.legacy%7Cwikibase.client.init&amp;only=styles&amp;skin=vector\" rel=\"stylesheet\"/>\n",
       "<script async=\"\" src=\"/w/load.php?lang=en&amp;modules=startup&amp;only=scripts&amp;raw=1&amp;skin=vector\"></script>\n",
       "<meta content=\"\" name=\"ResourceLoaderDynamicStyles\"/>\n",
       "<link href=\"/w/load.php?lang=en&amp;modules=site.styles&amp;only=styles&amp;skin=vector\" rel=\"stylesheet\"/>\n",
       "<meta content=\"MediaWiki 1.36.0-wmf.35\" name=\"generator\"/>\n",
       "<meta content=\"origin\" name=\"referrer\"/>\n",
       "<meta content=\"origin-when-crossorigin\" name=\"referrer\"/>\n",
       "<meta content=\"origin-when-cross-origin\" name=\"referrer\"/>\n",
       "<meta content=\"https://upload.wikimedia.org/wikipedia/commons/thumb/4/4f/Vinelander_Carriage_Newport_2014.jpg/1200px-Vinelander_Carriage_Newport_2014.jpg\" property=\"og:image\"/>\n",
       "<meta content=\"The Vinelander - Wikipedia\" property=\"og:title\"/>\n",
       "<meta content=\"website\" property=\"og:type\"/>\n",
       "<link href=\"//upload.wikimedia.org\" rel=\"preconnect\"/>\n",
       "<link href=\"//en.m.wikipedia.org/wiki/The_Vinelander\" media=\"only screen and (max-width: 720px)\" rel=\"alternate\"/>\n",
       "<link href=\"/w/index.php?title=The_Vinelander&amp;action=edit\" rel=\"alternate\" title=\"Edit this page\" type=\"application/x-wiki\"/>\n",
       "<link href=\"/w/index.php?title=The_Vinelander&amp;action=edit\" rel=\"edit\" title=\"Edit this page\"/>\n",
       "<link href=\"/static/apple-touch/wikipedia.png\" rel=\"apple-touch-icon\"/>\n",
       "<link href=\"/static/favicon/wikipedia.ico\" rel=\"shortcut icon\"/>\n",
       "<link href=\"/w/opensearch_desc.php\" rel=\"search\" title=\"Wikipedia (en)\" type=\"application/opensearchdescription+xml\"/>\n",
       "<link href=\"//en.wikipedia.org/w/api.php?action=rsd\" rel=\"EditURI\" type=\"application/rsd+xml\"/>\n",
       "<link href=\"//creativecommons.org/licenses/by-sa/3.0/\" rel=\"license\"/>\n",
       "<link href=\"https://en.wikipedia.org/wiki/The_Vinelander\" rel=\"canonical\"/>\n",
       "<link href=\"//login.wikimedia.org\" rel=\"dns-prefetch\"/>\n",
       "<link href=\"//meta.wikimedia.org\" rel=\"dns-prefetch\"/>\n",
       "</head>\n",
       "<body class=\"mediawiki ltr sitedir-ltr mw-hide-empty-elt ns-0 ns-subject mw-editable page-The_Vinelander rootpage-The_Vinelander skin-vector action-view skin-vector-legacy\"><div class=\"noprint\" id=\"mw-page-base\"></div>\n",
       "<div class=\"noprint\" id=\"mw-head-base\"></div>\n",
       "<div class=\"mw-body\" id=\"content\" role=\"main\">\n",
       "<a id=\"top\"></a>\n",
       "<div class=\"mw-body-content\" id=\"siteNotice\"><!-- CentralNotice --></div>\n",
       "<div class=\"mw-indicators mw-body-content\">\n",
       "</div>\n",
       "<h1 class=\"firstHeading\" id=\"firstHeading\">The Vinelander</h1>\n",
       "<div class=\"mw-body-content\" id=\"bodyContent\">\n",
       "<div class=\"noprint\" id=\"siteSub\">From Wikipedia, the free encyclopedia</div>\n",
       "<div id=\"contentSub\"></div>\n",
       "<div id=\"contentSub2\"></div>\n",
       "<div id=\"jump-to-nav\"></div>\n",
       "<a class=\"mw-jump-link\" href=\"#mw-head\">Jump to navigation</a>\n",
       "<a class=\"mw-jump-link\" href=\"#searchInput\">Jump to search</a>\n",
       "<div class=\"mw-content-ltr\" dir=\"ltr\" id=\"mw-content-text\" lang=\"en\"><div class=\"mw-parser-output\"><p class=\"mw-empty-elt\">\n",
       "</p>\n",
       "<table class=\"infobox\" style=\"width:22em;width:;\"><caption>The Vinelander</caption><tbody><tr><td colspan=\"2\" style=\"text-align:center\"><a class=\"image\" href=\"/wiki/File:Vinelander_Carriage_Newport_2014.jpg\"><img alt=\"Vinelander Carriage Newport 2014.jpg\" data-file-height=\"1936\" data-file-width=\"2592\" decoding=\"async\" height=\"164\" src=\"//upload.wikimedia.org/wikipedia/commons/thumb/4/4f/Vinelander_Carriage_Newport_2014.jpg/220px-Vinelander_Carriage_Newport_2014.jpg\" srcset=\"//upload.wikimedia.org/wikipedia/commons/thumb/4/4f/Vinelander_Carriage_Newport_2014.jpg/330px-Vinelander_Carriage_Newport_2014.jpg 1.5x, //upload.wikimedia.org/wikipedia/commons/thumb/4/4f/Vinelander_Carriage_Newport_2014.jpg/440px-Vinelander_Carriage_Newport_2014.jpg 2x\" width=\"220\"/></a><div>Preserved Vinelander carriage at <a href=\"/wiki/Newport_Workshops\" title=\"Newport Workshops\">Newport Workshops</a> in March 2014</div></td></tr><tr><th colspan=\"2\" style=\"text-align:center;background-color: #efefef\">Overview</th></tr><tr><th scope=\"row\">Service type</th><td>Overnight sleeper train</td></tr><tr><th scope=\"row\">Status</th><td>Ceased</td></tr><tr><th scope=\"row\">First service</th><td>9 August 1972</td></tr><tr><th scope=\"row\">Last service</th><td>12 September 1993</td></tr><tr><th scope=\"row\"><span class=\"nowrap\">Former operator(s)</span></th><td><a href=\"/wiki/V/Line\" title=\"V/Line\">V/Line</a></td></tr><tr><th colspan=\"2\" style=\"text-align:center;background-color: #efefef\">Route</th></tr><tr><th scope=\"row\">Start</th><td><a href=\"/wiki/Southern_Cross_railway_station\" title=\"Southern Cross railway station\">Melbourne</a></td></tr><tr><th scope=\"row\">End</th><td><a href=\"/wiki/Mildura_railway_station\" title=\"Mildura railway station\">Mildura</a></td></tr><tr><th scope=\"row\">Distance travelled</th><td>609 kilometres</td></tr><tr><th scope=\"row\">Line(s) used</th><td><a href=\"/wiki/Serviceton_railway_line\" title=\"Serviceton railway line\">Serviceton</a><br/><a href=\"/wiki/Mildura_railway_line\" title=\"Mildura railway line\">Mildura</a></td></tr></tbody></table>\n",
       "<p><i><b>The Vinelander</b></i> was an Australian passenger train operated by the <a href=\"/wiki/Victorian_Railways\" title=\"Victorian Railways\">Victorian Railways</a> and later <a href=\"/wiki/V/Line\" title=\"V/Line\">V/Line</a> between <a href=\"/wiki/Southern_Cross_railway_station\" title=\"Southern Cross railway station\">Melbourne</a> and <a href=\"/wiki/Mildura_railway_station\" title=\"Mildura railway station\">Mildura</a> from August 1972 until September 1993. Operating overnight along the <a href=\"/wiki/Mildura_railway_line\" title=\"Mildura railway line\">Mildura line</a>, it included <a href=\"/wiki/Motorail\" title=\"Motorail\">motorail</a> and <a href=\"/wiki/Sleeping_car\" title=\"Sleeping car\">sleeping car</a> facilities.\n",
       "</p>\n",
       "<div aria-labelledby=\"mw-toc-heading\" class=\"toc\" id=\"toc\" role=\"navigation\"><input class=\"toctogglecheckbox\" id=\"toctogglecheckbox\" role=\"button\" style=\"display:none\" type=\"checkbox\"/><div class=\"toctitle\" dir=\"ltr\" lang=\"en\"><h2 id=\"mw-toc-heading\">Contents</h2><span class=\"toctogglespan\"><label class=\"toctogglelabel\" for=\"toctogglecheckbox\"></label></span></div>\n",
       "<ul>\n",
       "<li class=\"toclevel-1 tocsection-1\"><a href=\"#History\"><span class=\"tocnumber\">1</span> <span class=\"toctext\">History</span></a></li>\n",
       "<li class=\"toclevel-1 tocsection-2\"><a href=\"#Withdrawal\"><span class=\"tocnumber\">2</span> <span class=\"toctext\">Withdrawal</span></a></li>\n",
       "<li class=\"toclevel-1 tocsection-3\"><a href=\"#References\"><span class=\"tocnumber\">3</span> <span class=\"toctext\">References</span></a></li>\n",
       "<li class=\"toclevel-1 tocsection-4\"><a href=\"#External_links\"><span class=\"tocnumber\">4</span> <span class=\"toctext\">External links</span></a></li>\n",
       "</ul>\n",
       "</div>\n",
       "<h2><span class=\"mw-headline\" id=\"History\">History</span><span class=\"mw-editsection\"><span class=\"mw-editsection-bracket\">[</span><a href=\"/w/index.php?title=The_Vinelander&amp;action=edit&amp;section=1\" title=\"Edit section: History\">edit</a><span class=\"mw-editsection-bracket\">]</span></span></h2>\n",
       "<div class=\"thumb tright\"><div class=\"thumbinner\" style=\"width:222px;\"><a class=\"image\" href=\"/wiki/File:Vinelander_Bed.jpg\"><img alt=\"\" class=\"thumbimage\" data-file-height=\"1936\" data-file-width=\"2592\" decoding=\"async\" height=\"164\" src=\"//upload.wikimedia.org/wikipedia/commons/thumb/d/d4/Vinelander_Bed.jpg/220px-Vinelander_Bed.jpg\" srcset=\"//upload.wikimedia.org/wikipedia/commons/thumb/d/d4/Vinelander_Bed.jpg/330px-Vinelander_Bed.jpg 1.5x, //upload.wikimedia.org/wikipedia/commons/thumb/d/d4/Vinelander_Bed.jpg/440px-Vinelander_Bed.jpg 2x\" width=\"220\"/></a> <div class=\"thumbcaption\"><div class=\"magnify\"><a class=\"internal\" href=\"/wiki/File:Vinelander_Bed.jpg\" title=\"Enlarge\"></a></div>Sleeping facilities</div></div></div>\n",
       "<p>A trial daylight service, the <i>Mildura Sunlight</i> was introduced by the <a href=\"/wiki/Victorian_Railways\" title=\"Victorian Railways\">Victorian Railways</a> between <a href=\"/wiki/Southern_Cross_railway_station\" title=\"Southern Cross railway station\">Melbourne</a> and <a href=\"/wiki/Mildura_railway_station\" title=\"Mildura railway station\">Mildura</a> on 3 September 1957. Air-conditioned <a class=\"mw-redirect\" href=\"/wiki/Z_type_carriage\" title=\"Z type carriage\">Z type carriage</a> stock was used, running thrice weekly.<sup class=\"reference\" id=\"cite_ref-lee_1-0\"><a href=\"#cite_note-lee-1\">[1]</a></sup>\n",
       "</p><p>Night trains replaced this from 1967, and a <a href=\"/wiki/Motorail\" title=\"Motorail\">motorail</a> service was added in 1968.<sup class=\"reference\" id=\"cite_ref-rhsv_2-0\"><a href=\"#cite_note-rhsv-2\">[2]</a></sup>\n",
       "</p><p><i>The Vinelander</i> first ran on 9 August 1972 after intense local lobbying for an upgrade of the existing overnight train.<sup class=\"reference\" id=\"cite_ref-3\"><a href=\"#cite_note-3\">[3]</a></sup><sup class=\"reference\" id=\"cite_ref-RailwayAge_4-0\"><a href=\"#cite_note-RailwayAge-4\">[4]</a></sup> The name was the product of a naming competition held by the Victorian Railways, with steel sleeping cars formerly used on <i><a href=\"/wiki/The_Overland\" title=\"The Overland\">The Overland</a></i> being used,<sup class=\"reference\" id=\"cite_ref-5\"><a href=\"#cite_note-5\">[5]</a></sup> along with <a class=\"mw-redirect\" href=\"/wiki/E_type_carriage\" title=\"E type carriage\">older wooded stock</a>. A <a href=\"/wiki/Buffet_car\" title=\"Buffet car\">buffet car</a> and bar was added to the train from 18 July 1977,<sup class=\"reference\" id=\"cite_ref-vicrail6283_6-0\"><a href=\"#cite_note-vicrail6283-6\">[6]</a></sup> but drunken behaviour became an issue, with offending passengers being removed from the train at intermediate stations. The typical timetable of the 1970s had a Melbourne departure at 21:20 and an arrival into Mildura at 08:05.<sup class=\"reference\" id=\"cite_ref-RailwayAge_4-1\"><a href=\"#cite_note-RailwayAge-4\">[4]</a></sup>\n",
       "</p><p>The train was promoted as one of the Victorian Railways' premier trains, in 1974 Victorian Railways sponsored a race meeting of the Mildura Racing Club, with the winner receiving the Vinelander Plate.<sup class=\"reference\" id=\"cite_ref-RailwayAge_4-2\"><a href=\"#cite_note-RailwayAge-4\">[4]</a></sup>\n",
       "</p><p>In 1984 a parallel road coach commenced operations. A day train named <i>The Sunraysia</i> commenced in 1987 but was withdrawn in 1990.<sup class=\"reference\" id=\"cite_ref-rhsv_2-1\"><a href=\"#cite_note-rhsv-2\">[2]</a></sup>\n",
       "</p><p>By November 1986, <i>The Vinelander</i> was only operating two nights per week, with <i>The Sunraysia</i> daylight service running as a replacement on some other days. The price of the sleeping car service also rose; from $17 per berth in 1985, it had risen to $30 per berth by July 1986. Staff levels were also reduced, with one conductor to manage two carriages (prior to this it was a one-to-one ratio). This was seen by some as an attempt by <a href=\"/wiki/V/Line\" title=\"V/Line\">V/Line</a> management to cut back the service.<sup class=\"reference\" id=\"cite_ref-7\"><a href=\"#cite_note-7\">[7]</a></sup><sup class=\"reference\" id=\"cite_ref-8\"><a href=\"#cite_note-8\">[8]</a></sup>\n",
       "</p><p>The last <i>Vinelander</i> ran on 12 September 1993 after the cutbacks of the <a href=\"/wiki/Jeff_Kennett\" title=\"Jeff Kennett\">Kennett Government</a>.<sup class=\"reference\" id=\"cite_ref-RailwayAge_4-3\"><a href=\"#cite_note-RailwayAge-4\">[4]</a></sup> A service review was announced by the <a href=\"/wiki/Bracks_Ministry\" title=\"Bracks Ministry\">Bracks Government</a> in 2000,<sup class=\"reference\" id=\"cite_ref-9\"><a href=\"#cite_note-9\">[9]</a></sup> in part due to the independent politician <a href=\"/wiki/Russell_Savage\" title=\"Russell Savage\">Russell Savage</a> enabling the formation of a minority Labor government after the <a href=\"/wiki/1999_Victorian_state_election\" title=\"1999 Victorian state election\">1999 Victorian state election</a>.<sup class=\"reference\" id=\"cite_ref-10\"><a href=\"#cite_note-10\">[10]</a></sup> The service never returned.\n",
       "</p>\n",
       "<h2><span class=\"mw-headline\" id=\"Withdrawal\">Withdrawal</span><span class=\"mw-editsection\"><span class=\"mw-editsection-bracket\">[</span><a href=\"/w/index.php?title=The_Vinelander&amp;action=edit&amp;section=2\" title=\"Edit section: Withdrawal\">edit</a><span class=\"mw-editsection-bracket\">]</span></span></h2>\n",
       "<p>The withdrawal of <i>The Vinelander</i> service in 1993 occurred under controversial circumstances. Two days before the service was scheduled to be axed, intending passengers were on the platform at <a href=\"/wiki/Southern_Cross_railway_station\" title=\"Southern Cross railway station\">Spencer Street station</a>, ready to board the train to Mildura, when it was announced that it had been cancelled due to a landslide along the track. Despite the very short notice of the cancellation, buses were conveniently available as an alternative. Suspicions about the supposed landslide story were aroused when it was noted that it hadn't blocked the Melbourne-bound <i>Vinelander</i> that same evening.\n",
       "</p><p>A leaked document from the train controllers working that evening also aroused suspicion and an investigation revealed that the story about the landslide was a hoax.<sup class=\"reference\" id=\"cite_ref-11\"><a href=\"#cite_note-11\">[11]</a></sup>\n",
       "</p><p>V/Line management failed to give any clear explanation for their actions and it is widely believed that the sudden cancellation of the final <i>Vinelander</i> service was done to avoid any protests, such as the one that had taken place earlier at <a href=\"/wiki/Bairnsdale_railway_station\" title=\"Bairnsdale railway station\">Bairnsdale</a>, when the withdrawal of the service occurred as planned a couple of days later.\n",
       "</p>\n",
       "<h2><span class=\"mw-headline\" id=\"References\">References</span><span class=\"mw-editsection\"><span class=\"mw-editsection-bracket\">[</span><a href=\"/w/index.php?title=The_Vinelander&amp;action=edit&amp;section=3\" title=\"Edit section: References\">edit</a><span class=\"mw-editsection-bracket\">]</span></span></h2>\n",
       "<style data-mw-deduplicate=\"TemplateStyles:r1011085734\">.mw-parser-output .reflist{font-size:90%;margin-bottom:0.5em;list-style-type:decimal}.mw-parser-output .reflist .references{font-size:100%;margin-bottom:0;list-style-type:inherit}.mw-parser-output .reflist-columns-2{column-width:30em}.mw-parser-output .reflist-columns-3{column-width:25em}.mw-parser-output .reflist-columns{margin-top:0.3em}.mw-parser-output .reflist-columns ol{margin-top:0}.mw-parser-output .reflist-columns li{page-break-inside:avoid;break-inside:avoid-column}.mw-parser-output .reflist-upper-alpha{list-style-type:upper-alpha}.mw-parser-output .reflist-upper-roman{list-style-type:upper-roman}.mw-parser-output .reflist-lower-alpha{list-style-type:lower-alpha}.mw-parser-output .reflist-lower-greek{list-style-type:lower-greek}.mw-parser-output .reflist-lower-roman{list-style-type:lower-roman}</style><div class=\"reflist reflist-columns references-column-width reflist-columns-2\" style=\"\">\n",
       "<ol class=\"references\">\n",
       "<li id=\"cite_note-lee-1\"><span class=\"mw-cite-backlink\"><b><a href=\"#cite_ref-lee_1-0\">^</a></b></span> <span class=\"reference-text\"><style data-mw-deduplicate=\"TemplateStyles:r999302996\">.mw-parser-output cite.citation{font-style:inherit}.mw-parser-output .citation q{quotes:\"\\\"\"\"\\\"\"\"'\"\"'\"}.mw-parser-output .id-lock-free a,.mw-parser-output .citation .cs1-lock-free a{background:linear-gradient(transparent,transparent),url(\"//upload.wikimedia.org/wikipedia/commons/6/65/Lock-green.svg\")right 0.1em center/9px no-repeat}.mw-parser-output .id-lock-limited a,.mw-parser-output .id-lock-registration a,.mw-parser-output .citation .cs1-lock-limited a,.mw-parser-output .citation .cs1-lock-registration a{background:linear-gradient(transparent,transparent),url(\"//upload.wikimedia.org/wikipedia/commons/d/d6/Lock-gray-alt-2.svg\")right 0.1em center/9px no-repeat}.mw-parser-output .id-lock-subscription a,.mw-parser-output .citation .cs1-lock-subscription a{background:linear-gradient(transparent,transparent),url(\"//upload.wikimedia.org/wikipedia/commons/a/aa/Lock-red-alt-2.svg\")right 0.1em center/9px no-repeat}.mw-parser-output .cs1-subscription,.mw-parser-output .cs1-registration{color:#555}.mw-parser-output .cs1-subscription span,.mw-parser-output .cs1-registration span{border-bottom:1px dotted;cursor:help}.mw-parser-output .cs1-ws-icon a{background:linear-gradient(transparent,transparent),url(\"//upload.wikimedia.org/wikipedia/commons/4/4c/Wikisource-logo.svg\")right 0.1em center/12px no-repeat}.mw-parser-output code.cs1-code{color:inherit;background:inherit;border:none;padding:inherit}.mw-parser-output .cs1-hidden-error{display:none;font-size:100%}.mw-parser-output .cs1-visible-error{font-size:100%}.mw-parser-output .cs1-maint{display:none;color:#33aa33;margin-left:0.3em}.mw-parser-output .cs1-format{font-size:95%}.mw-parser-output .cs1-kern-left,.mw-parser-output .cs1-kern-wl-left{padding-left:0.2em}.mw-parser-output .cs1-kern-right,.mw-parser-output .cs1-kern-wl-right{padding-right:0.2em}.mw-parser-output .citation .mw-selflink{font-weight:inherit}</style><cite class=\"citation book cs1\" id=\"CITEREFLee,_Robert2007\">Lee, Robert (2007). <i>The Railways of Victoria 1854-2004</i>. Melbourne University Publishing. p. 216. <a class=\"mw-redirect\" href=\"/wiki/ISBN_(identifier)\" title=\"ISBN (identifier)\">ISBN</a> <a href=\"/wiki/Special:BookSources/978-0-522-85134-2\" title=\"Special:BookSources/978-0-522-85134-2\"><bdi>978-0-522-85134-2</bdi></a>.</cite><span class=\"Z3988\" title=\"ctx_ver=Z39.88-2004&amp;rft_val_fmt=info%3Aofi%2Ffmt%3Akev%3Amtx%3Abook&amp;rft.genre=book&amp;rft.btitle=The+Railways+of+Victoria+1854-2004&amp;rft.pages=216&amp;rft.pub=Melbourne+University+Publishing&amp;rft.date=2007&amp;rft.isbn=978-0-522-85134-2&amp;rft.au=Lee%2C+Robert&amp;rfr_id=info%3Asid%2Fen.wikipedia.org%3AThe+Vinelander\"></span></span>\n",
       "</li>\n",
       "<li id=\"cite_note-rhsv-2\"><span class=\"mw-cite-backlink\">^ <a href=\"#cite_ref-rhsv_2-0\"><sup><i><b>a</b></i></sup></a> <a href=\"#cite_ref-rhsv_2-1\"><sup><i><b>b</b></i></sup></a></span> <span class=\"reference-text\"><link href=\"mw-data:TemplateStyles:r999302996\" rel=\"mw-deduplicated-inline-style\"/><cite class=\"citation web cs1\"><a class=\"external text\" href=\"https://web.archive.org/web/20080719030504/http://www.historyvictoria.org.au/pdf/Mildura.pdf\" rel=\"nofollow\">\"The Mildura Story The Battle of the Routes\"</a> <span class=\"cs1-format\">(PDF)</span>. Royal Historical Society of Victoria. Archived from <a class=\"external text\" href=\"http://www.historyvictoria.org.au/pdf/Mildura.pdf\" rel=\"nofollow\">the original</a> <span class=\"cs1-format\">(PDF)</span> on 19 July 2008<span class=\"reference-accessdate\">. Retrieved <span class=\"nowrap\">30 August</span> 2008</span>.</cite><span class=\"Z3988\" title=\"ctx_ver=Z39.88-2004&amp;rft_val_fmt=info%3Aofi%2Ffmt%3Akev%3Amtx%3Abook&amp;rft.genre=unknown&amp;rft.btitle=The+Mildura+Story+The+Battle+of+the+Routes&amp;rft.pub=Royal+Historical+Society+of+Victoria&amp;rft_id=http%3A%2F%2Fwww.historyvictoria.org.au%2Fpdf%2FMildura.pdf&amp;rfr_id=info%3Asid%2Fen.wikipedia.org%3AThe+Vinelander\"></span></span>\n",
       "</li>\n",
       "<li id=\"cite_note-3\"><span class=\"mw-cite-backlink\"><b><a href=\"#cite_ref-3\">^</a></b></span> <span class=\"reference-text\">\"In Brief\" <i><a href=\"/wiki/Railway_Gazette_International\" title=\"Railway Gazette International\">Railway Gazette International</a></i> September 1972 page 326</span>\n",
       "</li>\n",
       "<li id=\"cite_note-RailwayAge-4\"><span class=\"mw-cite-backlink\">^ <a href=\"#cite_ref-RailwayAge_4-0\"><sup><i><b>a</b></i></sup></a> <a href=\"#cite_ref-RailwayAge_4-1\"><sup><i><b>b</b></i></sup></a> <a href=\"#cite_ref-RailwayAge_4-2\"><sup><i><b>c</b></i></sup></a> <a href=\"#cite_ref-RailwayAge_4-3\"><sup><i><b>d</b></i></sup></a></span> <span class=\"reference-text\"><link href=\"mw-data:TemplateStyles:r999302996\" rel=\"mw-deduplicated-inline-style\"/><cite class=\"citation book cs1\" id=\"CITEREFRobin_Bromby2004\">Robin Bromby (2004). <i>The Railway Age in Australia</i>. Lothian Press. p. 99. <a class=\"mw-redirect\" href=\"/wiki/ISBN_(identifier)\" title=\"ISBN (identifier)\">ISBN</a> <a href=\"/wiki/Special:BookSources/0-7344-0715-7\" title=\"Special:BookSources/0-7344-0715-7\"><bdi>0-7344-0715-7</bdi></a>.</cite><span class=\"Z3988\" title=\"ctx_ver=Z39.88-2004&amp;rft_val_fmt=info%3Aofi%2Ffmt%3Akev%3Amtx%3Abook&amp;rft.genre=book&amp;rft.btitle=The+Railway+Age+in+Australia&amp;rft.pages=99&amp;rft.pub=Lothian+Press&amp;rft.date=2004&amp;rft.isbn=0-7344-0715-7&amp;rft.au=Robin+Bromby&amp;rfr_id=info%3Asid%2Fen.wikipedia.org%3AThe+Vinelander\"></span></span>\n",
       "</li>\n",
       "<li id=\"cite_note-5\"><span class=\"mw-cite-backlink\"><b><a href=\"#cite_ref-5\">^</a></b></span> <span class=\"reference-text\"><link href=\"mw-data:TemplateStyles:r999302996\" rel=\"mw-deduplicated-inline-style\"/><cite class=\"citation web cs1\"><a class=\"external text\" href=\"http://www.comrails.com/sar_carriages/a0203_sj.html\" rel=\"nofollow\">\"Steel Sleeping Carriages - V&amp;SAR Joint Stock\"</a>. www.comrails.com<span class=\"reference-accessdate\">. Retrieved <span class=\"nowrap\">30 August</span> 2008</span>.</cite><span class=\"Z3988\" title=\"ctx_ver=Z39.88-2004&amp;rft_val_fmt=info%3Aofi%2Ffmt%3Akev%3Amtx%3Abook&amp;rft.genre=unknown&amp;rft.btitle=Steel+Sleeping+Carriages+-+V%26SAR+Joint+Stock&amp;rft.pub=www.comrails.com&amp;rft_id=http%3A%2F%2Fwww.comrails.com%2Fsar_carriages%2Fa0203_sj.html&amp;rfr_id=info%3Asid%2Fen.wikipedia.org%3AThe+Vinelander\"></span></span>\n",
       "</li>\n",
       "<li id=\"cite_note-vicrail6283-6\"><span class=\"mw-cite-backlink\"><b><a href=\"#cite_ref-vicrail6283_6-0\">^</a></b></span> <span class=\"reference-text\"><link href=\"mw-data:TemplateStyles:r999302996\" rel=\"mw-deduplicated-inline-style\"/><cite class=\"citation book cs1\" id=\"CITEREFVincent_Adams_Winter1990\">Vincent Adams Winter (1990). <i>VR and VicRail: 1962 - 1983</i>. p. 206. <a class=\"mw-redirect\" href=\"/wiki/ISBN_(identifier)\" title=\"ISBN (identifier)\">ISBN</a> <a href=\"/wiki/Special:BookSources/0-9592069-3-0\" title=\"Special:BookSources/0-9592069-3-0\"><bdi>0-9592069-3-0</bdi></a>.</cite><span class=\"Z3988\" title=\"ctx_ver=Z39.88-2004&amp;rft_val_fmt=info%3Aofi%2Ffmt%3Akev%3Amtx%3Abook&amp;rft.genre=book&amp;rft.btitle=VR+and+VicRail%3A+1962+-+1983&amp;rft.pages=206&amp;rft.date=1990&amp;rft.isbn=0-9592069-3-0&amp;rft.au=Vincent+Adams+Winter&amp;rfr_id=info%3Asid%2Fen.wikipedia.org%3AThe+Vinelander\"></span></span>\n",
       "</li>\n",
       "<li id=\"cite_note-7\"><span class=\"mw-cite-backlink\"><b><a href=\"#cite_ref-7\">^</a></b></span> <span class=\"reference-text\"><link href=\"mw-data:TemplateStyles:r999302996\" rel=\"mw-deduplicated-inline-style\"/><cite class=\"citation magazine cs1\">\"General News\". <i>Newsrail</i>. Australian Railway Historical Society. September 1986. p. 274.</cite><span class=\"Z3988\" title=\"ctx_ver=Z39.88-2004&amp;rft_val_fmt=info%3Aofi%2Ffmt%3Akev%3Amtx%3Ajournal&amp;rft.genre=article&amp;rft.jtitle=Newsrail&amp;rft.atitle=General+News&amp;rft.pages=274&amp;rft.date=1986-09&amp;rfr_id=info%3Asid%2Fen.wikipedia.org%3AThe+Vinelander\"></span></span>\n",
       "</li>\n",
       "<li id=\"cite_note-8\"><span class=\"mw-cite-backlink\"><b><a href=\"#cite_ref-8\">^</a></b></span> <span class=\"reference-text\">\"Investment saves long distance train\" <i>Railway Gazette International</i> May 1986 page 327</span>\n",
       "</li>\n",
       "<li id=\"cite_note-9\"><span class=\"mw-cite-backlink\"><b><a href=\"#cite_ref-9\">^</a></b></span> <span class=\"reference-text\"><link href=\"mw-data:TemplateStyles:r999302996\" rel=\"mw-deduplicated-inline-style\"/><cite class=\"citation web cs1\"><a class=\"external text\" href=\"https://web.archive.org/web/20120213134749/http://www.legislation.vic.gov.au/domino/Web_Notes/MediaRelArc02.nsf/17ed9415cb17e3d34a25682500254734/e41833f1ff2e46144a25689d007c4a17!OpenDocument&amp;Click=\" rel=\"nofollow\">\"Minister Announces Mildura Passenger Rail Service Review\"</a>. <i>Media Release: Minister for Transport</i>. www.legislation.vic.gov.au. 9 March 2000. Archived from <a class=\"external text\" href=\"http://www.legislation.vic.gov.au/domino/Web_Notes/MediaRelArc02.nsf/17ed9415cb17e3d34a25682500254734/e41833f1ff2e46144a25689d007c4a17!OpenDocument&amp;Click=\" rel=\"nofollow\">the original</a> on 13 February 2012<span class=\"reference-accessdate\">. Retrieved <span class=\"nowrap\">23 July</span> 2019</span>.</cite><span class=\"Z3988\" title=\"ctx_ver=Z39.88-2004&amp;rft_val_fmt=info%3Aofi%2Ffmt%3Akev%3Amtx%3Ajournal&amp;rft.genre=unknown&amp;rft.jtitle=Media+Release%3A+Minister+for+Transport&amp;rft.atitle=Minister+Announces+Mildura+Passenger+Rail+Service+Review&amp;rft.date=2000-03-09&amp;rft_id=http%3A%2F%2Fwww.legislation.vic.gov.au%2Fdomino%2FWeb_Notes%2FMediaRelArc02.nsf%2F17ed9415cb17e3d34a25682500254734%2Fe41833f1ff2e46144a25689d007c4a17%21OpenDocument%26Click%3D&amp;rfr_id=info%3Asid%2Fen.wikipedia.org%3AThe+Vinelander\"></span></span>\n",
       "</li>\n",
       "<li id=\"cite_note-10\"><span class=\"mw-cite-backlink\"><b><a href=\"#cite_ref-10\">^</a></b></span> <span class=\"reference-text\"><link href=\"mw-data:TemplateStyles:r999302996\" rel=\"mw-deduplicated-inline-style\"/><cite class=\"citation web cs1\"><a class=\"external text\" href=\"https://web.archive.org/web/20071005054950/http://australianpolitics.com/states/vic/savage_statement.shtml\" rel=\"nofollow\">\"Russell Savage Statement Supporting A Minority Labor Government\"</a>. australianpolitics.com. 18 October 1999. Archived from <a class=\"external text\" href=\"http://australianpolitics.com/states/vic/savage_statement.shtml\" rel=\"nofollow\">the original</a> on 5 October 2007<span class=\"reference-accessdate\">. Retrieved <span class=\"nowrap\">30 August</span> 2008</span>.</cite><span class=\"Z3988\" title=\"ctx_ver=Z39.88-2004&amp;rft_val_fmt=info%3Aofi%2Ffmt%3Akev%3Amtx%3Abook&amp;rft.genre=unknown&amp;rft.btitle=Russell+Savage+Statement+Supporting+A+Minority+Labor+Government&amp;rft.pub=australianpolitics.com&amp;rft.date=1999-10-18&amp;rft_id=http%3A%2F%2Faustralianpolitics.com%2Fstates%2Fvic%2Fsavage_statement.shtml&amp;rfr_id=info%3Asid%2Fen.wikipedia.org%3AThe+Vinelander\"></span></span>\n",
       "</li>\n",
       "<li id=\"cite_note-11\"><span class=\"mw-cite-backlink\"><b><a href=\"#cite_ref-11\">^</a></b></span> <span class=\"reference-text\"><link href=\"mw-data:TemplateStyles:r999302996\" rel=\"mw-deduplicated-inline-style\"/><cite class=\"citation web cs1\"><a class=\"external text\" href=\"https://web.archive.org/web/20150530005813/http://www.tramtimetable.com.au/tram-timetable-articles/1993/10/1/browns-transport-revolution-is-right-on-the-track/\" rel=\"nofollow\">\"Brown's Transport Revolution Is Right On The Track\"</a>. Tram Timetable. 1 October 1993. Archived from <a class=\"external text\" href=\"http://www.tramtimetable.com.au/tram-timetable-articles/1993/10/1/browns-transport-revolution-is-right-on-the-track/\" rel=\"nofollow\">the original</a> on 30 May 2015<span class=\"reference-accessdate\">. Retrieved <span class=\"nowrap\">23 July</span> 2019</span>.</cite><span class=\"Z3988\" title=\"ctx_ver=Z39.88-2004&amp;rft_val_fmt=info%3Aofi%2Ffmt%3Akev%3Amtx%3Abook&amp;rft.genre=unknown&amp;rft.btitle=Brown%27s+Transport+Revolution+Is+Right+On+The+Track&amp;rft.pub=Tram+Timetable&amp;rft.date=1993-10-01&amp;rft_id=http%3A%2F%2Fwww.tramtimetable.com.au%2Ftram-timetable-articles%2F1993%2F10%2F1%2Fbrowns-transport-revolution-is-right-on-the-track%2F&amp;rfr_id=info%3Asid%2Fen.wikipedia.org%3AThe+Vinelander\"></span></span>\n",
       "</li>\n",
       "</ol></div>\n",
       "<h2><span class=\"mw-headline\" id=\"External_links\">External links</span><span class=\"mw-editsection\"><span class=\"mw-editsection-bracket\">[</span><a href=\"/w/index.php?title=The_Vinelander&amp;action=edit&amp;section=4\" title=\"Edit section: External links\">edit</a><span class=\"mw-editsection-bracket\">]</span></span></h2>\n",
       "<ul><li><a class=\"external text\" href=\"http://www.prov.vic.gov.au/images/12903/12903-p00001-000922-120.asp\" rel=\"nofollow\"><i>Victoria's Latest Named Train, \"The Vinelander\"</i></a>, advertising poster from November 1972, Public Record Office Victoria.</li></ul>\n",
       "<div aria-labelledby=\"Named_trains_of_the_Victorian_Railways\" class=\"navbox\" role=\"navigation\" style=\"padding:3px\"><table class=\"nowraplinks mw-collapsible autocollapse navbox-inner\" style=\"border-spacing:0;background:transparent;color:inherit\"><tbody><tr><th class=\"navbox-title\" colspan=\"2\" scope=\"col\"><style data-mw-deduplicate=\"TemplateStyles:r992953826\">.mw-parser-output .navbar{display:inline;font-size:88%;font-weight:normal}.mw-parser-output .navbar-collapse{float:left;text-align:left}.mw-parser-output .navbar-boxtext{word-spacing:0}.mw-parser-output .navbar ul{display:inline-block;white-space:nowrap;line-height:inherit}.mw-parser-output .navbar-brackets::before{margin-right:-0.125em;content:\"[ \"}.mw-parser-output .navbar-brackets::after{margin-left:-0.125em;content:\" ]\"}.mw-parser-output .navbar li{word-spacing:-0.125em}.mw-parser-output .navbar-mini abbr{font-variant:small-caps;border-bottom:none;text-decoration:none;cursor:inherit}.mw-parser-output .navbar-ct-full{font-size:114%;margin:0 7em}.mw-parser-output .navbar-ct-mini{font-size:114%;margin:0 4em}.mw-parser-output .infobox .navbar{font-size:100%}.mw-parser-output .navbox .navbar{display:block;font-size:100%}.mw-parser-output .navbox-title .navbar{float:left;text-align:left;margin-right:0.5em}</style><div class=\"navbar plainlinks hlist navbar-mini\"><ul><li class=\"nv-view\"><a href=\"/wiki/Template:Named_trains_of_the_Victorian_Railways\" title=\"Template:Named trains of the Victorian Railways\"><abbr style=\";;background:none transparent;border:none;box-shadow:none;padding:0;\" title=\"View this template\">v</abbr></a></li><li class=\"nv-talk\"><a href=\"/wiki/Template_talk:Named_trains_of_the_Victorian_Railways\" title=\"Template talk:Named trains of the Victorian Railways\"><abbr style=\";;background:none transparent;border:none;box-shadow:none;padding:0;\" title=\"Discuss this template\">t</abbr></a></li><li class=\"nv-edit\"><a class=\"external text\" href=\"https://en.wikipedia.org/w/index.php?title=Template:Named_trains_of_the_Victorian_Railways&amp;action=edit\"><abbr style=\";;background:none transparent;border:none;box-shadow:none;padding:0;\" title=\"Edit this template\">e</abbr></a></li></ul></div><div id=\"Named_trains_of_the_Victorian_Railways\" style=\"font-size:114%;margin:0 4em\">Named trains of the <a href=\"/wiki/Victorian_Railways\" title=\"Victorian Railways\">Victorian Railways</a></div></th></tr><tr><td class=\"navbox-abovebelow\" colspan=\"2\"><div id=\"List_of_named_trains_in_Victoria\"><a href=\"/wiki/List_of_named_trains_in_Victoria\" title=\"List of named trains in Victoria\">List of named trains in Victoria</a></div></td></tr><tr><th class=\"navbox-group\" scope=\"row\" style=\"width:1%\">Regular passenger trains</th><td class=\"navbox-list navbox-odd hlist\" style=\"text-align:left;border-left-width:2px;border-left-style:solid;width:100%;padding:0px\"><div style=\"padding:0em 0.25em\">\n",
       "<ul><li><a href=\"/wiki/Tait_(train)#The_Boat_Train\" title=\"Tait (train)\">The Boat Train</a></li>\n",
       "<li><a href=\"/wiki/Geelong_Flier\" title=\"Geelong Flier\">Geelong Flier</a></li>\n",
       "<li><a href=\"/wiki/The_Gippslander\" title=\"The Gippslander\">The Gippslander</a></li>\n",
       "<li><a href=\"/wiki/Intercapital_Daylight\" title=\"Intercapital Daylight\">Intercapital Daylight</a></li>\n",
       "<li><a href=\"/wiki/The_Overland\" title=\"The Overland\">The Overland</a></li>\n",
       "<li><a href=\"/wiki/Southern_Aurora\" title=\"Southern Aurora\">Southern Aurora</a></li>\n",
       "<li><a href=\"/wiki/Spirit_of_Progress\" title=\"Spirit of Progress\">Spirit of Progress</a></li>\n",
       "<li><a href=\"/wiki/Sydney/Melbourne_Express\" title=\"Sydney/Melbourne Express\">Sydney/Melbourne Express</a></li>\n",
       "<li><a class=\"mw-selflink selflink\">The Vinelander</a></li>\n",
       "<li><a href=\"/wiki/List_of_named_trains_in_Victoria#The_West_Coaster\" title=\"List of named trains in Victoria\">The West Coaster</a></li></ul>\n",
       "</div></td></tr><tr><th class=\"navbox-group\" scope=\"row\" style=\"width:1%\">Other trains</th><td class=\"navbox-list navbox-even hlist\" style=\"text-align:left;border-left-width:2px;border-left-style:solid;width:100%;padding:0px\"><div style=\"padding:0em 0.25em\">\n",
       "<ul><li><a href=\"/wiki/Victorian_Railways_PL_type_carriage#1942_Hospital_carriages,_1951_Jubilee_Train\" title=\"Victorian Railways PL type carriage\">Ambulance/Hospital Train</a></li>\n",
       "<li><a href=\"/wiki/Better_Farming_Train_(Victoria)\" title=\"Better Farming Train (Victoria)\">Better Farming Train</a></li>\n",
       "<li><a href=\"/wiki/Victorian_Railways_V_type_carriage#The_Display_Train\" title=\"Victorian Railways V type carriage\">The Display Train</a></li>\n",
       "<li><a href=\"/wiki/Fruit_Flyer\" title=\"Fruit Flyer\">Fruit Flyer</a></li>\n",
       "<li><a href=\"/wiki/Victorian_Railways_PL_type_carriage#1942_Hospital_carriages,_1951_Jubilee_Train\" title=\"Victorian Railways PL type carriage\">The Jubilee Train</a></li>\n",
       "<li><a href=\"/wiki/Reso_Train\" title=\"Reso Train\">Reso Train</a></li>\n",
       "<li><a href=\"/wiki/Train_of_Knowledge\" title=\"Train of Knowledge\">Train of Knowledge</a></li>\n",
       "<li><a href=\"/wiki/Victorian_Railways_Royal_Train\" title=\"Victorian Railways Royal Train\">State and Royal Trains</a></li>\n",
       "<li><a href=\"/wiki/Victorian_Railways_fixed_wheel_passenger_carriages#The_Veteran_Train\" title=\"Victorian Railways fixed wheel passenger carriages\">The Veteran Train</a></li>\n",
       "<li><a href=\"/wiki/Victorian_Railways_V_type_carriage#The_Vintage_Train\" title=\"Victorian Railways V type carriage\">The Vintage Train</a></li></ul>\n",
       "</div></td></tr></tbody></table></div>\n",
       "<!-- \n",
       "NewPP limit report\n",
       "Parsed by mw1382\n",
       "Cached time: 20210316103933\n",
       "Cache expiry: 2592000\n",
       "Dynamic content: false\n",
       "Complications: [vary‐revision‐sha1]\n",
       "CPU time usage: 0.282 seconds\n",
       "Real time usage: 0.372 seconds\n",
       "Preprocessor visited node count: 1124/1000000\n",
       "Post‐expand include size: 27998/2097152 bytes\n",
       "Template argument size: 1186/2097152 bytes\n",
       "Highest expansion depth: 13/40\n",
       "Expensive parser function count: 2/500\n",
       "Unstrip recursion depth: 1/20\n",
       "Unstrip post‐expand size: 31040/5000000 bytes\n",
       "Lua time usage: 0.139/10.000 seconds\n",
       "Lua memory usage: 4732801/52428800 bytes\n",
       "Number of Wikibase entities loaded: 0/400\n",
       "-->\n",
       "<!--\n",
       "Transclusion expansion time report (%,ms,calls,template)\n",
       "100.00%  335.180      1 -total\n",
       " 51.13%  171.371      1 Template:Reflist\n",
       " 31.60%  105.912      3 Template:Cite_book\n",
       " 19.40%   65.019      1 Template:Infobox_rail_service\n",
       " 14.11%   47.285      1 Template:Infobox\n",
       " 13.50%   45.266      1 Template:Use_dmy_dates\n",
       "  8.87%   29.745      5 Template:Cite_web\n",
       "  8.75%   29.335      1 Template:Named_trains_of_the_Victorian_Railways\n",
       "  8.53%   28.605      2 Template:DMCA\n",
       "  7.48%   25.061      1 Template:Navbox\n",
       "-->\n",
       "<!-- Saved in parser cache with key enwiki:pcache:idhash:19100873-0!canonical and timestamp 20210316103933 and revision id 1012433723. Serialized with JSON.\n",
       " -->\n",
       "</div><noscript><img alt=\"\" height=\"1\" src=\"//en.wikipedia.org/wiki/Special:CentralAutoLogin/start?type=1x1\" style=\"border: none; position: absolute;\" title=\"\" width=\"1\"/></noscript>\n",
       "<div class=\"printfooter\">Retrieved from \"<a dir=\"ltr\" href=\"https://en.wikipedia.org/w/index.php?title=The_Vinelander&amp;oldid=1012433723\">https://en.wikipedia.org/w/index.php?title=The_Vinelander&amp;oldid=1012433723</a>\"</div></div>\n",
       "<div class=\"catlinks\" data-mw=\"interface\" id=\"catlinks\"><div class=\"mw-normal-catlinks\" id=\"mw-normal-catlinks\"><a href=\"/wiki/Help:Category\" title=\"Help:Category\">Categories</a>: <ul><li><a href=\"/wiki/Category:Named_passenger_trains_of_Victoria_(Australia)\" title=\"Category:Named passenger trains of Victoria (Australia)\">Named passenger trains of Victoria (Australia)</a></li><li><a href=\"/wiki/Category:Night_trains_of_Australia\" title=\"Category:Night trains of Australia\">Night trains of Australia</a></li><li><a href=\"/wiki/Category:Railway_services_introduced_in_1972\" title=\"Category:Railway services introduced in 1972\">Railway services introduced in 1972</a></li><li><a href=\"/wiki/Category:Railway_services_discontinued_in_1993\" title=\"Category:Railway services discontinued in 1993\">Railway services discontinued in 1993</a></li><li><a href=\"/wiki/Category:1972_establishments_in_Australia\" title=\"Category:1972 establishments in Australia\">1972 establishments in Australia</a></li><li><a href=\"/wiki/Category:1993_disestablishments_in_Australia\" title=\"Category:1993 disestablishments in Australia\">1993 disestablishments in Australia</a></li><li><a href=\"/wiki/Category:Discontinued_railway_services_in_Australia\" title=\"Category:Discontinued railway services in Australia\">Discontinued railway services in Australia</a></li></ul></div><div class=\"mw-hidden-catlinks mw-hidden-cats-hidden\" id=\"mw-hidden-catlinks\">Hidden categories: <ul><li><a href=\"/wiki/Category:Use_dmy_dates_from_June_2015\" title=\"Category:Use dmy dates from June 2015\">Use dmy dates from June 2015</a></li><li><a href=\"/wiki/Category:Use_Australian_English_from_June_2015\" title=\"Category:Use Australian English from June 2015\">Use Australian English from June 2015</a></li><li><a href=\"/wiki/Category:All_Wikipedia_articles_written_in_Australian_English\" title=\"Category:All Wikipedia articles written in Australian English\">All Wikipedia articles written in Australian English</a></li></ul></div></div>\n",
       "</div>\n",
       "</div>\n",
       "<div id=\"mw-data-after-content\">\n",
       "<div class=\"read-more-container\"></div>\n",
       "</div>\n",
       "<div id=\"mw-navigation\">\n",
       "<h2>Navigation menu</h2>\n",
       "<div id=\"mw-head\">\n",
       "<!-- Please do not use role attribute as CSS selector, it is deprecated. -->\n",
       "<nav aria-labelledby=\"p-personal-label\" class=\"mw-portlet mw-portlet-personal vector-menu\" id=\"p-personal\" role=\"navigation\">\n",
       "<h3 class=\"vector-menu-heading\" id=\"p-personal-label\">\n",
       "<span>Personal tools</span>\n",
       "</h3>\n",
       "<div class=\"vector-menu-content\">\n",
       "<ul class=\"vector-menu-content-list\"><li id=\"pt-anonuserpage\">Not logged in</li><li id=\"pt-anontalk\"><a accesskey=\"n\" href=\"/wiki/Special:MyTalk\" title=\"Discussion about edits from this IP address [n]\">Talk</a></li><li id=\"pt-anoncontribs\"><a accesskey=\"y\" href=\"/wiki/Special:MyContributions\" title=\"A list of edits made from this IP address [y]\">Contributions</a></li><li id=\"pt-createaccount\"><a href=\"/w/index.php?title=Special:CreateAccount&amp;returnto=The+Vinelander\" title=\"You are encouraged to create an account and log in; however, it is not mandatory\">Create account</a></li><li id=\"pt-login\"><a accesskey=\"o\" href=\"/w/index.php?title=Special:UserLogin&amp;returnto=The+Vinelander\" title=\"You're encouraged to log in; however, it's not mandatory. [o]\">Log in</a></li></ul>\n",
       "</div>\n",
       "</nav>\n",
       "<div id=\"left-navigation\">\n",
       "<!-- Please do not use role attribute as CSS selector, it is deprecated. -->\n",
       "<nav aria-labelledby=\"p-namespaces-label\" class=\"mw-portlet mw-portlet-namespaces vector-menu vector-menu-tabs\" id=\"p-namespaces\" role=\"navigation\">\n",
       "<h3 class=\"vector-menu-heading\" id=\"p-namespaces-label\">\n",
       "<span>Namespaces</span>\n",
       "</h3>\n",
       "<div class=\"vector-menu-content\">\n",
       "<ul class=\"vector-menu-content-list\"><li class=\"selected\" id=\"ca-nstab-main\"><a accesskey=\"c\" href=\"/wiki/The_Vinelander\" title=\"View the content page [c]\">Article</a></li><li id=\"ca-talk\"><a accesskey=\"t\" href=\"/wiki/Talk:The_Vinelander\" rel=\"discussion\" title=\"Discuss improvements to the content page [t]\">Talk</a></li></ul>\n",
       "</div>\n",
       "</nav>\n",
       "<!-- Please do not use role attribute as CSS selector, it is deprecated. -->\n",
       "<nav aria-labelledby=\"p-variants-label\" class=\"mw-portlet mw-portlet-variants emptyPortlet vector-menu vector-menu-dropdown\" id=\"p-variants\" role=\"navigation\">\n",
       "<input aria-labelledby=\"p-variants-label\" class=\"vector-menu-checkbox\" type=\"checkbox\"/>\n",
       "<h3 class=\"vector-menu-heading\" id=\"p-variants-label\">\n",
       "<span>Variants</span>\n",
       "</h3>\n",
       "<div class=\"vector-menu-content\">\n",
       "<ul class=\"vector-menu-content-list\"></ul>\n",
       "</div>\n",
       "</nav>\n",
       "</div>\n",
       "<div id=\"right-navigation\">\n",
       "<!-- Please do not use role attribute as CSS selector, it is deprecated. -->\n",
       "<nav aria-labelledby=\"p-views-label\" class=\"mw-portlet mw-portlet-views vector-menu vector-menu-tabs\" id=\"p-views\" role=\"navigation\">\n",
       "<h3 class=\"vector-menu-heading\" id=\"p-views-label\">\n",
       "<span>Views</span>\n",
       "</h3>\n",
       "<div class=\"vector-menu-content\">\n",
       "<ul class=\"vector-menu-content-list\"><li class=\"selected\" id=\"ca-view\"><a href=\"/wiki/The_Vinelander\">Read</a></li><li id=\"ca-edit\"><a accesskey=\"e\" href=\"/w/index.php?title=The_Vinelander&amp;action=edit\" title=\"Edit this page [e]\">Edit</a></li><li id=\"ca-history\"><a accesskey=\"h\" href=\"/w/index.php?title=The_Vinelander&amp;action=history\" title=\"Past revisions of this page [h]\">View history</a></li></ul>\n",
       "</div>\n",
       "</nav>\n",
       "<!-- Please do not use role attribute as CSS selector, it is deprecated. -->\n",
       "<nav aria-labelledby=\"p-cactions-label\" class=\"mw-portlet mw-portlet-cactions emptyPortlet vector-menu vector-menu-dropdown\" id=\"p-cactions\" role=\"navigation\">\n",
       "<input aria-labelledby=\"p-cactions-label\" class=\"vector-menu-checkbox\" type=\"checkbox\"/>\n",
       "<h3 class=\"vector-menu-heading\" id=\"p-cactions-label\">\n",
       "<span>More</span>\n",
       "</h3>\n",
       "<div class=\"vector-menu-content\">\n",
       "<ul class=\"vector-menu-content-list\"></ul>\n",
       "</div>\n",
       "</nav>\n",
       "<div id=\"p-search\" role=\"search\">\n",
       "<h3>\n",
       "<label for=\"searchInput\">Search</label>\n",
       "</h3>\n",
       "<form action=\"/w/index.php\" id=\"searchform\">\n",
       "<div data-search-loc=\"header-navigation\" id=\"simpleSearch\">\n",
       "<input accesskey=\"f\" autocapitalize=\"sentences\" id=\"searchInput\" name=\"search\" placeholder=\"Search Wikipedia\" title=\"Search Wikipedia [f]\" type=\"search\"/>\n",
       "<input name=\"title\" type=\"hidden\" value=\"Special:Search\"/>\n",
       "<input class=\"searchButton mw-fallbackSearchButton\" id=\"mw-searchButton\" name=\"fulltext\" title=\"Search Wikipedia for this text\" type=\"submit\" value=\"Search\"/>\n",
       "<input class=\"searchButton\" id=\"searchButton\" name=\"go\" title=\"Go to a page with this exact name if it exists\" type=\"submit\" value=\"Go\"/>\n",
       "</div>\n",
       "</form>\n",
       "</div>\n",
       "</div>\n",
       "</div>\n",
       "<div id=\"mw-panel\">\n",
       "<div id=\"p-logo\" role=\"banner\">\n",
       "<a class=\"mw-wiki-logo\" href=\"/wiki/Main_Page\" title=\"Visit the main page\"></a>\n",
       "</div>\n",
       "<!-- Please do not use role attribute as CSS selector, it is deprecated. -->\n",
       "<nav aria-labelledby=\"p-navigation-label\" class=\"mw-portlet mw-portlet-navigation vector-menu vector-menu-portal portal\" id=\"p-navigation\" role=\"navigation\">\n",
       "<h3 class=\"vector-menu-heading\" id=\"p-navigation-label\">\n",
       "<span>Navigation</span>\n",
       "</h3>\n",
       "<div class=\"vector-menu-content\">\n",
       "<ul class=\"vector-menu-content-list\"><li id=\"n-mainpage-description\"><a accesskey=\"z\" href=\"/wiki/Main_Page\" title=\"Visit the main page [z]\">Main page</a></li><li id=\"n-contents\"><a href=\"/wiki/Wikipedia:Contents\" title=\"Guides to browsing Wikipedia\">Contents</a></li><li id=\"n-currentevents\"><a href=\"/wiki/Portal:Current_events\" title=\"Articles related to current events\">Current events</a></li><li id=\"n-randompage\"><a accesskey=\"x\" href=\"/wiki/Special:Random\" title=\"Visit a randomly selected article [x]\">Random article</a></li><li id=\"n-aboutsite\"><a href=\"/wiki/Wikipedia:About\" title=\"Learn about Wikipedia and how it works\">About Wikipedia</a></li><li id=\"n-contactpage\"><a href=\"//en.wikipedia.org/wiki/Wikipedia:Contact_us\" title=\"How to contact Wikipedia\">Contact us</a></li><li id=\"n-sitesupport\"><a href=\"https://donate.wikimedia.org/wiki/Special:FundraiserRedirector?utm_source=donate&amp;utm_medium=sidebar&amp;utm_campaign=C13_en.wikipedia.org&amp;uselang=en\" title=\"Support us by donating to the Wikimedia Foundation\">Donate</a></li></ul>\n",
       "</div>\n",
       "</nav>\n",
       "<!-- Please do not use role attribute as CSS selector, it is deprecated. -->\n",
       "<nav aria-labelledby=\"p-interaction-label\" class=\"mw-portlet mw-portlet-interaction vector-menu vector-menu-portal portal\" id=\"p-interaction\" role=\"navigation\">\n",
       "<h3 class=\"vector-menu-heading\" id=\"p-interaction-label\">\n",
       "<span>Contribute</span>\n",
       "</h3>\n",
       "<div class=\"vector-menu-content\">\n",
       "<ul class=\"vector-menu-content-list\"><li id=\"n-help\"><a href=\"/wiki/Help:Contents\" title=\"Guidance on how to use and edit Wikipedia\">Help</a></li><li id=\"n-introduction\"><a href=\"/wiki/Help:Introduction\" title=\"Learn how to edit Wikipedia\">Learn to edit</a></li><li id=\"n-portal\"><a href=\"/wiki/Wikipedia:Community_portal\" title=\"The hub for editors\">Community portal</a></li><li id=\"n-recentchanges\"><a accesskey=\"r\" href=\"/wiki/Special:RecentChanges\" title=\"A list of recent changes to Wikipedia [r]\">Recent changes</a></li><li id=\"n-upload\"><a href=\"/wiki/Wikipedia:File_Upload_Wizard\" title=\"Add images or other media for use on Wikipedia\">Upload file</a></li></ul>\n",
       "</div>\n",
       "</nav>\n",
       "<!-- Please do not use role attribute as CSS selector, it is deprecated. -->\n",
       "<nav aria-labelledby=\"p-tb-label\" class=\"mw-portlet mw-portlet-tb vector-menu vector-menu-portal portal\" id=\"p-tb\" role=\"navigation\">\n",
       "<h3 class=\"vector-menu-heading\" id=\"p-tb-label\">\n",
       "<span>Tools</span>\n",
       "</h3>\n",
       "<div class=\"vector-menu-content\">\n",
       "<ul class=\"vector-menu-content-list\"><li id=\"t-whatlinkshere\"><a accesskey=\"j\" href=\"/wiki/Special:WhatLinksHere/The_Vinelander\" title=\"List of all English Wikipedia pages containing links to this page [j]\">What links here</a></li><li id=\"t-recentchangeslinked\"><a accesskey=\"k\" href=\"/wiki/Special:RecentChangesLinked/The_Vinelander\" rel=\"nofollow\" title=\"Recent changes in pages linked from this page [k]\">Related changes</a></li><li id=\"t-upload\"><a accesskey=\"u\" href=\"/wiki/Wikipedia:File_Upload_Wizard\" title=\"Upload files [u]\">Upload file</a></li><li id=\"t-specialpages\"><a accesskey=\"q\" href=\"/wiki/Special:SpecialPages\" title=\"A list of all special pages [q]\">Special pages</a></li><li id=\"t-permalink\"><a href=\"/w/index.php?title=The_Vinelander&amp;oldid=1012433723\" title=\"Permanent link to this revision of this page\">Permanent link</a></li><li id=\"t-info\"><a href=\"/w/index.php?title=The_Vinelander&amp;action=info\" title=\"More information about this page\">Page information</a></li><li id=\"t-cite\"><a href=\"/w/index.php?title=Special:CiteThisPage&amp;page=The_Vinelander&amp;id=1012433723&amp;wpFormIdentifier=titleform\" title=\"Information on how to cite this page\">Cite this page</a></li><li id=\"t-wikibase\"><a accesskey=\"g\" href=\"https://www.wikidata.org/wiki/Special:EntityPage/Q7932449\" title=\"Structured data on this page hosted by Wikidata [g]\">Wikidata item</a></li></ul>\n",
       "</div>\n",
       "</nav>\n",
       "<!-- Please do not use role attribute as CSS selector, it is deprecated. -->\n",
       "<nav aria-labelledby=\"p-coll-print_export-label\" class=\"mw-portlet mw-portlet-coll-print_export vector-menu vector-menu-portal portal\" id=\"p-coll-print_export\" role=\"navigation\">\n",
       "<h3 class=\"vector-menu-heading\" id=\"p-coll-print_export-label\">\n",
       "<span>Print/export</span>\n",
       "</h3>\n",
       "<div class=\"vector-menu-content\">\n",
       "<ul class=\"vector-menu-content-list\"><li id=\"coll-download-as-rl\"><a href=\"/w/index.php?title=Special:DownloadAsPdf&amp;page=The_Vinelander&amp;action=show-download-screen\" title=\"Download this page as a PDF file\">Download as PDF</a></li><li id=\"t-print\"><a accesskey=\"p\" href=\"/w/index.php?title=The_Vinelander&amp;printable=yes\" title=\"Printable version of this page [p]\">Printable version</a></li></ul>\n",
       "</div>\n",
       "</nav>\n",
       "<!-- Please do not use role attribute as CSS selector, it is deprecated. -->\n",
       "<nav aria-labelledby=\"p-wikibase-otherprojects-label\" class=\"mw-portlet mw-portlet-wikibase-otherprojects vector-menu vector-menu-portal portal\" id=\"p-wikibase-otherprojects\" role=\"navigation\">\n",
       "<h3 class=\"vector-menu-heading\" id=\"p-wikibase-otherprojects-label\">\n",
       "<span>In other projects</span>\n",
       "</h3>\n",
       "<div class=\"vector-menu-content\">\n",
       "<ul class=\"vector-menu-content-list\"><li class=\"wb-otherproject-link wb-otherproject-commons\"><a href=\"https://commons.wikimedia.org/wiki/Category:The_Vinelander\" hreflang=\"en\">Wikimedia Commons</a></li></ul>\n",
       "</div>\n",
       "</nav>\n",
       "<!-- Please do not use role attribute as CSS selector, it is deprecated. -->\n",
       "<nav aria-labelledby=\"p-lang-label\" class=\"mw-portlet mw-portlet-lang vector-menu vector-menu-portal portal\" id=\"p-lang\" role=\"navigation\">\n",
       "<h3 class=\"vector-menu-heading\" id=\"p-lang-label\">\n",
       "<span>Languages</span>\n",
       "</h3>\n",
       "<div class=\"vector-menu-content\">\n",
       "<ul class=\"vector-menu-content-list\"></ul>\n",
       "<div class=\"after-portlet after-portlet-lang\"><span class=\"uls-after-portlet-link\"></span><span class=\"wb-langlinks-add wb-langlinks-link\"><a class=\"wbc-editpage\" href=\"https://www.wikidata.org/wiki/Special:EntityPage/Q7932449#sitelinks-wikipedia\" title=\"Add interlanguage links\">Add links</a></span></div>\n",
       "</div>\n",
       "</nav>\n",
       "</div>\n",
       "</div>\n",
       "<footer class=\"mw-footer\" id=\"footer\" role=\"contentinfo\">\n",
       "<ul id=\"footer-info\">\n",
       "<li id=\"footer-info-lastmod\"> This page was last edited on 16 March 2021, at 10:39<span class=\"anonymous-show\"> (UTC)</span>.</li>\n",
       "<li id=\"footer-info-copyright\">Text is available under the <a href=\"//en.wikipedia.org/wiki/Wikipedia:Text_of_Creative_Commons_Attribution-ShareAlike_3.0_Unported_License\" rel=\"license\">Creative Commons Attribution-ShareAlike License</a><a href=\"//creativecommons.org/licenses/by-sa/3.0/\" rel=\"license\" style=\"display:none;\"></a>;\n",
       "additional terms may apply.  By using this site, you agree to the <a href=\"//foundation.wikimedia.org/wiki/Terms_of_Use\">Terms of Use</a> and <a href=\"//foundation.wikimedia.org/wiki/Privacy_policy\">Privacy Policy</a>. Wikipedia® is a registered trademark of the <a href=\"//www.wikimediafoundation.org/\">Wikimedia Foundation, Inc.</a>, a non-profit organization.</li>\n",
       "</ul>\n",
       "<ul id=\"footer-places\">\n",
       "<li id=\"footer-places-privacy\"><a class=\"extiw\" href=\"https://foundation.wikimedia.org/wiki/Privacy_policy\" title=\"wmf:Privacy policy\">Privacy policy</a></li>\n",
       "<li id=\"footer-places-about\"><a href=\"/wiki/Wikipedia:About\" title=\"Wikipedia:About\">About Wikipedia</a></li>\n",
       "<li id=\"footer-places-disclaimer\"><a href=\"/wiki/Wikipedia:General_disclaimer\" title=\"Wikipedia:General disclaimer\">Disclaimers</a></li>\n",
       "<li id=\"footer-places-contact\"><a href=\"//en.wikipedia.org/wiki/Wikipedia:Contact_us\">Contact Wikipedia</a></li>\n",
       "<li id=\"footer-places-mobileview\"><a class=\"noprint stopMobileRedirectToggle\" href=\"//en.m.wikipedia.org/w/index.php?title=The_Vinelander&amp;mobileaction=toggle_view_mobile\">Mobile view</a></li>\n",
       "<li id=\"footer-places-developers\"><a href=\"https://www.mediawiki.org/wiki/Special:MyLanguage/How_to_contribute\">Developers</a></li>\n",
       "<li id=\"footer-places-statslink\"><a href=\"https://stats.wikimedia.org/#/en.wikipedia.org\">Statistics</a></li>\n",
       "<li id=\"footer-places-cookiestatement\"><a href=\"https://foundation.wikimedia.org/wiki/Cookie_statement\">Cookie statement</a></li>\n",
       "</ul>\n",
       "<ul class=\"noprint\" id=\"footer-icons\">\n",
       "<li id=\"footer-copyrightico\"><a href=\"https://wikimediafoundation.org/\"><img alt=\"Wikimedia Foundation\" height=\"31\" loading=\"lazy\" src=\"/static/images/footer/wikimedia-button.png\" srcset=\"/static/images/footer/wikimedia-button-1.5x.png 1.5x, /static/images/footer/wikimedia-button-2x.png 2x\" width=\"88\"/></a></li>\n",
       "<li id=\"footer-poweredbyico\"><a href=\"https://www.mediawiki.org/\"><img alt=\"Powered by MediaWiki\" height=\"31\" loading=\"lazy\" src=\"/static/images/footer/poweredby_mediawiki_88x31.png\" srcset=\"/static/images/footer/poweredby_mediawiki_132x47.png 1.5x, /static/images/footer/poweredby_mediawiki_176x62.png 2x\" width=\"88\"/></a></li>\n",
       "</ul>\n",
       "<div style=\"clear: both;\"></div>\n",
       "</footer>\n",
       "<script>(RLQ=window.RLQ||[]).push(function(){mw.config.set({\"wgPageParseReport\":{\"limitreport\":{\"cputime\":\"0.282\",\"walltime\":\"0.372\",\"ppvisitednodes\":{\"value\":1124,\"limit\":1000000},\"postexpandincludesize\":{\"value\":27998,\"limit\":2097152},\"templateargumentsize\":{\"value\":1186,\"limit\":2097152},\"expansiondepth\":{\"value\":13,\"limit\":40},\"expensivefunctioncount\":{\"value\":2,\"limit\":500},\"unstrip-depth\":{\"value\":1,\"limit\":20},\"unstrip-size\":{\"value\":31040,\"limit\":5000000},\"entityaccesscount\":{\"value\":0,\"limit\":400},\"timingprofile\":[\"100.00%  335.180      1 -total\",\" 51.13%  171.371      1 Template:Reflist\",\" 31.60%  105.912      3 Template:Cite_book\",\" 19.40%   65.019      1 Template:Infobox_rail_service\",\" 14.11%   47.285      1 Template:Infobox\",\" 13.50%   45.266      1 Template:Use_dmy_dates\",\"  8.87%   29.745      5 Template:Cite_web\",\"  8.75%   29.335      1 Template:Named_trains_of_the_Victorian_Railways\",\"  8.53%   28.605      2 Template:DMCA\",\"  7.48%   25.061      1 Template:Navbox\"]},\"scribunto\":{\"limitreport-timeusage\":{\"value\":\"0.139\",\"limit\":\"10.000\"},\"limitreport-memusage\":{\"value\":4732801,\"limit\":52428800}},\"cachereport\":{\"origin\":\"mw1382\",\"timestamp\":\"20210316103933\",\"ttl\":2592000,\"transientcontent\":false}}});});</script>\n",
       "<script type=\"application/ld+json\">{\"@context\":\"https:\\/\\/schema.org\",\"@type\":\"Article\",\"name\":\"The Vinelander\",\"url\":\"https:\\/\\/en.wikipedia.org\\/wiki\\/The_Vinelander\",\"sameAs\":\"http:\\/\\/www.wikidata.org\\/entity\\/Q7932449\",\"mainEntity\":\"http:\\/\\/www.wikidata.org\\/entity\\/Q7932449\",\"author\":{\"@type\":\"Organization\",\"name\":\"Contributors to Wikimedia projects\"},\"publisher\":{\"@type\":\"Organization\",\"name\":\"Wikimedia Foundation, Inc.\",\"logo\":{\"@type\":\"ImageObject\",\"url\":\"https:\\/\\/www.wikimedia.org\\/static\\/images\\/wmf-hor-googpub.png\"}},\"datePublished\":\"2008-08-30T08:04:56Z\",\"dateModified\":\"2021-03-16T10:39:33Z\",\"image\":\"https:\\/\\/upload.wikimedia.org\\/wikipedia\\/commons\\/4\\/4f\\/Vinelander_Carriage_Newport_2014.jpg\"}</script>\n",
       "<script>(RLQ=window.RLQ||[]).push(function(){mw.config.set({\"wgBackendResponseTime\":167,\"wgHostname\":\"mw1327\"});});</script>\n",
       "</body></html>"
      ]
     },
     "execution_count": 11,
     "metadata": {},
     "output_type": "execute_result"
    }
   ],
   "source": [
    "soup"
   ]
  },
  {
   "cell_type": "code",
   "execution_count": 12,
   "metadata": {},
   "outputs": [
    {
     "data": {
      "text/plain": [
       "[<title>The Vinelander - Wikipedia</title>]"
      ]
     },
     "execution_count": 12,
     "metadata": {},
     "output_type": "execute_result"
    }
   ],
   "source": [
    "soup.select('title')"
   ]
  },
  {
   "cell_type": "code",
   "execution_count": 13,
   "metadata": {},
   "outputs": [
    {
     "data": {
      "text/plain": [
       "[<p class=\"mw-empty-elt\">\n",
       " </p>,\n",
       " <p><i><b>The Vinelander</b></i> was an Australian passenger train operated by the <a href=\"/wiki/Victorian_Railways\" title=\"Victorian Railways\">Victorian Railways</a> and later <a href=\"/wiki/V/Line\" title=\"V/Line\">V/Line</a> between <a href=\"/wiki/Southern_Cross_railway_station\" title=\"Southern Cross railway station\">Melbourne</a> and <a href=\"/wiki/Mildura_railway_station\" title=\"Mildura railway station\">Mildura</a> from August 1972 until September 1993. Operating overnight along the <a href=\"/wiki/Mildura_railway_line\" title=\"Mildura railway line\">Mildura line</a>, it included <a href=\"/wiki/Motorail\" title=\"Motorail\">motorail</a> and <a href=\"/wiki/Sleeping_car\" title=\"Sleeping car\">sleeping car</a> facilities.\n",
       " </p>,\n",
       " <p>A trial daylight service, the <i>Mildura Sunlight</i> was introduced by the <a href=\"/wiki/Victorian_Railways\" title=\"Victorian Railways\">Victorian Railways</a> between <a href=\"/wiki/Southern_Cross_railway_station\" title=\"Southern Cross railway station\">Melbourne</a> and <a href=\"/wiki/Mildura_railway_station\" title=\"Mildura railway station\">Mildura</a> on 3 September 1957. Air-conditioned <a class=\"mw-redirect\" href=\"/wiki/Z_type_carriage\" title=\"Z type carriage\">Z type carriage</a> stock was used, running thrice weekly.<sup class=\"reference\" id=\"cite_ref-lee_1-0\"><a href=\"#cite_note-lee-1\">[1]</a></sup>\n",
       " </p>,\n",
       " <p>Night trains replaced this from 1967, and a <a href=\"/wiki/Motorail\" title=\"Motorail\">motorail</a> service was added in 1968.<sup class=\"reference\" id=\"cite_ref-rhsv_2-0\"><a href=\"#cite_note-rhsv-2\">[2]</a></sup>\n",
       " </p>,\n",
       " <p><i>The Vinelander</i> first ran on 9 August 1972 after intense local lobbying for an upgrade of the existing overnight train.<sup class=\"reference\" id=\"cite_ref-3\"><a href=\"#cite_note-3\">[3]</a></sup><sup class=\"reference\" id=\"cite_ref-RailwayAge_4-0\"><a href=\"#cite_note-RailwayAge-4\">[4]</a></sup> The name was the product of a naming competition held by the Victorian Railways, with steel sleeping cars formerly used on <i><a href=\"/wiki/The_Overland\" title=\"The Overland\">The Overland</a></i> being used,<sup class=\"reference\" id=\"cite_ref-5\"><a href=\"#cite_note-5\">[5]</a></sup> along with <a class=\"mw-redirect\" href=\"/wiki/E_type_carriage\" title=\"E type carriage\">older wooded stock</a>. A <a href=\"/wiki/Buffet_car\" title=\"Buffet car\">buffet car</a> and bar was added to the train from 18 July 1977,<sup class=\"reference\" id=\"cite_ref-vicrail6283_6-0\"><a href=\"#cite_note-vicrail6283-6\">[6]</a></sup> but drunken behaviour became an issue, with offending passengers being removed from the train at intermediate stations. The typical timetable of the 1970s had a Melbourne departure at 21:20 and an arrival into Mildura at 08:05.<sup class=\"reference\" id=\"cite_ref-RailwayAge_4-1\"><a href=\"#cite_note-RailwayAge-4\">[4]</a></sup>\n",
       " </p>,\n",
       " <p>The train was promoted as one of the Victorian Railways' premier trains, in 1974 Victorian Railways sponsored a race meeting of the Mildura Racing Club, with the winner receiving the Vinelander Plate.<sup class=\"reference\" id=\"cite_ref-RailwayAge_4-2\"><a href=\"#cite_note-RailwayAge-4\">[4]</a></sup>\n",
       " </p>,\n",
       " <p>In 1984 a parallel road coach commenced operations. A day train named <i>The Sunraysia</i> commenced in 1987 but was withdrawn in 1990.<sup class=\"reference\" id=\"cite_ref-rhsv_2-1\"><a href=\"#cite_note-rhsv-2\">[2]</a></sup>\n",
       " </p>,\n",
       " <p>By November 1986, <i>The Vinelander</i> was only operating two nights per week, with <i>The Sunraysia</i> daylight service running as a replacement on some other days. The price of the sleeping car service also rose; from $17 per berth in 1985, it had risen to $30 per berth by July 1986. Staff levels were also reduced, with one conductor to manage two carriages (prior to this it was a one-to-one ratio). This was seen by some as an attempt by <a href=\"/wiki/V/Line\" title=\"V/Line\">V/Line</a> management to cut back the service.<sup class=\"reference\" id=\"cite_ref-7\"><a href=\"#cite_note-7\">[7]</a></sup><sup class=\"reference\" id=\"cite_ref-8\"><a href=\"#cite_note-8\">[8]</a></sup>\n",
       " </p>,\n",
       " <p>The last <i>Vinelander</i> ran on 12 September 1993 after the cutbacks of the <a href=\"/wiki/Jeff_Kennett\" title=\"Jeff Kennett\">Kennett Government</a>.<sup class=\"reference\" id=\"cite_ref-RailwayAge_4-3\"><a href=\"#cite_note-RailwayAge-4\">[4]</a></sup> A service review was announced by the <a href=\"/wiki/Bracks_Ministry\" title=\"Bracks Ministry\">Bracks Government</a> in 2000,<sup class=\"reference\" id=\"cite_ref-9\"><a href=\"#cite_note-9\">[9]</a></sup> in part due to the independent politician <a href=\"/wiki/Russell_Savage\" title=\"Russell Savage\">Russell Savage</a> enabling the formation of a minority Labor government after the <a href=\"/wiki/1999_Victorian_state_election\" title=\"1999 Victorian state election\">1999 Victorian state election</a>.<sup class=\"reference\" id=\"cite_ref-10\"><a href=\"#cite_note-10\">[10]</a></sup> The service never returned.\n",
       " </p>,\n",
       " <p>The withdrawal of <i>The Vinelander</i> service in 1993 occurred under controversial circumstances. Two days before the service was scheduled to be axed, intending passengers were on the platform at <a href=\"/wiki/Southern_Cross_railway_station\" title=\"Southern Cross railway station\">Spencer Street station</a>, ready to board the train to Mildura, when it was announced that it had been cancelled due to a landslide along the track. Despite the very short notice of the cancellation, buses were conveniently available as an alternative. Suspicions about the supposed landslide story were aroused when it was noted that it hadn't blocked the Melbourne-bound <i>Vinelander</i> that same evening.\n",
       " </p>,\n",
       " <p>A leaked document from the train controllers working that evening also aroused suspicion and an investigation revealed that the story about the landslide was a hoax.<sup class=\"reference\" id=\"cite_ref-11\"><a href=\"#cite_note-11\">[11]</a></sup>\n",
       " </p>,\n",
       " <p>V/Line management failed to give any clear explanation for their actions and it is widely believed that the sudden cancellation of the final <i>Vinelander</i> service was done to avoid any protests, such as the one that had taken place earlier at <a href=\"/wiki/Bairnsdale_railway_station\" title=\"Bairnsdale railway station\">Bairnsdale</a>, when the withdrawal of the service occurred as planned a couple of days later.\n",
       " </p>]"
      ]
     },
     "execution_count": 13,
     "metadata": {},
     "output_type": "execute_result"
    }
   ],
   "source": [
    "soup.select('p')"
   ]
  },
  {
   "cell_type": "code",
   "execution_count": 14,
   "metadata": {},
   "outputs": [
    {
     "data": {
      "text/plain": [
       "[<h1 class=\"firstHeading\" id=\"firstHeading\">The Vinelander</h1>]"
      ]
     },
     "execution_count": 14,
     "metadata": {},
     "output_type": "execute_result"
    }
   ],
   "source": [
    "soup.select('h1')"
   ]
  },
  {
   "cell_type": "code",
   "execution_count": 15,
   "metadata": {},
   "outputs": [
    {
     "data": {
      "text/plain": [
       "'The Vinelander - Wikipedia'"
      ]
     },
     "execution_count": 15,
     "metadata": {},
     "output_type": "execute_result"
    }
   ],
   "source": [
    "soup.select('title')[0].getText()"
   ]
  },
  {
   "cell_type": "code",
   "execution_count": 19,
   "metadata": {},
   "outputs": [],
   "source": [
    "site_paragraphs = soup.select(\"p\")"
   ]
  },
  {
   "cell_type": "code",
   "execution_count": 21,
   "metadata": {},
   "outputs": [
    {
     "data": {
      "text/plain": [
       "'The Vinelander was an Australian passenger train operated by the Victorian Railways and later V/Line between Melbourne and Mildura from August 1972 until September 1993. Operating overnight along the Mildura line, it included motorail and sleeping car facilities.\\n'"
      ]
     },
     "execution_count": 21,
     "metadata": {},
     "output_type": "execute_result"
    }
   ],
   "source": [
    "site_paragraphs[1].getText()"
   ]
  },
  {
   "cell_type": "code",
   "execution_count": 23,
   "metadata": {},
   "outputs": [],
   "source": [
    "res = requests.get('https://en.wikipedia.org/wiki/The_Vinelander')"
   ]
  },
  {
   "cell_type": "code",
   "execution_count": 25,
   "metadata": {},
   "outputs": [],
   "source": [
    "soup = bs4.BeautifulSoup(res.text,'lxml')"
   ]
  },
  {
   "cell_type": "code",
   "execution_count": 26,
   "metadata": {},
   "outputs": [
    {
     "data": {
      "text/plain": [
       "<!DOCTYPE html>\n",
       "<html class=\"client-nojs\" dir=\"ltr\" lang=\"en\">\n",
       "<head>\n",
       "<meta charset=\"utf-8\"/>\n",
       "<title>The Vinelander - Wikipedia</title>\n",
       "<script>document.documentElement.className=\"client-js\";RLCONF={\"wgBreakFrames\":!1,\"wgSeparatorTransformTable\":[\"\",\"\"],\"wgDigitTransformTable\":[\"\",\"\"],\"wgDefaultDateFormat\":\"dmy\",\"wgMonthNames\":[\"\",\"January\",\"February\",\"March\",\"April\",\"May\",\"June\",\"July\",\"August\",\"September\",\"October\",\"November\",\"December\"],\"wgRequestId\":\"a2270bf5-c8ae-4587-a678-8c3bcc50cdfa\",\"wgCSPNonce\":!1,\"wgCanonicalNamespace\":\"\",\"wgCanonicalSpecialPageName\":!1,\"wgNamespaceNumber\":0,\"wgPageName\":\"The_Vinelander\",\"wgTitle\":\"The Vinelander\",\"wgCurRevisionId\":1012433723,\"wgRevisionId\":1012433723,\"wgArticleId\":19100873,\"wgIsArticle\":!0,\"wgIsRedirect\":!1,\"wgAction\":\"view\",\"wgUserName\":null,\"wgUserGroups\":[\"*\"],\"wgCategories\":[\"Use dmy dates from June 2015\",\"Use Australian English from June 2015\",\"All Wikipedia articles written in Australian English\",\"Named passenger trains of Victoria (Australia)\",\"Night trains of Australia\",\"Railway services introduced in 1972\",\"Railway services discontinued in 1993\",\n",
       "\"1972 establishments in Australia\",\"1993 disestablishments in Australia\",\"Discontinued railway services in Australia\"],\"wgPageContentLanguage\":\"en\",\"wgPageContentModel\":\"wikitext\",\"wgRelevantPageName\":\"The_Vinelander\",\"wgRelevantArticleId\":19100873,\"wgIsProbablyEditable\":!0,\"wgRelevantPageIsProbablyEditable\":!0,\"wgRestrictionEdit\":[],\"wgRestrictionMove\":[],\"wgMediaViewerOnClick\":!0,\"wgMediaViewerEnabledByDefault\":!0,\"wgPopupsReferencePreviews\":!1,\"wgPopupsReferencePreviewsBeta\":!0,\"wgPopupsConflictsWithNavPopupGadget\":!1,\"wgPopupsConflictsWithRefTooltipsGadget\":!0,\"wgVisualEditor\":{\"pageLanguageCode\":\"en\",\"pageLanguageDir\":\"ltr\",\"pageVariantFallbacks\":\"en\"},\"wgMFDisplayWikibaseDescriptions\":{\"search\":!0,\"nearby\":!0,\"watchlist\":!0,\"tagline\":!1},\"wgWMESchemaEditAttemptStepOversample\":!1,\"wgULSCurrentAutonym\":\"English\",\"wgNoticeProject\":\"wikipedia\",\"wgCentralAuthMobileDomain\":!1,\"wgEditSubmitButtonLabelPublish\":!0,\"wgULSPosition\":\"interlanguage\",\n",
       "\"wgWikibaseItemId\":\"Q7932449\"};RLSTATE={\"ext.globalCssJs.user.styles\":\"ready\",\"site.styles\":\"ready\",\"noscript\":\"ready\",\"user.styles\":\"ready\",\"ext.globalCssJs.user\":\"ready\",\"user\":\"ready\",\"user.options\":\"loading\",\"ext.cite.styles\":\"ready\",\"skins.vector.styles.legacy\":\"ready\",\"jquery.makeCollapsible.styles\":\"ready\",\"ext.visualEditor.desktopArticleTarget.noscript\":\"ready\",\"ext.uls.interlanguage\":\"ready\",\"ext.wikimediaBadges\":\"ready\",\"wikibase.client.init\":\"ready\"};RLPAGEMODULES=[\"ext.cite.ux-enhancements\",\"site\",\"mediawiki.page.ready\",\"jquery.makeCollapsible\",\"mediawiki.toc\",\"skins.vector.legacy.js\",\"ext.gadget.ReferenceTooltips\",\"ext.gadget.charinsert\",\"ext.gadget.extra-toolbar-buttons\",\"ext.gadget.refToolbar\",\"ext.gadget.switcher\",\"ext.centralauth.centralautologin\",\"mmv.head\",\"mmv.bootstrap.autostart\",\"ext.popups\",\"ext.visualEditor.desktopArticleTarget.init\",\"ext.visualEditor.targetLoader\",\"ext.eventLogging\",\"ext.wikimediaEvents\",\"ext.navigationTiming\",\"ext.uls.compactlinks\",\n",
       "\"ext.uls.interface\",\"ext.cx.eventlogging.campaigns\",\"ext.centralNotice.geoIP\",\"ext.centralNotice.startUp\"];</script>\n",
       "<script>(RLQ=window.RLQ||[]).push(function(){mw.loader.implement(\"user.options@1hzgi\",function($,jQuery,require,module){/*@nomin*/mw.user.tokens.set({\"patrolToken\":\"+\\\\\",\"watchToken\":\"+\\\\\",\"csrfToken\":\"+\\\\\"});\n",
       "});});</script>\n",
       "<link href=\"/w/load.php?lang=en&amp;modules=ext.cite.styles%7Cext.uls.interlanguage%7Cext.visualEditor.desktopArticleTarget.noscript%7Cext.wikimediaBadges%7Cjquery.makeCollapsible.styles%7Cskins.vector.styles.legacy%7Cwikibase.client.init&amp;only=styles&amp;skin=vector\" rel=\"stylesheet\"/>\n",
       "<script async=\"\" src=\"/w/load.php?lang=en&amp;modules=startup&amp;only=scripts&amp;raw=1&amp;skin=vector\"></script>\n",
       "<meta content=\"\" name=\"ResourceLoaderDynamicStyles\"/>\n",
       "<link href=\"/w/load.php?lang=en&amp;modules=site.styles&amp;only=styles&amp;skin=vector\" rel=\"stylesheet\"/>\n",
       "<meta content=\"MediaWiki 1.36.0-wmf.35\" name=\"generator\"/>\n",
       "<meta content=\"origin\" name=\"referrer\"/>\n",
       "<meta content=\"origin-when-crossorigin\" name=\"referrer\"/>\n",
       "<meta content=\"origin-when-cross-origin\" name=\"referrer\"/>\n",
       "<meta content=\"https://upload.wikimedia.org/wikipedia/commons/thumb/4/4f/Vinelander_Carriage_Newport_2014.jpg/1200px-Vinelander_Carriage_Newport_2014.jpg\" property=\"og:image\"/>\n",
       "<meta content=\"The Vinelander - Wikipedia\" property=\"og:title\"/>\n",
       "<meta content=\"website\" property=\"og:type\"/>\n",
       "<link href=\"//upload.wikimedia.org\" rel=\"preconnect\"/>\n",
       "<link href=\"//en.m.wikipedia.org/wiki/The_Vinelander\" media=\"only screen and (max-width: 720px)\" rel=\"alternate\"/>\n",
       "<link href=\"/w/index.php?title=The_Vinelander&amp;action=edit\" rel=\"alternate\" title=\"Edit this page\" type=\"application/x-wiki\"/>\n",
       "<link href=\"/w/index.php?title=The_Vinelander&amp;action=edit\" rel=\"edit\" title=\"Edit this page\"/>\n",
       "<link href=\"/static/apple-touch/wikipedia.png\" rel=\"apple-touch-icon\"/>\n",
       "<link href=\"/static/favicon/wikipedia.ico\" rel=\"shortcut icon\"/>\n",
       "<link href=\"/w/opensearch_desc.php\" rel=\"search\" title=\"Wikipedia (en)\" type=\"application/opensearchdescription+xml\"/>\n",
       "<link href=\"//en.wikipedia.org/w/api.php?action=rsd\" rel=\"EditURI\" type=\"application/rsd+xml\"/>\n",
       "<link href=\"//creativecommons.org/licenses/by-sa/3.0/\" rel=\"license\"/>\n",
       "<link href=\"https://en.wikipedia.org/wiki/The_Vinelander\" rel=\"canonical\"/>\n",
       "<link href=\"//login.wikimedia.org\" rel=\"dns-prefetch\"/>\n",
       "<link href=\"//meta.wikimedia.org\" rel=\"dns-prefetch\"/>\n",
       "</head>\n",
       "<body class=\"mediawiki ltr sitedir-ltr mw-hide-empty-elt ns-0 ns-subject mw-editable page-The_Vinelander rootpage-The_Vinelander skin-vector action-view skin-vector-legacy\"><div class=\"noprint\" id=\"mw-page-base\"></div>\n",
       "<div class=\"noprint\" id=\"mw-head-base\"></div>\n",
       "<div class=\"mw-body\" id=\"content\" role=\"main\">\n",
       "<a id=\"top\"></a>\n",
       "<div class=\"mw-body-content\" id=\"siteNotice\"><!-- CentralNotice --></div>\n",
       "<div class=\"mw-indicators mw-body-content\">\n",
       "</div>\n",
       "<h1 class=\"firstHeading\" id=\"firstHeading\">The Vinelander</h1>\n",
       "<div class=\"mw-body-content\" id=\"bodyContent\">\n",
       "<div class=\"noprint\" id=\"siteSub\">From Wikipedia, the free encyclopedia</div>\n",
       "<div id=\"contentSub\"></div>\n",
       "<div id=\"contentSub2\"></div>\n",
       "<div id=\"jump-to-nav\"></div>\n",
       "<a class=\"mw-jump-link\" href=\"#mw-head\">Jump to navigation</a>\n",
       "<a class=\"mw-jump-link\" href=\"#searchInput\">Jump to search</a>\n",
       "<div class=\"mw-content-ltr\" dir=\"ltr\" id=\"mw-content-text\" lang=\"en\"><div class=\"mw-parser-output\"><p class=\"mw-empty-elt\">\n",
       "</p>\n",
       "<table class=\"infobox\" style=\"width:22em;width:;\"><caption>The Vinelander</caption><tbody><tr><td colspan=\"2\" style=\"text-align:center\"><a class=\"image\" href=\"/wiki/File:Vinelander_Carriage_Newport_2014.jpg\"><img alt=\"Vinelander Carriage Newport 2014.jpg\" data-file-height=\"1936\" data-file-width=\"2592\" decoding=\"async\" height=\"164\" src=\"//upload.wikimedia.org/wikipedia/commons/thumb/4/4f/Vinelander_Carriage_Newport_2014.jpg/220px-Vinelander_Carriage_Newport_2014.jpg\" srcset=\"//upload.wikimedia.org/wikipedia/commons/thumb/4/4f/Vinelander_Carriage_Newport_2014.jpg/330px-Vinelander_Carriage_Newport_2014.jpg 1.5x, //upload.wikimedia.org/wikipedia/commons/thumb/4/4f/Vinelander_Carriage_Newport_2014.jpg/440px-Vinelander_Carriage_Newport_2014.jpg 2x\" width=\"220\"/></a><div>Preserved Vinelander carriage at <a href=\"/wiki/Newport_Workshops\" title=\"Newport Workshops\">Newport Workshops</a> in March 2014</div></td></tr><tr><th colspan=\"2\" style=\"text-align:center;background-color: #efefef\">Overview</th></tr><tr><th scope=\"row\">Service type</th><td>Overnight sleeper train</td></tr><tr><th scope=\"row\">Status</th><td>Ceased</td></tr><tr><th scope=\"row\">First service</th><td>9 August 1972</td></tr><tr><th scope=\"row\">Last service</th><td>12 September 1993</td></tr><tr><th scope=\"row\"><span class=\"nowrap\">Former operator(s)</span></th><td><a href=\"/wiki/V/Line\" title=\"V/Line\">V/Line</a></td></tr><tr><th colspan=\"2\" style=\"text-align:center;background-color: #efefef\">Route</th></tr><tr><th scope=\"row\">Start</th><td><a href=\"/wiki/Southern_Cross_railway_station\" title=\"Southern Cross railway station\">Melbourne</a></td></tr><tr><th scope=\"row\">End</th><td><a href=\"/wiki/Mildura_railway_station\" title=\"Mildura railway station\">Mildura</a></td></tr><tr><th scope=\"row\">Distance travelled</th><td>609 kilometres</td></tr><tr><th scope=\"row\">Line(s) used</th><td><a href=\"/wiki/Serviceton_railway_line\" title=\"Serviceton railway line\">Serviceton</a><br/><a href=\"/wiki/Mildura_railway_line\" title=\"Mildura railway line\">Mildura</a></td></tr></tbody></table>\n",
       "<p><i><b>The Vinelander</b></i> was an Australian passenger train operated by the <a href=\"/wiki/Victorian_Railways\" title=\"Victorian Railways\">Victorian Railways</a> and later <a href=\"/wiki/V/Line\" title=\"V/Line\">V/Line</a> between <a href=\"/wiki/Southern_Cross_railway_station\" title=\"Southern Cross railway station\">Melbourne</a> and <a href=\"/wiki/Mildura_railway_station\" title=\"Mildura railway station\">Mildura</a> from August 1972 until September 1993. Operating overnight along the <a href=\"/wiki/Mildura_railway_line\" title=\"Mildura railway line\">Mildura line</a>, it included <a href=\"/wiki/Motorail\" title=\"Motorail\">motorail</a> and <a href=\"/wiki/Sleeping_car\" title=\"Sleeping car\">sleeping car</a> facilities.\n",
       "</p>\n",
       "<div aria-labelledby=\"mw-toc-heading\" class=\"toc\" id=\"toc\" role=\"navigation\"><input class=\"toctogglecheckbox\" id=\"toctogglecheckbox\" role=\"button\" style=\"display:none\" type=\"checkbox\"/><div class=\"toctitle\" dir=\"ltr\" lang=\"en\"><h2 id=\"mw-toc-heading\">Contents</h2><span class=\"toctogglespan\"><label class=\"toctogglelabel\" for=\"toctogglecheckbox\"></label></span></div>\n",
       "<ul>\n",
       "<li class=\"toclevel-1 tocsection-1\"><a href=\"#History\"><span class=\"tocnumber\">1</span> <span class=\"toctext\">History</span></a></li>\n",
       "<li class=\"toclevel-1 tocsection-2\"><a href=\"#Withdrawal\"><span class=\"tocnumber\">2</span> <span class=\"toctext\">Withdrawal</span></a></li>\n",
       "<li class=\"toclevel-1 tocsection-3\"><a href=\"#References\"><span class=\"tocnumber\">3</span> <span class=\"toctext\">References</span></a></li>\n",
       "<li class=\"toclevel-1 tocsection-4\"><a href=\"#External_links\"><span class=\"tocnumber\">4</span> <span class=\"toctext\">External links</span></a></li>\n",
       "</ul>\n",
       "</div>\n",
       "<h2><span class=\"mw-headline\" id=\"History\">History</span><span class=\"mw-editsection\"><span class=\"mw-editsection-bracket\">[</span><a href=\"/w/index.php?title=The_Vinelander&amp;action=edit&amp;section=1\" title=\"Edit section: History\">edit</a><span class=\"mw-editsection-bracket\">]</span></span></h2>\n",
       "<div class=\"thumb tright\"><div class=\"thumbinner\" style=\"width:222px;\"><a class=\"image\" href=\"/wiki/File:Vinelander_Bed.jpg\"><img alt=\"\" class=\"thumbimage\" data-file-height=\"1936\" data-file-width=\"2592\" decoding=\"async\" height=\"164\" src=\"//upload.wikimedia.org/wikipedia/commons/thumb/d/d4/Vinelander_Bed.jpg/220px-Vinelander_Bed.jpg\" srcset=\"//upload.wikimedia.org/wikipedia/commons/thumb/d/d4/Vinelander_Bed.jpg/330px-Vinelander_Bed.jpg 1.5x, //upload.wikimedia.org/wikipedia/commons/thumb/d/d4/Vinelander_Bed.jpg/440px-Vinelander_Bed.jpg 2x\" width=\"220\"/></a> <div class=\"thumbcaption\"><div class=\"magnify\"><a class=\"internal\" href=\"/wiki/File:Vinelander_Bed.jpg\" title=\"Enlarge\"></a></div>Sleeping facilities</div></div></div>\n",
       "<p>A trial daylight service, the <i>Mildura Sunlight</i> was introduced by the <a href=\"/wiki/Victorian_Railways\" title=\"Victorian Railways\">Victorian Railways</a> between <a href=\"/wiki/Southern_Cross_railway_station\" title=\"Southern Cross railway station\">Melbourne</a> and <a href=\"/wiki/Mildura_railway_station\" title=\"Mildura railway station\">Mildura</a> on 3 September 1957. Air-conditioned <a class=\"mw-redirect\" href=\"/wiki/Z_type_carriage\" title=\"Z type carriage\">Z type carriage</a> stock was used, running thrice weekly.<sup class=\"reference\" id=\"cite_ref-lee_1-0\"><a href=\"#cite_note-lee-1\">[1]</a></sup>\n",
       "</p><p>Night trains replaced this from 1967, and a <a href=\"/wiki/Motorail\" title=\"Motorail\">motorail</a> service was added in 1968.<sup class=\"reference\" id=\"cite_ref-rhsv_2-0\"><a href=\"#cite_note-rhsv-2\">[2]</a></sup>\n",
       "</p><p><i>The Vinelander</i> first ran on 9 August 1972 after intense local lobbying for an upgrade of the existing overnight train.<sup class=\"reference\" id=\"cite_ref-3\"><a href=\"#cite_note-3\">[3]</a></sup><sup class=\"reference\" id=\"cite_ref-RailwayAge_4-0\"><a href=\"#cite_note-RailwayAge-4\">[4]</a></sup> The name was the product of a naming competition held by the Victorian Railways, with steel sleeping cars formerly used on <i><a href=\"/wiki/The_Overland\" title=\"The Overland\">The Overland</a></i> being used,<sup class=\"reference\" id=\"cite_ref-5\"><a href=\"#cite_note-5\">[5]</a></sup> along with <a class=\"mw-redirect\" href=\"/wiki/E_type_carriage\" title=\"E type carriage\">older wooded stock</a>. A <a href=\"/wiki/Buffet_car\" title=\"Buffet car\">buffet car</a> and bar was added to the train from 18 July 1977,<sup class=\"reference\" id=\"cite_ref-vicrail6283_6-0\"><a href=\"#cite_note-vicrail6283-6\">[6]</a></sup> but drunken behaviour became an issue, with offending passengers being removed from the train at intermediate stations. The typical timetable of the 1970s had a Melbourne departure at 21:20 and an arrival into Mildura at 08:05.<sup class=\"reference\" id=\"cite_ref-RailwayAge_4-1\"><a href=\"#cite_note-RailwayAge-4\">[4]</a></sup>\n",
       "</p><p>The train was promoted as one of the Victorian Railways' premier trains, in 1974 Victorian Railways sponsored a race meeting of the Mildura Racing Club, with the winner receiving the Vinelander Plate.<sup class=\"reference\" id=\"cite_ref-RailwayAge_4-2\"><a href=\"#cite_note-RailwayAge-4\">[4]</a></sup>\n",
       "</p><p>In 1984 a parallel road coach commenced operations. A day train named <i>The Sunraysia</i> commenced in 1987 but was withdrawn in 1990.<sup class=\"reference\" id=\"cite_ref-rhsv_2-1\"><a href=\"#cite_note-rhsv-2\">[2]</a></sup>\n",
       "</p><p>By November 1986, <i>The Vinelander</i> was only operating two nights per week, with <i>The Sunraysia</i> daylight service running as a replacement on some other days. The price of the sleeping car service also rose; from $17 per berth in 1985, it had risen to $30 per berth by July 1986. Staff levels were also reduced, with one conductor to manage two carriages (prior to this it was a one-to-one ratio). This was seen by some as an attempt by <a href=\"/wiki/V/Line\" title=\"V/Line\">V/Line</a> management to cut back the service.<sup class=\"reference\" id=\"cite_ref-7\"><a href=\"#cite_note-7\">[7]</a></sup><sup class=\"reference\" id=\"cite_ref-8\"><a href=\"#cite_note-8\">[8]</a></sup>\n",
       "</p><p>The last <i>Vinelander</i> ran on 12 September 1993 after the cutbacks of the <a href=\"/wiki/Jeff_Kennett\" title=\"Jeff Kennett\">Kennett Government</a>.<sup class=\"reference\" id=\"cite_ref-RailwayAge_4-3\"><a href=\"#cite_note-RailwayAge-4\">[4]</a></sup> A service review was announced by the <a href=\"/wiki/Bracks_Ministry\" title=\"Bracks Ministry\">Bracks Government</a> in 2000,<sup class=\"reference\" id=\"cite_ref-9\"><a href=\"#cite_note-9\">[9]</a></sup> in part due to the independent politician <a href=\"/wiki/Russell_Savage\" title=\"Russell Savage\">Russell Savage</a> enabling the formation of a minority Labor government after the <a href=\"/wiki/1999_Victorian_state_election\" title=\"1999 Victorian state election\">1999 Victorian state election</a>.<sup class=\"reference\" id=\"cite_ref-10\"><a href=\"#cite_note-10\">[10]</a></sup> The service never returned.\n",
       "</p>\n",
       "<h2><span class=\"mw-headline\" id=\"Withdrawal\">Withdrawal</span><span class=\"mw-editsection\"><span class=\"mw-editsection-bracket\">[</span><a href=\"/w/index.php?title=The_Vinelander&amp;action=edit&amp;section=2\" title=\"Edit section: Withdrawal\">edit</a><span class=\"mw-editsection-bracket\">]</span></span></h2>\n",
       "<p>The withdrawal of <i>The Vinelander</i> service in 1993 occurred under controversial circumstances. Two days before the service was scheduled to be axed, intending passengers were on the platform at <a href=\"/wiki/Southern_Cross_railway_station\" title=\"Southern Cross railway station\">Spencer Street station</a>, ready to board the train to Mildura, when it was announced that it had been cancelled due to a landslide along the track. Despite the very short notice of the cancellation, buses were conveniently available as an alternative. Suspicions about the supposed landslide story were aroused when it was noted that it hadn't blocked the Melbourne-bound <i>Vinelander</i> that same evening.\n",
       "</p><p>A leaked document from the train controllers working that evening also aroused suspicion and an investigation revealed that the story about the landslide was a hoax.<sup class=\"reference\" id=\"cite_ref-11\"><a href=\"#cite_note-11\">[11]</a></sup>\n",
       "</p><p>V/Line management failed to give any clear explanation for their actions and it is widely believed that the sudden cancellation of the final <i>Vinelander</i> service was done to avoid any protests, such as the one that had taken place earlier at <a href=\"/wiki/Bairnsdale_railway_station\" title=\"Bairnsdale railway station\">Bairnsdale</a>, when the withdrawal of the service occurred as planned a couple of days later.\n",
       "</p>\n",
       "<h2><span class=\"mw-headline\" id=\"References\">References</span><span class=\"mw-editsection\"><span class=\"mw-editsection-bracket\">[</span><a href=\"/w/index.php?title=The_Vinelander&amp;action=edit&amp;section=3\" title=\"Edit section: References\">edit</a><span class=\"mw-editsection-bracket\">]</span></span></h2>\n",
       "<style data-mw-deduplicate=\"TemplateStyles:r1011085734\">.mw-parser-output .reflist{font-size:90%;margin-bottom:0.5em;list-style-type:decimal}.mw-parser-output .reflist .references{font-size:100%;margin-bottom:0;list-style-type:inherit}.mw-parser-output .reflist-columns-2{column-width:30em}.mw-parser-output .reflist-columns-3{column-width:25em}.mw-parser-output .reflist-columns{margin-top:0.3em}.mw-parser-output .reflist-columns ol{margin-top:0}.mw-parser-output .reflist-columns li{page-break-inside:avoid;break-inside:avoid-column}.mw-parser-output .reflist-upper-alpha{list-style-type:upper-alpha}.mw-parser-output .reflist-upper-roman{list-style-type:upper-roman}.mw-parser-output .reflist-lower-alpha{list-style-type:lower-alpha}.mw-parser-output .reflist-lower-greek{list-style-type:lower-greek}.mw-parser-output .reflist-lower-roman{list-style-type:lower-roman}</style><div class=\"reflist reflist-columns references-column-width reflist-columns-2\" style=\"\">\n",
       "<ol class=\"references\">\n",
       "<li id=\"cite_note-lee-1\"><span class=\"mw-cite-backlink\"><b><a href=\"#cite_ref-lee_1-0\">^</a></b></span> <span class=\"reference-text\"><style data-mw-deduplicate=\"TemplateStyles:r999302996\">.mw-parser-output cite.citation{font-style:inherit}.mw-parser-output .citation q{quotes:\"\\\"\"\"\\\"\"\"'\"\"'\"}.mw-parser-output .id-lock-free a,.mw-parser-output .citation .cs1-lock-free a{background:linear-gradient(transparent,transparent),url(\"//upload.wikimedia.org/wikipedia/commons/6/65/Lock-green.svg\")right 0.1em center/9px no-repeat}.mw-parser-output .id-lock-limited a,.mw-parser-output .id-lock-registration a,.mw-parser-output .citation .cs1-lock-limited a,.mw-parser-output .citation .cs1-lock-registration a{background:linear-gradient(transparent,transparent),url(\"//upload.wikimedia.org/wikipedia/commons/d/d6/Lock-gray-alt-2.svg\")right 0.1em center/9px no-repeat}.mw-parser-output .id-lock-subscription a,.mw-parser-output .citation .cs1-lock-subscription a{background:linear-gradient(transparent,transparent),url(\"//upload.wikimedia.org/wikipedia/commons/a/aa/Lock-red-alt-2.svg\")right 0.1em center/9px no-repeat}.mw-parser-output .cs1-subscription,.mw-parser-output .cs1-registration{color:#555}.mw-parser-output .cs1-subscription span,.mw-parser-output .cs1-registration span{border-bottom:1px dotted;cursor:help}.mw-parser-output .cs1-ws-icon a{background:linear-gradient(transparent,transparent),url(\"//upload.wikimedia.org/wikipedia/commons/4/4c/Wikisource-logo.svg\")right 0.1em center/12px no-repeat}.mw-parser-output code.cs1-code{color:inherit;background:inherit;border:none;padding:inherit}.mw-parser-output .cs1-hidden-error{display:none;font-size:100%}.mw-parser-output .cs1-visible-error{font-size:100%}.mw-parser-output .cs1-maint{display:none;color:#33aa33;margin-left:0.3em}.mw-parser-output .cs1-format{font-size:95%}.mw-parser-output .cs1-kern-left,.mw-parser-output .cs1-kern-wl-left{padding-left:0.2em}.mw-parser-output .cs1-kern-right,.mw-parser-output .cs1-kern-wl-right{padding-right:0.2em}.mw-parser-output .citation .mw-selflink{font-weight:inherit}</style><cite class=\"citation book cs1\" id=\"CITEREFLee,_Robert2007\">Lee, Robert (2007). <i>The Railways of Victoria 1854-2004</i>. Melbourne University Publishing. p. 216. <a class=\"mw-redirect\" href=\"/wiki/ISBN_(identifier)\" title=\"ISBN (identifier)\">ISBN</a> <a href=\"/wiki/Special:BookSources/978-0-522-85134-2\" title=\"Special:BookSources/978-0-522-85134-2\"><bdi>978-0-522-85134-2</bdi></a>.</cite><span class=\"Z3988\" title=\"ctx_ver=Z39.88-2004&amp;rft_val_fmt=info%3Aofi%2Ffmt%3Akev%3Amtx%3Abook&amp;rft.genre=book&amp;rft.btitle=The+Railways+of+Victoria+1854-2004&amp;rft.pages=216&amp;rft.pub=Melbourne+University+Publishing&amp;rft.date=2007&amp;rft.isbn=978-0-522-85134-2&amp;rft.au=Lee%2C+Robert&amp;rfr_id=info%3Asid%2Fen.wikipedia.org%3AThe+Vinelander\"></span></span>\n",
       "</li>\n",
       "<li id=\"cite_note-rhsv-2\"><span class=\"mw-cite-backlink\">^ <a href=\"#cite_ref-rhsv_2-0\"><sup><i><b>a</b></i></sup></a> <a href=\"#cite_ref-rhsv_2-1\"><sup><i><b>b</b></i></sup></a></span> <span class=\"reference-text\"><link href=\"mw-data:TemplateStyles:r999302996\" rel=\"mw-deduplicated-inline-style\"/><cite class=\"citation web cs1\"><a class=\"external text\" href=\"https://web.archive.org/web/20080719030504/http://www.historyvictoria.org.au/pdf/Mildura.pdf\" rel=\"nofollow\">\"The Mildura Story The Battle of the Routes\"</a> <span class=\"cs1-format\">(PDF)</span>. Royal Historical Society of Victoria. Archived from <a class=\"external text\" href=\"http://www.historyvictoria.org.au/pdf/Mildura.pdf\" rel=\"nofollow\">the original</a> <span class=\"cs1-format\">(PDF)</span> on 19 July 2008<span class=\"reference-accessdate\">. Retrieved <span class=\"nowrap\">30 August</span> 2008</span>.</cite><span class=\"Z3988\" title=\"ctx_ver=Z39.88-2004&amp;rft_val_fmt=info%3Aofi%2Ffmt%3Akev%3Amtx%3Abook&amp;rft.genre=unknown&amp;rft.btitle=The+Mildura+Story+The+Battle+of+the+Routes&amp;rft.pub=Royal+Historical+Society+of+Victoria&amp;rft_id=http%3A%2F%2Fwww.historyvictoria.org.au%2Fpdf%2FMildura.pdf&amp;rfr_id=info%3Asid%2Fen.wikipedia.org%3AThe+Vinelander\"></span></span>\n",
       "</li>\n",
       "<li id=\"cite_note-3\"><span class=\"mw-cite-backlink\"><b><a href=\"#cite_ref-3\">^</a></b></span> <span class=\"reference-text\">\"In Brief\" <i><a href=\"/wiki/Railway_Gazette_International\" title=\"Railway Gazette International\">Railway Gazette International</a></i> September 1972 page 326</span>\n",
       "</li>\n",
       "<li id=\"cite_note-RailwayAge-4\"><span class=\"mw-cite-backlink\">^ <a href=\"#cite_ref-RailwayAge_4-0\"><sup><i><b>a</b></i></sup></a> <a href=\"#cite_ref-RailwayAge_4-1\"><sup><i><b>b</b></i></sup></a> <a href=\"#cite_ref-RailwayAge_4-2\"><sup><i><b>c</b></i></sup></a> <a href=\"#cite_ref-RailwayAge_4-3\"><sup><i><b>d</b></i></sup></a></span> <span class=\"reference-text\"><link href=\"mw-data:TemplateStyles:r999302996\" rel=\"mw-deduplicated-inline-style\"/><cite class=\"citation book cs1\" id=\"CITEREFRobin_Bromby2004\">Robin Bromby (2004). <i>The Railway Age in Australia</i>. Lothian Press. p. 99. <a class=\"mw-redirect\" href=\"/wiki/ISBN_(identifier)\" title=\"ISBN (identifier)\">ISBN</a> <a href=\"/wiki/Special:BookSources/0-7344-0715-7\" title=\"Special:BookSources/0-7344-0715-7\"><bdi>0-7344-0715-7</bdi></a>.</cite><span class=\"Z3988\" title=\"ctx_ver=Z39.88-2004&amp;rft_val_fmt=info%3Aofi%2Ffmt%3Akev%3Amtx%3Abook&amp;rft.genre=book&amp;rft.btitle=The+Railway+Age+in+Australia&amp;rft.pages=99&amp;rft.pub=Lothian+Press&amp;rft.date=2004&amp;rft.isbn=0-7344-0715-7&amp;rft.au=Robin+Bromby&amp;rfr_id=info%3Asid%2Fen.wikipedia.org%3AThe+Vinelander\"></span></span>\n",
       "</li>\n",
       "<li id=\"cite_note-5\"><span class=\"mw-cite-backlink\"><b><a href=\"#cite_ref-5\">^</a></b></span> <span class=\"reference-text\"><link href=\"mw-data:TemplateStyles:r999302996\" rel=\"mw-deduplicated-inline-style\"/><cite class=\"citation web cs1\"><a class=\"external text\" href=\"http://www.comrails.com/sar_carriages/a0203_sj.html\" rel=\"nofollow\">\"Steel Sleeping Carriages - V&amp;SAR Joint Stock\"</a>. www.comrails.com<span class=\"reference-accessdate\">. Retrieved <span class=\"nowrap\">30 August</span> 2008</span>.</cite><span class=\"Z3988\" title=\"ctx_ver=Z39.88-2004&amp;rft_val_fmt=info%3Aofi%2Ffmt%3Akev%3Amtx%3Abook&amp;rft.genre=unknown&amp;rft.btitle=Steel+Sleeping+Carriages+-+V%26SAR+Joint+Stock&amp;rft.pub=www.comrails.com&amp;rft_id=http%3A%2F%2Fwww.comrails.com%2Fsar_carriages%2Fa0203_sj.html&amp;rfr_id=info%3Asid%2Fen.wikipedia.org%3AThe+Vinelander\"></span></span>\n",
       "</li>\n",
       "<li id=\"cite_note-vicrail6283-6\"><span class=\"mw-cite-backlink\"><b><a href=\"#cite_ref-vicrail6283_6-0\">^</a></b></span> <span class=\"reference-text\"><link href=\"mw-data:TemplateStyles:r999302996\" rel=\"mw-deduplicated-inline-style\"/><cite class=\"citation book cs1\" id=\"CITEREFVincent_Adams_Winter1990\">Vincent Adams Winter (1990). <i>VR and VicRail: 1962 - 1983</i>. p. 206. <a class=\"mw-redirect\" href=\"/wiki/ISBN_(identifier)\" title=\"ISBN (identifier)\">ISBN</a> <a href=\"/wiki/Special:BookSources/0-9592069-3-0\" title=\"Special:BookSources/0-9592069-3-0\"><bdi>0-9592069-3-0</bdi></a>.</cite><span class=\"Z3988\" title=\"ctx_ver=Z39.88-2004&amp;rft_val_fmt=info%3Aofi%2Ffmt%3Akev%3Amtx%3Abook&amp;rft.genre=book&amp;rft.btitle=VR+and+VicRail%3A+1962+-+1983&amp;rft.pages=206&amp;rft.date=1990&amp;rft.isbn=0-9592069-3-0&amp;rft.au=Vincent+Adams+Winter&amp;rfr_id=info%3Asid%2Fen.wikipedia.org%3AThe+Vinelander\"></span></span>\n",
       "</li>\n",
       "<li id=\"cite_note-7\"><span class=\"mw-cite-backlink\"><b><a href=\"#cite_ref-7\">^</a></b></span> <span class=\"reference-text\"><link href=\"mw-data:TemplateStyles:r999302996\" rel=\"mw-deduplicated-inline-style\"/><cite class=\"citation magazine cs1\">\"General News\". <i>Newsrail</i>. Australian Railway Historical Society. September 1986. p. 274.</cite><span class=\"Z3988\" title=\"ctx_ver=Z39.88-2004&amp;rft_val_fmt=info%3Aofi%2Ffmt%3Akev%3Amtx%3Ajournal&amp;rft.genre=article&amp;rft.jtitle=Newsrail&amp;rft.atitle=General+News&amp;rft.pages=274&amp;rft.date=1986-09&amp;rfr_id=info%3Asid%2Fen.wikipedia.org%3AThe+Vinelander\"></span></span>\n",
       "</li>\n",
       "<li id=\"cite_note-8\"><span class=\"mw-cite-backlink\"><b><a href=\"#cite_ref-8\">^</a></b></span> <span class=\"reference-text\">\"Investment saves long distance train\" <i>Railway Gazette International</i> May 1986 page 327</span>\n",
       "</li>\n",
       "<li id=\"cite_note-9\"><span class=\"mw-cite-backlink\"><b><a href=\"#cite_ref-9\">^</a></b></span> <span class=\"reference-text\"><link href=\"mw-data:TemplateStyles:r999302996\" rel=\"mw-deduplicated-inline-style\"/><cite class=\"citation web cs1\"><a class=\"external text\" href=\"https://web.archive.org/web/20120213134749/http://www.legislation.vic.gov.au/domino/Web_Notes/MediaRelArc02.nsf/17ed9415cb17e3d34a25682500254734/e41833f1ff2e46144a25689d007c4a17!OpenDocument&amp;Click=\" rel=\"nofollow\">\"Minister Announces Mildura Passenger Rail Service Review\"</a>. <i>Media Release: Minister for Transport</i>. www.legislation.vic.gov.au. 9 March 2000. Archived from <a class=\"external text\" href=\"http://www.legislation.vic.gov.au/domino/Web_Notes/MediaRelArc02.nsf/17ed9415cb17e3d34a25682500254734/e41833f1ff2e46144a25689d007c4a17!OpenDocument&amp;Click=\" rel=\"nofollow\">the original</a> on 13 February 2012<span class=\"reference-accessdate\">. Retrieved <span class=\"nowrap\">23 July</span> 2019</span>.</cite><span class=\"Z3988\" title=\"ctx_ver=Z39.88-2004&amp;rft_val_fmt=info%3Aofi%2Ffmt%3Akev%3Amtx%3Ajournal&amp;rft.genre=unknown&amp;rft.jtitle=Media+Release%3A+Minister+for+Transport&amp;rft.atitle=Minister+Announces+Mildura+Passenger+Rail+Service+Review&amp;rft.date=2000-03-09&amp;rft_id=http%3A%2F%2Fwww.legislation.vic.gov.au%2Fdomino%2FWeb_Notes%2FMediaRelArc02.nsf%2F17ed9415cb17e3d34a25682500254734%2Fe41833f1ff2e46144a25689d007c4a17%21OpenDocument%26Click%3D&amp;rfr_id=info%3Asid%2Fen.wikipedia.org%3AThe+Vinelander\"></span></span>\n",
       "</li>\n",
       "<li id=\"cite_note-10\"><span class=\"mw-cite-backlink\"><b><a href=\"#cite_ref-10\">^</a></b></span> <span class=\"reference-text\"><link href=\"mw-data:TemplateStyles:r999302996\" rel=\"mw-deduplicated-inline-style\"/><cite class=\"citation web cs1\"><a class=\"external text\" href=\"https://web.archive.org/web/20071005054950/http://australianpolitics.com/states/vic/savage_statement.shtml\" rel=\"nofollow\">\"Russell Savage Statement Supporting A Minority Labor Government\"</a>. australianpolitics.com. 18 October 1999. Archived from <a class=\"external text\" href=\"http://australianpolitics.com/states/vic/savage_statement.shtml\" rel=\"nofollow\">the original</a> on 5 October 2007<span class=\"reference-accessdate\">. Retrieved <span class=\"nowrap\">30 August</span> 2008</span>.</cite><span class=\"Z3988\" title=\"ctx_ver=Z39.88-2004&amp;rft_val_fmt=info%3Aofi%2Ffmt%3Akev%3Amtx%3Abook&amp;rft.genre=unknown&amp;rft.btitle=Russell+Savage+Statement+Supporting+A+Minority+Labor+Government&amp;rft.pub=australianpolitics.com&amp;rft.date=1999-10-18&amp;rft_id=http%3A%2F%2Faustralianpolitics.com%2Fstates%2Fvic%2Fsavage_statement.shtml&amp;rfr_id=info%3Asid%2Fen.wikipedia.org%3AThe+Vinelander\"></span></span>\n",
       "</li>\n",
       "<li id=\"cite_note-11\"><span class=\"mw-cite-backlink\"><b><a href=\"#cite_ref-11\">^</a></b></span> <span class=\"reference-text\"><link href=\"mw-data:TemplateStyles:r999302996\" rel=\"mw-deduplicated-inline-style\"/><cite class=\"citation web cs1\"><a class=\"external text\" href=\"https://web.archive.org/web/20150530005813/http://www.tramtimetable.com.au/tram-timetable-articles/1993/10/1/browns-transport-revolution-is-right-on-the-track/\" rel=\"nofollow\">\"Brown's Transport Revolution Is Right On The Track\"</a>. Tram Timetable. 1 October 1993. Archived from <a class=\"external text\" href=\"http://www.tramtimetable.com.au/tram-timetable-articles/1993/10/1/browns-transport-revolution-is-right-on-the-track/\" rel=\"nofollow\">the original</a> on 30 May 2015<span class=\"reference-accessdate\">. Retrieved <span class=\"nowrap\">23 July</span> 2019</span>.</cite><span class=\"Z3988\" title=\"ctx_ver=Z39.88-2004&amp;rft_val_fmt=info%3Aofi%2Ffmt%3Akev%3Amtx%3Abook&amp;rft.genre=unknown&amp;rft.btitle=Brown%27s+Transport+Revolution+Is+Right+On+The+Track&amp;rft.pub=Tram+Timetable&amp;rft.date=1993-10-01&amp;rft_id=http%3A%2F%2Fwww.tramtimetable.com.au%2Ftram-timetable-articles%2F1993%2F10%2F1%2Fbrowns-transport-revolution-is-right-on-the-track%2F&amp;rfr_id=info%3Asid%2Fen.wikipedia.org%3AThe+Vinelander\"></span></span>\n",
       "</li>\n",
       "</ol></div>\n",
       "<h2><span class=\"mw-headline\" id=\"External_links\">External links</span><span class=\"mw-editsection\"><span class=\"mw-editsection-bracket\">[</span><a href=\"/w/index.php?title=The_Vinelander&amp;action=edit&amp;section=4\" title=\"Edit section: External links\">edit</a><span class=\"mw-editsection-bracket\">]</span></span></h2>\n",
       "<ul><li><a class=\"external text\" href=\"http://www.prov.vic.gov.au/images/12903/12903-p00001-000922-120.asp\" rel=\"nofollow\"><i>Victoria's Latest Named Train, \"The Vinelander\"</i></a>, advertising poster from November 1972, Public Record Office Victoria.</li></ul>\n",
       "<div aria-labelledby=\"Named_trains_of_the_Victorian_Railways\" class=\"navbox\" role=\"navigation\" style=\"padding:3px\"><table class=\"nowraplinks mw-collapsible autocollapse navbox-inner\" style=\"border-spacing:0;background:transparent;color:inherit\"><tbody><tr><th class=\"navbox-title\" colspan=\"2\" scope=\"col\"><style data-mw-deduplicate=\"TemplateStyles:r992953826\">.mw-parser-output .navbar{display:inline;font-size:88%;font-weight:normal}.mw-parser-output .navbar-collapse{float:left;text-align:left}.mw-parser-output .navbar-boxtext{word-spacing:0}.mw-parser-output .navbar ul{display:inline-block;white-space:nowrap;line-height:inherit}.mw-parser-output .navbar-brackets::before{margin-right:-0.125em;content:\"[ \"}.mw-parser-output .navbar-brackets::after{margin-left:-0.125em;content:\" ]\"}.mw-parser-output .navbar li{word-spacing:-0.125em}.mw-parser-output .navbar-mini abbr{font-variant:small-caps;border-bottom:none;text-decoration:none;cursor:inherit}.mw-parser-output .navbar-ct-full{font-size:114%;margin:0 7em}.mw-parser-output .navbar-ct-mini{font-size:114%;margin:0 4em}.mw-parser-output .infobox .navbar{font-size:100%}.mw-parser-output .navbox .navbar{display:block;font-size:100%}.mw-parser-output .navbox-title .navbar{float:left;text-align:left;margin-right:0.5em}</style><div class=\"navbar plainlinks hlist navbar-mini\"><ul><li class=\"nv-view\"><a href=\"/wiki/Template:Named_trains_of_the_Victorian_Railways\" title=\"Template:Named trains of the Victorian Railways\"><abbr style=\";;background:none transparent;border:none;box-shadow:none;padding:0;\" title=\"View this template\">v</abbr></a></li><li class=\"nv-talk\"><a href=\"/wiki/Template_talk:Named_trains_of_the_Victorian_Railways\" title=\"Template talk:Named trains of the Victorian Railways\"><abbr style=\";;background:none transparent;border:none;box-shadow:none;padding:0;\" title=\"Discuss this template\">t</abbr></a></li><li class=\"nv-edit\"><a class=\"external text\" href=\"https://en.wikipedia.org/w/index.php?title=Template:Named_trains_of_the_Victorian_Railways&amp;action=edit\"><abbr style=\";;background:none transparent;border:none;box-shadow:none;padding:0;\" title=\"Edit this template\">e</abbr></a></li></ul></div><div id=\"Named_trains_of_the_Victorian_Railways\" style=\"font-size:114%;margin:0 4em\">Named trains of the <a href=\"/wiki/Victorian_Railways\" title=\"Victorian Railways\">Victorian Railways</a></div></th></tr><tr><td class=\"navbox-abovebelow\" colspan=\"2\"><div id=\"List_of_named_trains_in_Victoria\"><a href=\"/wiki/List_of_named_trains_in_Victoria\" title=\"List of named trains in Victoria\">List of named trains in Victoria</a></div></td></tr><tr><th class=\"navbox-group\" scope=\"row\" style=\"width:1%\">Regular passenger trains</th><td class=\"navbox-list navbox-odd hlist\" style=\"text-align:left;border-left-width:2px;border-left-style:solid;width:100%;padding:0px\"><div style=\"padding:0em 0.25em\">\n",
       "<ul><li><a href=\"/wiki/Tait_(train)#The_Boat_Train\" title=\"Tait (train)\">The Boat Train</a></li>\n",
       "<li><a href=\"/wiki/Geelong_Flier\" title=\"Geelong Flier\">Geelong Flier</a></li>\n",
       "<li><a href=\"/wiki/The_Gippslander\" title=\"The Gippslander\">The Gippslander</a></li>\n",
       "<li><a href=\"/wiki/Intercapital_Daylight\" title=\"Intercapital Daylight\">Intercapital Daylight</a></li>\n",
       "<li><a href=\"/wiki/The_Overland\" title=\"The Overland\">The Overland</a></li>\n",
       "<li><a href=\"/wiki/Southern_Aurora\" title=\"Southern Aurora\">Southern Aurora</a></li>\n",
       "<li><a href=\"/wiki/Spirit_of_Progress\" title=\"Spirit of Progress\">Spirit of Progress</a></li>\n",
       "<li><a href=\"/wiki/Sydney/Melbourne_Express\" title=\"Sydney/Melbourne Express\">Sydney/Melbourne Express</a></li>\n",
       "<li><a class=\"mw-selflink selflink\">The Vinelander</a></li>\n",
       "<li><a href=\"/wiki/List_of_named_trains_in_Victoria#The_West_Coaster\" title=\"List of named trains in Victoria\">The West Coaster</a></li></ul>\n",
       "</div></td></tr><tr><th class=\"navbox-group\" scope=\"row\" style=\"width:1%\">Other trains</th><td class=\"navbox-list navbox-even hlist\" style=\"text-align:left;border-left-width:2px;border-left-style:solid;width:100%;padding:0px\"><div style=\"padding:0em 0.25em\">\n",
       "<ul><li><a href=\"/wiki/Victorian_Railways_PL_type_carriage#1942_Hospital_carriages,_1951_Jubilee_Train\" title=\"Victorian Railways PL type carriage\">Ambulance/Hospital Train</a></li>\n",
       "<li><a href=\"/wiki/Better_Farming_Train_(Victoria)\" title=\"Better Farming Train (Victoria)\">Better Farming Train</a></li>\n",
       "<li><a href=\"/wiki/Victorian_Railways_V_type_carriage#The_Display_Train\" title=\"Victorian Railways V type carriage\">The Display Train</a></li>\n",
       "<li><a href=\"/wiki/Fruit_Flyer\" title=\"Fruit Flyer\">Fruit Flyer</a></li>\n",
       "<li><a href=\"/wiki/Victorian_Railways_PL_type_carriage#1942_Hospital_carriages,_1951_Jubilee_Train\" title=\"Victorian Railways PL type carriage\">The Jubilee Train</a></li>\n",
       "<li><a href=\"/wiki/Reso_Train\" title=\"Reso Train\">Reso Train</a></li>\n",
       "<li><a href=\"/wiki/Train_of_Knowledge\" title=\"Train of Knowledge\">Train of Knowledge</a></li>\n",
       "<li><a href=\"/wiki/Victorian_Railways_Royal_Train\" title=\"Victorian Railways Royal Train\">State and Royal Trains</a></li>\n",
       "<li><a href=\"/wiki/Victorian_Railways_fixed_wheel_passenger_carriages#The_Veteran_Train\" title=\"Victorian Railways fixed wheel passenger carriages\">The Veteran Train</a></li>\n",
       "<li><a href=\"/wiki/Victorian_Railways_V_type_carriage#The_Vintage_Train\" title=\"Victorian Railways V type carriage\">The Vintage Train</a></li></ul>\n",
       "</div></td></tr></tbody></table></div>\n",
       "<!-- \n",
       "NewPP limit report\n",
       "Parsed by mw1382\n",
       "Cached time: 20210316103933\n",
       "Cache expiry: 2592000\n",
       "Dynamic content: false\n",
       "Complications: [vary‐revision‐sha1]\n",
       "CPU time usage: 0.282 seconds\n",
       "Real time usage: 0.372 seconds\n",
       "Preprocessor visited node count: 1124/1000000\n",
       "Post‐expand include size: 27998/2097152 bytes\n",
       "Template argument size: 1186/2097152 bytes\n",
       "Highest expansion depth: 13/40\n",
       "Expensive parser function count: 2/500\n",
       "Unstrip recursion depth: 1/20\n",
       "Unstrip post‐expand size: 31040/5000000 bytes\n",
       "Lua time usage: 0.139/10.000 seconds\n",
       "Lua memory usage: 4732801/52428800 bytes\n",
       "Number of Wikibase entities loaded: 0/400\n",
       "-->\n",
       "<!--\n",
       "Transclusion expansion time report (%,ms,calls,template)\n",
       "100.00%  335.180      1 -total\n",
       " 51.13%  171.371      1 Template:Reflist\n",
       " 31.60%  105.912      3 Template:Cite_book\n",
       " 19.40%   65.019      1 Template:Infobox_rail_service\n",
       " 14.11%   47.285      1 Template:Infobox\n",
       " 13.50%   45.266      1 Template:Use_dmy_dates\n",
       "  8.87%   29.745      5 Template:Cite_web\n",
       "  8.75%   29.335      1 Template:Named_trains_of_the_Victorian_Railways\n",
       "  8.53%   28.605      2 Template:DMCA\n",
       "  7.48%   25.061      1 Template:Navbox\n",
       "-->\n",
       "<!-- Saved in parser cache with key enwiki:pcache:idhash:19100873-0!canonical and timestamp 20210316103933 and revision id 1012433723. Serialized with JSON.\n",
       " -->\n",
       "</div><noscript><img alt=\"\" height=\"1\" src=\"//en.wikipedia.org/wiki/Special:CentralAutoLogin/start?type=1x1\" style=\"border: none; position: absolute;\" title=\"\" width=\"1\"/></noscript>\n",
       "<div class=\"printfooter\">Retrieved from \"<a dir=\"ltr\" href=\"https://en.wikipedia.org/w/index.php?title=The_Vinelander&amp;oldid=1012433723\">https://en.wikipedia.org/w/index.php?title=The_Vinelander&amp;oldid=1012433723</a>\"</div></div>\n",
       "<div class=\"catlinks\" data-mw=\"interface\" id=\"catlinks\"><div class=\"mw-normal-catlinks\" id=\"mw-normal-catlinks\"><a href=\"/wiki/Help:Category\" title=\"Help:Category\">Categories</a>: <ul><li><a href=\"/wiki/Category:Named_passenger_trains_of_Victoria_(Australia)\" title=\"Category:Named passenger trains of Victoria (Australia)\">Named passenger trains of Victoria (Australia)</a></li><li><a href=\"/wiki/Category:Night_trains_of_Australia\" title=\"Category:Night trains of Australia\">Night trains of Australia</a></li><li><a href=\"/wiki/Category:Railway_services_introduced_in_1972\" title=\"Category:Railway services introduced in 1972\">Railway services introduced in 1972</a></li><li><a href=\"/wiki/Category:Railway_services_discontinued_in_1993\" title=\"Category:Railway services discontinued in 1993\">Railway services discontinued in 1993</a></li><li><a href=\"/wiki/Category:1972_establishments_in_Australia\" title=\"Category:1972 establishments in Australia\">1972 establishments in Australia</a></li><li><a href=\"/wiki/Category:1993_disestablishments_in_Australia\" title=\"Category:1993 disestablishments in Australia\">1993 disestablishments in Australia</a></li><li><a href=\"/wiki/Category:Discontinued_railway_services_in_Australia\" title=\"Category:Discontinued railway services in Australia\">Discontinued railway services in Australia</a></li></ul></div><div class=\"mw-hidden-catlinks mw-hidden-cats-hidden\" id=\"mw-hidden-catlinks\">Hidden categories: <ul><li><a href=\"/wiki/Category:Use_dmy_dates_from_June_2015\" title=\"Category:Use dmy dates from June 2015\">Use dmy dates from June 2015</a></li><li><a href=\"/wiki/Category:Use_Australian_English_from_June_2015\" title=\"Category:Use Australian English from June 2015\">Use Australian English from June 2015</a></li><li><a href=\"/wiki/Category:All_Wikipedia_articles_written_in_Australian_English\" title=\"Category:All Wikipedia articles written in Australian English\">All Wikipedia articles written in Australian English</a></li></ul></div></div>\n",
       "</div>\n",
       "</div>\n",
       "<div id=\"mw-data-after-content\">\n",
       "<div class=\"read-more-container\"></div>\n",
       "</div>\n",
       "<div id=\"mw-navigation\">\n",
       "<h2>Navigation menu</h2>\n",
       "<div id=\"mw-head\">\n",
       "<!-- Please do not use role attribute as CSS selector, it is deprecated. -->\n",
       "<nav aria-labelledby=\"p-personal-label\" class=\"mw-portlet mw-portlet-personal vector-menu\" id=\"p-personal\" role=\"navigation\">\n",
       "<h3 class=\"vector-menu-heading\" id=\"p-personal-label\">\n",
       "<span>Personal tools</span>\n",
       "</h3>\n",
       "<div class=\"vector-menu-content\">\n",
       "<ul class=\"vector-menu-content-list\"><li id=\"pt-anonuserpage\">Not logged in</li><li id=\"pt-anontalk\"><a accesskey=\"n\" href=\"/wiki/Special:MyTalk\" title=\"Discussion about edits from this IP address [n]\">Talk</a></li><li id=\"pt-anoncontribs\"><a accesskey=\"y\" href=\"/wiki/Special:MyContributions\" title=\"A list of edits made from this IP address [y]\">Contributions</a></li><li id=\"pt-createaccount\"><a href=\"/w/index.php?title=Special:CreateAccount&amp;returnto=The+Vinelander\" title=\"You are encouraged to create an account and log in; however, it is not mandatory\">Create account</a></li><li id=\"pt-login\"><a accesskey=\"o\" href=\"/w/index.php?title=Special:UserLogin&amp;returnto=The+Vinelander\" title=\"You're encouraged to log in; however, it's not mandatory. [o]\">Log in</a></li></ul>\n",
       "</div>\n",
       "</nav>\n",
       "<div id=\"left-navigation\">\n",
       "<!-- Please do not use role attribute as CSS selector, it is deprecated. -->\n",
       "<nav aria-labelledby=\"p-namespaces-label\" class=\"mw-portlet mw-portlet-namespaces vector-menu vector-menu-tabs\" id=\"p-namespaces\" role=\"navigation\">\n",
       "<h3 class=\"vector-menu-heading\" id=\"p-namespaces-label\">\n",
       "<span>Namespaces</span>\n",
       "</h3>\n",
       "<div class=\"vector-menu-content\">\n",
       "<ul class=\"vector-menu-content-list\"><li class=\"selected\" id=\"ca-nstab-main\"><a accesskey=\"c\" href=\"/wiki/The_Vinelander\" title=\"View the content page [c]\">Article</a></li><li id=\"ca-talk\"><a accesskey=\"t\" href=\"/wiki/Talk:The_Vinelander\" rel=\"discussion\" title=\"Discuss improvements to the content page [t]\">Talk</a></li></ul>\n",
       "</div>\n",
       "</nav>\n",
       "<!-- Please do not use role attribute as CSS selector, it is deprecated. -->\n",
       "<nav aria-labelledby=\"p-variants-label\" class=\"mw-portlet mw-portlet-variants emptyPortlet vector-menu vector-menu-dropdown\" id=\"p-variants\" role=\"navigation\">\n",
       "<input aria-labelledby=\"p-variants-label\" class=\"vector-menu-checkbox\" type=\"checkbox\"/>\n",
       "<h3 class=\"vector-menu-heading\" id=\"p-variants-label\">\n",
       "<span>Variants</span>\n",
       "</h3>\n",
       "<div class=\"vector-menu-content\">\n",
       "<ul class=\"vector-menu-content-list\"></ul>\n",
       "</div>\n",
       "</nav>\n",
       "</div>\n",
       "<div id=\"right-navigation\">\n",
       "<!-- Please do not use role attribute as CSS selector, it is deprecated. -->\n",
       "<nav aria-labelledby=\"p-views-label\" class=\"mw-portlet mw-portlet-views vector-menu vector-menu-tabs\" id=\"p-views\" role=\"navigation\">\n",
       "<h3 class=\"vector-menu-heading\" id=\"p-views-label\">\n",
       "<span>Views</span>\n",
       "</h3>\n",
       "<div class=\"vector-menu-content\">\n",
       "<ul class=\"vector-menu-content-list\"><li class=\"selected\" id=\"ca-view\"><a href=\"/wiki/The_Vinelander\">Read</a></li><li id=\"ca-edit\"><a accesskey=\"e\" href=\"/w/index.php?title=The_Vinelander&amp;action=edit\" title=\"Edit this page [e]\">Edit</a></li><li id=\"ca-history\"><a accesskey=\"h\" href=\"/w/index.php?title=The_Vinelander&amp;action=history\" title=\"Past revisions of this page [h]\">View history</a></li></ul>\n",
       "</div>\n",
       "</nav>\n",
       "<!-- Please do not use role attribute as CSS selector, it is deprecated. -->\n",
       "<nav aria-labelledby=\"p-cactions-label\" class=\"mw-portlet mw-portlet-cactions emptyPortlet vector-menu vector-menu-dropdown\" id=\"p-cactions\" role=\"navigation\">\n",
       "<input aria-labelledby=\"p-cactions-label\" class=\"vector-menu-checkbox\" type=\"checkbox\"/>\n",
       "<h3 class=\"vector-menu-heading\" id=\"p-cactions-label\">\n",
       "<span>More</span>\n",
       "</h3>\n",
       "<div class=\"vector-menu-content\">\n",
       "<ul class=\"vector-menu-content-list\"></ul>\n",
       "</div>\n",
       "</nav>\n",
       "<div id=\"p-search\" role=\"search\">\n",
       "<h3>\n",
       "<label for=\"searchInput\">Search</label>\n",
       "</h3>\n",
       "<form action=\"/w/index.php\" id=\"searchform\">\n",
       "<div data-search-loc=\"header-navigation\" id=\"simpleSearch\">\n",
       "<input accesskey=\"f\" autocapitalize=\"sentences\" id=\"searchInput\" name=\"search\" placeholder=\"Search Wikipedia\" title=\"Search Wikipedia [f]\" type=\"search\"/>\n",
       "<input name=\"title\" type=\"hidden\" value=\"Special:Search\"/>\n",
       "<input class=\"searchButton mw-fallbackSearchButton\" id=\"mw-searchButton\" name=\"fulltext\" title=\"Search Wikipedia for this text\" type=\"submit\" value=\"Search\"/>\n",
       "<input class=\"searchButton\" id=\"searchButton\" name=\"go\" title=\"Go to a page with this exact name if it exists\" type=\"submit\" value=\"Go\"/>\n",
       "</div>\n",
       "</form>\n",
       "</div>\n",
       "</div>\n",
       "</div>\n",
       "<div id=\"mw-panel\">\n",
       "<div id=\"p-logo\" role=\"banner\">\n",
       "<a class=\"mw-wiki-logo\" href=\"/wiki/Main_Page\" title=\"Visit the main page\"></a>\n",
       "</div>\n",
       "<!-- Please do not use role attribute as CSS selector, it is deprecated. -->\n",
       "<nav aria-labelledby=\"p-navigation-label\" class=\"mw-portlet mw-portlet-navigation vector-menu vector-menu-portal portal\" id=\"p-navigation\" role=\"navigation\">\n",
       "<h3 class=\"vector-menu-heading\" id=\"p-navigation-label\">\n",
       "<span>Navigation</span>\n",
       "</h3>\n",
       "<div class=\"vector-menu-content\">\n",
       "<ul class=\"vector-menu-content-list\"><li id=\"n-mainpage-description\"><a accesskey=\"z\" href=\"/wiki/Main_Page\" title=\"Visit the main page [z]\">Main page</a></li><li id=\"n-contents\"><a href=\"/wiki/Wikipedia:Contents\" title=\"Guides to browsing Wikipedia\">Contents</a></li><li id=\"n-currentevents\"><a href=\"/wiki/Portal:Current_events\" title=\"Articles related to current events\">Current events</a></li><li id=\"n-randompage\"><a accesskey=\"x\" href=\"/wiki/Special:Random\" title=\"Visit a randomly selected article [x]\">Random article</a></li><li id=\"n-aboutsite\"><a href=\"/wiki/Wikipedia:About\" title=\"Learn about Wikipedia and how it works\">About Wikipedia</a></li><li id=\"n-contactpage\"><a href=\"//en.wikipedia.org/wiki/Wikipedia:Contact_us\" title=\"How to contact Wikipedia\">Contact us</a></li><li id=\"n-sitesupport\"><a href=\"https://donate.wikimedia.org/wiki/Special:FundraiserRedirector?utm_source=donate&amp;utm_medium=sidebar&amp;utm_campaign=C13_en.wikipedia.org&amp;uselang=en\" title=\"Support us by donating to the Wikimedia Foundation\">Donate</a></li></ul>\n",
       "</div>\n",
       "</nav>\n",
       "<!-- Please do not use role attribute as CSS selector, it is deprecated. -->\n",
       "<nav aria-labelledby=\"p-interaction-label\" class=\"mw-portlet mw-portlet-interaction vector-menu vector-menu-portal portal\" id=\"p-interaction\" role=\"navigation\">\n",
       "<h3 class=\"vector-menu-heading\" id=\"p-interaction-label\">\n",
       "<span>Contribute</span>\n",
       "</h3>\n",
       "<div class=\"vector-menu-content\">\n",
       "<ul class=\"vector-menu-content-list\"><li id=\"n-help\"><a href=\"/wiki/Help:Contents\" title=\"Guidance on how to use and edit Wikipedia\">Help</a></li><li id=\"n-introduction\"><a href=\"/wiki/Help:Introduction\" title=\"Learn how to edit Wikipedia\">Learn to edit</a></li><li id=\"n-portal\"><a href=\"/wiki/Wikipedia:Community_portal\" title=\"The hub for editors\">Community portal</a></li><li id=\"n-recentchanges\"><a accesskey=\"r\" href=\"/wiki/Special:RecentChanges\" title=\"A list of recent changes to Wikipedia [r]\">Recent changes</a></li><li id=\"n-upload\"><a href=\"/wiki/Wikipedia:File_Upload_Wizard\" title=\"Add images or other media for use on Wikipedia\">Upload file</a></li></ul>\n",
       "</div>\n",
       "</nav>\n",
       "<!-- Please do not use role attribute as CSS selector, it is deprecated. -->\n",
       "<nav aria-labelledby=\"p-tb-label\" class=\"mw-portlet mw-portlet-tb vector-menu vector-menu-portal portal\" id=\"p-tb\" role=\"navigation\">\n",
       "<h3 class=\"vector-menu-heading\" id=\"p-tb-label\">\n",
       "<span>Tools</span>\n",
       "</h3>\n",
       "<div class=\"vector-menu-content\">\n",
       "<ul class=\"vector-menu-content-list\"><li id=\"t-whatlinkshere\"><a accesskey=\"j\" href=\"/wiki/Special:WhatLinksHere/The_Vinelander\" title=\"List of all English Wikipedia pages containing links to this page [j]\">What links here</a></li><li id=\"t-recentchangeslinked\"><a accesskey=\"k\" href=\"/wiki/Special:RecentChangesLinked/The_Vinelander\" rel=\"nofollow\" title=\"Recent changes in pages linked from this page [k]\">Related changes</a></li><li id=\"t-upload\"><a accesskey=\"u\" href=\"/wiki/Wikipedia:File_Upload_Wizard\" title=\"Upload files [u]\">Upload file</a></li><li id=\"t-specialpages\"><a accesskey=\"q\" href=\"/wiki/Special:SpecialPages\" title=\"A list of all special pages [q]\">Special pages</a></li><li id=\"t-permalink\"><a href=\"/w/index.php?title=The_Vinelander&amp;oldid=1012433723\" title=\"Permanent link to this revision of this page\">Permanent link</a></li><li id=\"t-info\"><a href=\"/w/index.php?title=The_Vinelander&amp;action=info\" title=\"More information about this page\">Page information</a></li><li id=\"t-cite\"><a href=\"/w/index.php?title=Special:CiteThisPage&amp;page=The_Vinelander&amp;id=1012433723&amp;wpFormIdentifier=titleform\" title=\"Information on how to cite this page\">Cite this page</a></li><li id=\"t-wikibase\"><a accesskey=\"g\" href=\"https://www.wikidata.org/wiki/Special:EntityPage/Q7932449\" title=\"Structured data on this page hosted by Wikidata [g]\">Wikidata item</a></li></ul>\n",
       "</div>\n",
       "</nav>\n",
       "<!-- Please do not use role attribute as CSS selector, it is deprecated. -->\n",
       "<nav aria-labelledby=\"p-coll-print_export-label\" class=\"mw-portlet mw-portlet-coll-print_export vector-menu vector-menu-portal portal\" id=\"p-coll-print_export\" role=\"navigation\">\n",
       "<h3 class=\"vector-menu-heading\" id=\"p-coll-print_export-label\">\n",
       "<span>Print/export</span>\n",
       "</h3>\n",
       "<div class=\"vector-menu-content\">\n",
       "<ul class=\"vector-menu-content-list\"><li id=\"coll-download-as-rl\"><a href=\"/w/index.php?title=Special:DownloadAsPdf&amp;page=The_Vinelander&amp;action=show-download-screen\" title=\"Download this page as a PDF file\">Download as PDF</a></li><li id=\"t-print\"><a accesskey=\"p\" href=\"/w/index.php?title=The_Vinelander&amp;printable=yes\" title=\"Printable version of this page [p]\">Printable version</a></li></ul>\n",
       "</div>\n",
       "</nav>\n",
       "<!-- Please do not use role attribute as CSS selector, it is deprecated. -->\n",
       "<nav aria-labelledby=\"p-wikibase-otherprojects-label\" class=\"mw-portlet mw-portlet-wikibase-otherprojects vector-menu vector-menu-portal portal\" id=\"p-wikibase-otherprojects\" role=\"navigation\">\n",
       "<h3 class=\"vector-menu-heading\" id=\"p-wikibase-otherprojects-label\">\n",
       "<span>In other projects</span>\n",
       "</h3>\n",
       "<div class=\"vector-menu-content\">\n",
       "<ul class=\"vector-menu-content-list\"><li class=\"wb-otherproject-link wb-otherproject-commons\"><a href=\"https://commons.wikimedia.org/wiki/Category:The_Vinelander\" hreflang=\"en\">Wikimedia Commons</a></li></ul>\n",
       "</div>\n",
       "</nav>\n",
       "<!-- Please do not use role attribute as CSS selector, it is deprecated. -->\n",
       "<nav aria-labelledby=\"p-lang-label\" class=\"mw-portlet mw-portlet-lang vector-menu vector-menu-portal portal\" id=\"p-lang\" role=\"navigation\">\n",
       "<h3 class=\"vector-menu-heading\" id=\"p-lang-label\">\n",
       "<span>Languages</span>\n",
       "</h3>\n",
       "<div class=\"vector-menu-content\">\n",
       "<ul class=\"vector-menu-content-list\"></ul>\n",
       "<div class=\"after-portlet after-portlet-lang\"><span class=\"uls-after-portlet-link\"></span><span class=\"wb-langlinks-add wb-langlinks-link\"><a class=\"wbc-editpage\" href=\"https://www.wikidata.org/wiki/Special:EntityPage/Q7932449#sitelinks-wikipedia\" title=\"Add interlanguage links\">Add links</a></span></div>\n",
       "</div>\n",
       "</nav>\n",
       "</div>\n",
       "</div>\n",
       "<footer class=\"mw-footer\" id=\"footer\" role=\"contentinfo\">\n",
       "<ul id=\"footer-info\">\n",
       "<li id=\"footer-info-lastmod\"> This page was last edited on 16 March 2021, at 10:39<span class=\"anonymous-show\"> (UTC)</span>.</li>\n",
       "<li id=\"footer-info-copyright\">Text is available under the <a href=\"//en.wikipedia.org/wiki/Wikipedia:Text_of_Creative_Commons_Attribution-ShareAlike_3.0_Unported_License\" rel=\"license\">Creative Commons Attribution-ShareAlike License</a><a href=\"//creativecommons.org/licenses/by-sa/3.0/\" rel=\"license\" style=\"display:none;\"></a>;\n",
       "additional terms may apply.  By using this site, you agree to the <a href=\"//foundation.wikimedia.org/wiki/Terms_of_Use\">Terms of Use</a> and <a href=\"//foundation.wikimedia.org/wiki/Privacy_policy\">Privacy Policy</a>. Wikipedia® is a registered trademark of the <a href=\"//www.wikimediafoundation.org/\">Wikimedia Foundation, Inc.</a>, a non-profit organization.</li>\n",
       "</ul>\n",
       "<ul id=\"footer-places\">\n",
       "<li id=\"footer-places-privacy\"><a class=\"extiw\" href=\"https://foundation.wikimedia.org/wiki/Privacy_policy\" title=\"wmf:Privacy policy\">Privacy policy</a></li>\n",
       "<li id=\"footer-places-about\"><a href=\"/wiki/Wikipedia:About\" title=\"Wikipedia:About\">About Wikipedia</a></li>\n",
       "<li id=\"footer-places-disclaimer\"><a href=\"/wiki/Wikipedia:General_disclaimer\" title=\"Wikipedia:General disclaimer\">Disclaimers</a></li>\n",
       "<li id=\"footer-places-contact\"><a href=\"//en.wikipedia.org/wiki/Wikipedia:Contact_us\">Contact Wikipedia</a></li>\n",
       "<li id=\"footer-places-mobileview\"><a class=\"noprint stopMobileRedirectToggle\" href=\"//en.m.wikipedia.org/w/index.php?title=The_Vinelander&amp;mobileaction=toggle_view_mobile\">Mobile view</a></li>\n",
       "<li id=\"footer-places-developers\"><a href=\"https://www.mediawiki.org/wiki/Special:MyLanguage/How_to_contribute\">Developers</a></li>\n",
       "<li id=\"footer-places-statslink\"><a href=\"https://stats.wikimedia.org/#/en.wikipedia.org\">Statistics</a></li>\n",
       "<li id=\"footer-places-cookiestatement\"><a href=\"https://foundation.wikimedia.org/wiki/Cookie_statement\">Cookie statement</a></li>\n",
       "</ul>\n",
       "<ul class=\"noprint\" id=\"footer-icons\">\n",
       "<li id=\"footer-copyrightico\"><a href=\"https://wikimediafoundation.org/\"><img alt=\"Wikimedia Foundation\" height=\"31\" loading=\"lazy\" src=\"/static/images/footer/wikimedia-button.png\" srcset=\"/static/images/footer/wikimedia-button-1.5x.png 1.5x, /static/images/footer/wikimedia-button-2x.png 2x\" width=\"88\"/></a></li>\n",
       "<li id=\"footer-poweredbyico\"><a href=\"https://www.mediawiki.org/\"><img alt=\"Powered by MediaWiki\" height=\"31\" loading=\"lazy\" src=\"/static/images/footer/poweredby_mediawiki_88x31.png\" srcset=\"/static/images/footer/poweredby_mediawiki_132x47.png 1.5x, /static/images/footer/poweredby_mediawiki_176x62.png 2x\" width=\"88\"/></a></li>\n",
       "</ul>\n",
       "<div style=\"clear: both;\"></div>\n",
       "</footer>\n",
       "<script>(RLQ=window.RLQ||[]).push(function(){mw.config.set({\"wgPageParseReport\":{\"limitreport\":{\"cputime\":\"0.282\",\"walltime\":\"0.372\",\"ppvisitednodes\":{\"value\":1124,\"limit\":1000000},\"postexpandincludesize\":{\"value\":27998,\"limit\":2097152},\"templateargumentsize\":{\"value\":1186,\"limit\":2097152},\"expansiondepth\":{\"value\":13,\"limit\":40},\"expensivefunctioncount\":{\"value\":2,\"limit\":500},\"unstrip-depth\":{\"value\":1,\"limit\":20},\"unstrip-size\":{\"value\":31040,\"limit\":5000000},\"entityaccesscount\":{\"value\":0,\"limit\":400},\"timingprofile\":[\"100.00%  335.180      1 -total\",\" 51.13%  171.371      1 Template:Reflist\",\" 31.60%  105.912      3 Template:Cite_book\",\" 19.40%   65.019      1 Template:Infobox_rail_service\",\" 14.11%   47.285      1 Template:Infobox\",\" 13.50%   45.266      1 Template:Use_dmy_dates\",\"  8.87%   29.745      5 Template:Cite_web\",\"  8.75%   29.335      1 Template:Named_trains_of_the_Victorian_Railways\",\"  8.53%   28.605      2 Template:DMCA\",\"  7.48%   25.061      1 Template:Navbox\"]},\"scribunto\":{\"limitreport-timeusage\":{\"value\":\"0.139\",\"limit\":\"10.000\"},\"limitreport-memusage\":{\"value\":4732801,\"limit\":52428800}},\"cachereport\":{\"origin\":\"mw1382\",\"timestamp\":\"20210316103933\",\"ttl\":2592000,\"transientcontent\":false}}});});</script>\n",
       "<script type=\"application/ld+json\">{\"@context\":\"https:\\/\\/schema.org\",\"@type\":\"Article\",\"name\":\"The Vinelander\",\"url\":\"https:\\/\\/en.wikipedia.org\\/wiki\\/The_Vinelander\",\"sameAs\":\"http:\\/\\/www.wikidata.org\\/entity\\/Q7932449\",\"mainEntity\":\"http:\\/\\/www.wikidata.org\\/entity\\/Q7932449\",\"author\":{\"@type\":\"Organization\",\"name\":\"Contributors to Wikimedia projects\"},\"publisher\":{\"@type\":\"Organization\",\"name\":\"Wikimedia Foundation, Inc.\",\"logo\":{\"@type\":\"ImageObject\",\"url\":\"https:\\/\\/www.wikimedia.org\\/static\\/images\\/wmf-hor-googpub.png\"}},\"datePublished\":\"2008-08-30T08:04:56Z\",\"dateModified\":\"2021-03-16T10:39:33Z\",\"image\":\"https:\\/\\/upload.wikimedia.org\\/wikipedia\\/commons\\/4\\/4f\\/Vinelander_Carriage_Newport_2014.jpg\"}</script>\n",
       "<script>(RLQ=window.RLQ||[]).push(function(){mw.config.set({\"wgBackendResponseTime\":167,\"wgHostname\":\"mw1327\"});});</script>\n",
       "</body></html>"
      ]
     },
     "execution_count": 26,
     "metadata": {},
     "output_type": "execute_result"
    }
   ],
   "source": [
    "soup"
   ]
  },
  {
   "cell_type": "code",
   "execution_count": 27,
   "metadata": {},
   "outputs": [
    {
     "data": {
      "text/plain": [
       "[<span class=\"toctext\">History</span>,\n",
       " <span class=\"toctext\">Withdrawal</span>,\n",
       " <span class=\"toctext\">References</span>,\n",
       " <span class=\"toctext\">External links</span>]"
      ]
     },
     "execution_count": 27,
     "metadata": {},
     "output_type": "execute_result"
    }
   ],
   "source": [
    "soup.select('.toctext')"
   ]
  },
  {
   "cell_type": "code",
   "execution_count": 28,
   "metadata": {},
   "outputs": [],
   "source": [
    "first_item = soup.select('.toctext')[0]"
   ]
  },
  {
   "cell_type": "code",
   "execution_count": 29,
   "metadata": {},
   "outputs": [
    {
     "data": {
      "text/plain": [
       "'History'"
      ]
     },
     "execution_count": 29,
     "metadata": {},
     "output_type": "execute_result"
    }
   ],
   "source": [
    "first_item.text"
   ]
  },
  {
   "cell_type": "code",
   "execution_count": 30,
   "metadata": {},
   "outputs": [
    {
     "name": "stdout",
     "output_type": "stream",
     "text": [
      "History\n",
      "Withdrawal\n",
      "References\n",
      "External links\n"
     ]
    }
   ],
   "source": [
    "for item in soup.select('.toctext'):\n",
    "    print(item.text)"
   ]
  },
  {
   "cell_type": "code",
   "execution_count": 31,
   "metadata": {},
   "outputs": [
    {
     "data": {
      "text/plain": [
       "[<img alt=\"\" class=\"thumbimage\" data-file-height=\"1936\" data-file-width=\"2592\" decoding=\"async\" height=\"164\" src=\"//upload.wikimedia.org/wikipedia/commons/thumb/d/d4/Vinelander_Bed.jpg/220px-Vinelander_Bed.jpg\" srcset=\"//upload.wikimedia.org/wikipedia/commons/thumb/d/d4/Vinelander_Bed.jpg/330px-Vinelander_Bed.jpg 1.5x, //upload.wikimedia.org/wikipedia/commons/thumb/d/d4/Vinelander_Bed.jpg/440px-Vinelander_Bed.jpg 2x\" width=\"220\"/>]"
      ]
     },
     "execution_count": 31,
     "metadata": {},
     "output_type": "execute_result"
    }
   ],
   "source": [
    "soup.select('.thumbimage')"
   ]
  },
  {
   "cell_type": "code",
   "execution_count": 32,
   "metadata": {},
   "outputs": [],
   "source": [
    "bed = soup.select('.thumbimage')[0]"
   ]
  },
  {
   "cell_type": "code",
   "execution_count": 34,
   "metadata": {},
   "outputs": [
    {
     "data": {
      "text/plain": [
       "<img alt=\"\" class=\"thumbimage\" data-file-height=\"1936\" data-file-width=\"2592\" decoding=\"async\" height=\"164\" src=\"//upload.wikimedia.org/wikipedia/commons/thumb/d/d4/Vinelander_Bed.jpg/220px-Vinelander_Bed.jpg\" srcset=\"//upload.wikimedia.org/wikipedia/commons/thumb/d/d4/Vinelander_Bed.jpg/330px-Vinelander_Bed.jpg 1.5x, //upload.wikimedia.org/wikipedia/commons/thumb/d/d4/Vinelander_Bed.jpg/440px-Vinelander_Bed.jpg 2x\" width=\"220\"/>"
      ]
     },
     "execution_count": 34,
     "metadata": {},
     "output_type": "execute_result"
    }
   ],
   "source": [
    "bed"
   ]
  },
  {
   "cell_type": "code",
   "execution_count": 35,
   "metadata": {},
   "outputs": [
    {
     "data": {
      "text/plain": [
       "bs4.element.Tag"
      ]
     },
     "execution_count": 35,
     "metadata": {},
     "output_type": "execute_result"
    }
   ],
   "source": [
    "type(bed)"
   ]
  },
  {
   "cell_type": "code",
   "execution_count": 36,
   "metadata": {},
   "outputs": [
    {
     "data": {
      "text/plain": [
       "['thumbimage']"
      ]
     },
     "execution_count": 36,
     "metadata": {},
     "output_type": "execute_result"
    }
   ],
   "source": [
    "bed['class']"
   ]
  },
  {
   "cell_type": "code",
   "execution_count": 39,
   "metadata": {},
   "outputs": [
    {
     "data": {
      "text/plain": [
       "'//upload.wikimedia.org/wikipedia/commons/thumb/d/d4/Vinelander_Bed.jpg/220px-Vinelander_Bed.jpg'"
      ]
     },
     "execution_count": 39,
     "metadata": {},
     "output_type": "execute_result"
    }
   ],
   "source": [
    "bed['src']"
   ]
  },
  {
   "cell_type": "code",
   "execution_count": 42,
   "metadata": {},
   "outputs": [],
   "source": [
    "image_link = requests.get('https://upload.wikimedia.org/wikipedia/commons/thumb/d/d4/Vinelander_Bed.jpg/220px-Vinelander_Bed.jpg')"
   ]
  },
  {
   "cell_type": "code",
   "execution_count": 43,
   "metadata": {},
   "outputs": [
    {
     "data": {
      "text/plain": [
       "b'\\xff\\xd8\\xff\\xe0\\x00\\x10JFIF\\x00\\x01\\x01\\x01\\x00H\\x00H\\x00\\x00\\xff\\xfe\\x00HFile source: http://commons.wikimedia.org/wiki/File:Vinelander_Bed.jpg\\xff\\xdb\\x00C\\x00\\x06\\x04\\x05\\x06\\x05\\x04\\x06\\x06\\x05\\x06\\x07\\x07\\x06\\x08\\n\\x10\\n\\n\\t\\t\\n\\x14\\x0e\\x0f\\x0c\\x10\\x17\\x14\\x18\\x18\\x17\\x14\\x16\\x16\\x1a\\x1d%\\x1f\\x1a\\x1b#\\x1c\\x16\\x16 , #&\\')*)\\x19\\x1f-0-(0%()(\\xff\\xdb\\x00C\\x01\\x07\\x07\\x07\\n\\x08\\n\\x13\\n\\n\\x13(\\x1a\\x16\\x1a((((((((((((((((((((((((((((((((((((((((((((((((((\\xff\\xc0\\x00\\x11\\x08\\x00\\xa4\\x00\\xdc\\x03\\x01\"\\x00\\x02\\x11\\x01\\x03\\x11\\x01\\xff\\xc4\\x00\\x1c\\x00\\x00\\x02\\x02\\x03\\x01\\x01\\x00\\x00\\x00\\x00\\x00\\x00\\x00\\x00\\x00\\x00\\x04\\x05\\x03\\x06\\x00\\x02\\x07\\x01\\x08\\xff\\xc4\\x00>\\x10\\x00\\x02\\x01\\x03\\x02\\x04\\x03\\x04\\n\\x01\\x03\\x02\\x07\\x01\\x00\\x00\\x01\\x02\\x03\\x00\\x04\\x11\\x12!\\x051AQ\\x06\\x13a\"2q\\x81\\x07\\x14#BR\\x91\\xa1\\xb1\\xc1\\xd1b\\x153r\\xe1\\xf0\\x08\\x16%CS\\x92\\xc2\\xf1\\xff\\xc4\\x00\\x19\\x01\\x00\\x03\\x01\\x01\\x01\\x00\\x00\\x00\\x00\\x00\\x00\\x00\\x00\\x00\\x00\\x00\\x01\\x02\\x03\\x00\\x04\\x05\\xff\\xc4\\x00$\\x11\\x00\\x02\\x02\\x02\\x02\\x01\\x04\\x03\\x01\\x00\\x00\\x00\\x00\\x00\\x00\\x00\\x00\\x01\\x02\\x11\\x03!1A\\x12\\x04\\x132Q\\x14aq\"\\xff\\xda\\x00\\x0c\\x03\\x01\\x00\\x02\\x11\\x03\\x11\\x00?\\x00\\xe7\\xd1\\x0c\\xf2\\xa7\\xbc\\x06O.\\xea3\\x9d\\xc1\\x06\\x90\\xc4w\\x14\\xd3\\x87\\xbe\\x99T\\xfa\\xd72:\\x19\\xf4g\\xd2Lc\\x8a\\xfd\\x18\\xda\\xdd\\x01\\xa9\\x91b\\x90\\x9f\\x88\\xc1\\xaf\\x9aoTi`\\x06t\\xb1\\xdf\\xfe\\xfe5\\xf4\\xe7\\x02\\xff\\x00\\xd6~\\x88\\xa6\\x87\\xde)\\x03\\xa7\\xcd}\\xa1_6\\xf1\\x14\\xd3,\\xeb\\x8e{\\xd5%\\xb4\\x89\\xc7LA*\\x8d\\xfaP\\xee\\xbc\\xf6\\xa3d\\x143\\x8d\\xcdL\\xb2\\x05Q\\x89G\\xc6\\xa2\\xbd\\\\K\\x9e\\x85h\\x86\\x18ps\\xd6\\xa3\\xbe\\x1e\\xd2\\x9fCH\\xf9\\x1b\\xa0\\x06\\xde\\xa1z\"M\\x85\\x0e\\xfbu\\xacc{S\\xbb|h\\xb4\\xa0\\xadO\\xb6\\xd4b\\x9aI\\x0c\\x89\\x96\\x88\\xb7\\xc7\\x9c\\x99\\xefC!\\xe5D\\xc2@\\x913\\xd0\\xd2\\x0c\\x1fs\\xbd\\xd4\\x87\\x1c\\xcdb\\x8d\\x85y!\\r+\\x11\\xf9\\xd6\\xeaW\\x07q\\xb7:\\x0c&\\xd1\\x8d\\xea`\\xa3=\\xea4u\\x15*\\xc8:\\nS\\rxm\\xa9\\x92)\\x1f\\x1b\\n\\nd\\xc4\\x84\\x0e\\xf4\\xff\\x00\\x85O\\x1c|2q\\xb6\\xb6\\x18\\x15_\\xb8|\\xbb\\x11\\xd4\\xe6\\x8bB\\'\\xb3UQ\\x8d\\xc0\\xaf\\n\\x8c\\xedX\\x86\\xbd\\'|\\xe2\\x85\\x18\\x8d\\x80\\xa8\\\\\\x01R\\xb9\\xa8\\x1c\\xd1\\xa3\\x116:T/\\x81R;s\\xa8X\\xd1\\xa3Y\\xa9\\xd8\\xf5\\xa6\\x9c*\\x11%\\xae\\xa7\\x1c\\xd8\\xe3\\xe1J\\x1c\\x8cU\\x86\\xc63\\x1d\\x94\\x0b\\xd7@<\\xfb\\xefY\\x98\\x02>|\\xa8\\xfbF\\xf6\\x85\\x00\\x9c\\xfe4m\\xb9\\xdcWJ\\xe4\\x8b>\\x90\\xfa\\x11\\xb8\\x17~\\x1a\\xbe\\xb3s\\x9d-\\x9cz2\\xe3\\xf8\\xae\\x1b\\xe2+O#\\x8c\\xddB\\xcb\\xee3/\\xe4k\\xa9}\\x01^\\x85\\xe2\\x17v\\xcc\\x7f\\xdc\\x87 z\\x82?\\xb3U\\x0f\\xa4\\xcb1k\\xe3\\x8b\\xe4\\x03\\n\\xd31\\xff\\x00\\xec3\\xfc\\xd5\\x96\\xd2\"\\xf4\\xcec*\\xf3\\xa1$\\x1b\\x92)\\x9d\\xd2i\\x91\\xd7\\xb18\\xa0&\\x18\\xcdM\\xa2\\xc9\\x80\\xc9^_\\x0c\\xc6\\x87\\xd6\\xb6\\x93\\xade\\xd0\\xcd\\xae~\\x06\\x91\\xf2\\x8a.\\x05\\xb2P\\xce\\x7f*\"S\\x8a\\x16F\\xe7X\\x07\\xb6\\xc7\\xed\\x0f\\xc2\\x8cCK\\xa0o\\xb6\\x00v\\xa3Q\\xa9$\\x86L)\\x0f*&3\\xb8\\xa0\\xe39\\xe5M\\xf8O\\x0f\\x96\\xf9\\xc1PV\\x10p\\xcf\\xfc\\x0fZU\\x16\\xdd!\\x9c\\x92V\\xc2lmZ|\\xbf(\\xd4\\xe0\\xe7\\xa9\\xedS\\xdfp\\xd9\\xae\\x1c\\xc9\\x11U\\x90\\x8ceF\\x01\\xf9S\\xd8lR4U8UQ\\x80\\x06\\xe6\\xa5[x\\x01\\x1fc$\\x87\\xd5\\xb1]1\\xc1\\xad\\x9c\\xf2\\xcd\\xbd\\x14\\xb9mx\\x8d\\xbe\\xe62\\xe0v\\xe7P\\x8e\"\\xf1\\xb6$R\\xad\\xd9\\x86*\\xf8\\xd3C\\x16\\xcfd\\x00\\xf5&\\x83\\xbc\\xff\\x00J\\xb9\\x029\\xed\\xb7o\\x9e+K\\xd3\\xa0\\xac\\xccOg\\xe2H\\xe1\\xb71\\x1bmD\\xf5\\rC\\x9e%\\x1c\\x8d\\xba\\xe9\\x15=\\xd7\\x85\\xed\\'\\xcbp\\xbb\\xc3\\x1b\\xf4G\\xddj\\xaby\\xf5\\x8e\\x1ft\\xd6\\xf7i\\xa2E\\xdf\\xb8#\\xb8=\\xaaR\\xc2\\xd0\\xcai\\xf0[\\xed\\xa5\\x8eE\\xca05\\xbb\\x807\\xe9T\\xf8\\xafq\\xba6>\\x06\\x88\\x1cBB7\\x90\\xfeu?lo\"\\xc1!\\x1d\\xe8g;\\x1e\\xb4\\x14Wz\\xd4\\x12rjU\\x93P\\xe7Z\\xa86z\\xc7\\xd6\\xa2aRg5\\x9aA\\xa0b\\x1d\\x05\\x9dP}\\xe2\\x17\\xf5\\xabi\\\\l9\\r\\xb9R.\\x1d\\x08{\\xe8s\\xdfW\\xe43V\\x0c\\x92v\\xa5\\x90P\\x89\\x06\\xf4T](u\\xe7\\xbf:*\\x11]4E\\x9d7\\xe8V\\xf0[\\xf8\\xbe\\xcdI\\xc0\\x93T\\x7f\\x9a\\x9f\\xfaQ\\xff\\x00N\\x10y\\x1e/3\\x01\\x80\\xc9\\x1c\\x9f\\xc1\\xfd\\xaa\\x9d\\xe0[\\xa3e\\xe2\\x0b\\t\\xd4\\xe3\\xcb\\x99\\x1b\\xf5\\x15\\xd3>\\x9e\\xed5^\\xd9L\\x06\\xd2[\\xb2g\\xd5[?\\xfe\\xaa\\xd1z%%\\xb3\\x87qH\\xc8\\xbc\\x97+\\xa4\\x93\\x9cg\\x95)\\xb8^y\\xab\\x07\\x17\"G\\x86Q\\x8fn%\\'\\xe3H\\xee\\x17\\x9d,\\xf4\\xc7\\x83\\xb4+\\x9bf5\\xe3\\xfbVo\\xf0\\xac\\xb98<\\xea8\\x8e\\xa8d_B*R,\\x85\\xb3\\x1a\\x0eV\\xc5K3\\xed\\xce\\x82\\x91\\xb7\\xa6H[7\\x8d\\xbe\\xd8Q\\xc8rp)R?\\xda/\\xc6\\xae\\xbe\\x0b\\xf0\\xdc\\xdcj_\\xacL\\x8c\\x96+\\xd4\\xed\\xe6\\x1e\\xc3\\xd3\\xd6\\x8f\\x83\\x93\\xa4\\x0f4\\x95\\xb2O\\r\\xf0)x\\xa1\\xf3X\\xe8\\xb5S\\x82z\\xbf\\xa0\\xfe\\xeb\\xa2Z\\xf0\\xd1\\x04)\\x1ch\\x825\\x18\\x01v\\xc59\\xe1\\xfc9\\xad!EH\\xd3\\xc8\\x00\\x04\\xd3\\xb6\\x91\\xda\\x89x\\xc8;\\xaek\\xb7\\x17\\xa7P[8\\xf2grb3m\\x81\\x86\\x18\\xf5\\xc5C-\\xb1^k\\xb7B:\\xd3\\xd2\\x83QV\\xd8\\xe3R\\x9e\\x8c(i\\x02\\xa1\\xc3(\\xc1\\xe9\\x9f\\xda\\xa8\\xd2B\\xa7bm2Ds\\x1bduF\\xde\\xa3\\x98$\\xd8-\\x12\\x03\\xd7\\xd9\\xa6wP`\\xa9\\x1b\\xabrls\\x1f\\xdd\\x07(\\xf2\\xd7W-\\xfa\\xd4\\xa5E\\x10\\xaeKx\\x83\\x00B\\xab~U\\x04\\x9c>\\x04d\\x92a\\x1c\\xa0\\xfb :\\x86\\xc0\\xec(\\xc9\\xda@u\\xbcy\\xee\\xa4lGqA]\\xc8\\x84*\\xa1 \\r\\xc0\\xe7\\\\\\xf2\\x97\\xd1X\\xa2\\xa9\\xe2\\xeb5h\\x9a\\xee(\\xd26\\x88\\xe1\\x95\\x14\\x00V\\xaa\\xc9!\\xcf\\xad\\\\\\xbcM:\\xff\\x00\\xa6]\\xeb\\xc1\\xca\\xe9_\\xccb\\xa8a\\xfbTv\\xca\\xa1\\xb4R\\x90\\x00&\\x98A7\\xb02F\\xf5_\\x8el0\\xa2\\x96\\xebjV\\x98\\xd6?YFjdq\\xdcUyo\\x0fz\\x9a;\\xd3\\x91\\xbf\\xebC\\xc4\\x1eE\\xc7\\x82.f\\x95\\xf6\\xf6\\x13\\x1f\\x99\\xff\\x00\\xa54\\xce:\\xd2\\x9f\\x0c8<-\\xe5\\xc6\\xef)\\x05\\x8f\\xf8\\x81\\xfd\\xd3x\\xb4\\xc8\\t\\xcf#\\x8a\\x8c\\x96\\xc6LF\\xb9\\xe5DF{r\\xad\\x162O**\\x189\\x12k\\xa9\\x12\\x0e\\xe12\\x14\\xb8R\\x0e\\xf5\\xdd\\xfe\\x95@\\xbf\\xf0\\x7f\\x01\\xbd\\x1b\\xeb\\xd2\\t\\xff\\x00\\x9c\\x7f\\xd8\\xae\\x19e\\x06$\\x18\\xdb5\\xda\\xbcM0\\x7f\\xa1\\xae\\x15)\\xe7\\x0b\\xc2\\x7f\"G\\xeci\\xe2$\\x8e\\x1fz\\t\\x86\\x15?sR~\\xb4\\x9a\\xeci\\x06\\xac\\\\V/.y\\x93\\xf0JG\\xe6*\\xbd\\xc4\\x06\\x14\\xd1\\xca\\xe9\\x87\\x17\\x02\\x0b\\xd7\\xc15\\r\\x9c\\x99,=j+\\xf97;\\x8a\\xf7\\x84Z\\xdd\\xdeNE\\xb5\\xbb\\xc9\\xea\\x06\\x00\\xf9\\xd4\\x9a\\xb5\\xa2\\xc9\\xd0\\xa6f\\xc1#\\xb1\\xc5A\\x0cS]N!\\xb6\\x8d\\xe6\\x95\\xb9\"\\x0c\\x9a\\xbe\\xf0\\xef\\xa3\\xbb\\xcb\\xa9\\x84\\xb7\\x8eV\\x16s\\xec\\xa8\\xdd\\x8f\\xe1\\x07\\xf9\\xae\\x95\\xc3|\\x17i\\xc3\\xf8b\\xbcV\\xc8\\x8e\\x062\\x83\\x04\\x9f\\x8du\\xe2\\xf4\\xf2\\x96\\xcel\\x99\\xe3\\x13\\x90\\xf0\\x8f\\x04\\xdc\\x98\\xfe\\xbb\\xc5\\x80\\x16)\\xb3\\x88\\xa4\\xf6\\x95\\x89\\xc0\\xcf\\xa5v\\xaf\\x0f\\xd8/\\x0c\\x8e\\x1bp\\xe1\\xad]\\x02F\\xdd\\x11\\xc0\\xc6\\x93\\xe8h\\x9e\\x19oke$\\x91\\xf1%O\\xaa]&\\x86S\\xf7\\x81\\xa9n,\\xe4\\xf0\\xe4Z\\x83\\x1b\\xce\\x16\\x0e\\x96f\\xf7\\xe2\\xed\\x91\\xd7\\xe3]\\xb8\\xf0(m\\x9c\\x93\\xcc\\xe7\\xa4\\x1d\\x13\\x1buf\\ne\\xb6oyG\\xbc\\x87\\xd2\\xa3\\xb9\\x8ddR\\xf6\\xb2\\t#\\xc6\\xac\\x8eb\\xb6\\x82\\xea+\\x8b\\x7f6\\xceEu\\xc6qJ\\xeee\\rw\\xe6\\xda\\x9f\"\\xec.B\\xf4q\\xd4z\\xd3OBGds\\xdc\\x08P\\x8b\\x94\\xd7l[!\\xd3\\x9cM\\xfdV\\x97C\\x10\\x12\\x08\\xb8\\x8b\\x98\\xc6\\xcc+X\\xee\\x16\\xfdd#\\x16\\xf7\\xca\\xdaZ3\\xee\\xba\\xf7\"\\x96\\t\\xda\\xdafE_-\\xb9=\\xbb\\x1fe\\xbf\\xe2zW,\\xa4tF&\\xf1\\xca4I\\x1cr\\x16\\x88{AO\\xbd\\x1b\\x0eG\\x1d\\xbaP\\\\Fe\\x99\\x14\\x18\\xc1\\x00\\xef\\xa4\\xf3\\xf5\\x15\\x05\\xcc\\x84\\xcc\\xb3C\\x91\\x83\\xb6v\"\\xa2\\x9e\\xee8\\xa1\\x92i0\\xa0u\\xf5=+\\x96R\\xbd\\x17J\\x82#\\xbaK[9\\xa5\\x91\\x8b\\xc4\\xaa@W\\x1b\\x86<\\x85Tn/\\x8c\\xc4\\x8bu\\xf3\\x08\\xe6\\xdc\\x94|M7n\\x13y\\xc6\\x8c~yh8z\\x1dzO9[\\xb9\\xf4\\x1c\\x87\\xcc\\xd3H\\xb8M\\xa5\\xaa\\xa2\\xc5\\x10w\\xe4\\xa1\\x87/\\x97*\\xcb\\x1c\\xa5\\xc7\\x06\\xf3Qe4p\\xcb\\x9b\\xcc\\xbb\\xabH1\\x9c\\xb0\\xc2\\x0f\\x80\\xa8$\\xf0\\xb4r)i\\nF9\\x92\\xbbU\\xd7\\x8aL\\x91\\x91m\\x182\\xca\\xc7uQ\\x93\\xf0\\xf8R\\xf7\\xb2\\x9emO{(\\x8d\\x14j*\\xbc\\x94z\\x9f\\xea\\xb7\\xb6\\xa3\\xfb\\x0f\\xb8\\xd9\\xcf\\xf8\\x97\\x86\\xdc6,n\\x8b\\x11\\xd1\\x87?\\x9d,\\xb4\\xe0|jI\\x9a5\\xb3\\x96S\\xc8\\x11\\x8c\\x1f\\x9du\\x1e\\x17`\\xbcBr\\xb1\\xfd\\x8d\\xb0$\\x0f\\xc5)\\x1c\\xf7\\xa7\\x90\\xf9Q\\\\\\x85\\x8a0\\xb1\\xc6\\xb8\\n:QK@r\\xd9\\xcbm\\xfc\\x1d\\xc6$Mr-\\xb4@\\x1c\\x1dRg\\x1f\\x956\\x83\\xc1\\x061\\x1b^q \\xa0\\x90\\x1b\\xcb\\x8f\\x97\\xcc\\xd5\\xe2B \\x91\\xb4\\x8dv\\xf2\\x9c\\xe3\\xaa\\x9a\\x1ai\\x11\\x9dC\\x9dP\\xcc\\xbas\\xd8\\xd2\\xbaAM\\xb1;\\xf0F\\xe1\\xdc*(\\x12yKG\\xa9\\xa4 \\x8c6X\\x9d\\xbeX\\xafx\\x9d\\xc5\\xd3\\xce\\x89e?\\xd5b\\x89\\x02\\x18\\xd1v\\xcf?\\xcfzj\\xa5\\x8aI\\x03\\x9dZW\\x19\\xf4\\xaa\\xef\\nyY.\\x0c\\x9e\\xd1\\xf3\\xdc\\x03\\x8e\\x83o\\xe2\\xa5\\x7fC\\r\\x921\\xd2\\x89\\x8d1Q\\xab\\x0c\\x9c\\x02H\\xedR.\\xb78^\\xbd\\xb7\\xa3A\\xb0\\x98\\xbd\\x86S\\x91\\xccWL\\xe37\\xeb/\\xd1\\x82YG\"L\\x9a\\xe3\\x88:g\\xde\\xd1\\xac\\x8cz\\x12\\x07\\xc8\\xd73U[|<\\xd8\\xcff\\xe7\\xf9Sn\\x05o\\'\\x1c\\x92HD\\x97\\x8b\\x7f\\x14\\x91\\xcbih6\\x8ed\\x1b\\xca\\xc4~%P1\\xfc\\xd1\\xf2I\\x08\\xe3\\xe4k\\xc4-E\\xdc\\x92J\\x83ym\\x92a\\xf1\\x00g\\xf7\\xaaW\\x1a: f\\xe8\\x05]\\xf8\\x85\\xc9\\xe0w\\xedmt7\\xb5\\xf3\\xa0q\\xe8\\t\\xc7\\xec*\\x85\\xc6/cTGa\\x95VW#\\xb8\\x074\\x99\\x1bm\\x0f\\x8fC\\xdf\\x05\\xfd\\x1d\\xcf\\xc5\\xe4I\\xefP\\xef\\x86\\xd2F\\xca?\\x93]\\x93\\x84\\xf82\\xce\\xc2$\\x8e8\\x80\\xc7\\\\U\\x83\\xc1\\xe2\\xc7\\xff\\x00-\\xd9\\xde\\xc0U\\xa2\\x9a\\x15\\x91H\\xeb\\x91\\x9a_\\xc7<@b.\"\\x18\\xc7j\\xf4}7\\xb5\\x8a*S\\xe5\\x9cy\\xdeL\\x92q\\x8f\\x06\\xf2\\xf0\\xd8a\\x967\\xd2\\xaa\\xa84\\xa8=\\x05.\\xbb\\x08\\xaa\\x06\\xa1\\x8cl*\\xbb{\\xe2r\\xf9\\x12\\x1d#4\\x96\\xfb\\x8c\\xb4\\x87Pm\\xc0\\xd8\\x83\\xd2\\xba\\xff\\x00.\\x1d\\x1c\\xcb\\xd3O\\xb1\\xc7\\x19\\x85%\\xd0\\xce\\xe7\\t\\xb0\\nqR\\xf0^1\\xf5\\xaf>\\t\\xe32[\\x07\\x10;7?wf#\\xb7J\\xa5\\xbf\\x17q0,\\x03\\xc7\\xc9\\x81\\xad\\xad/\\x8d\\xb5\\xc4\\xc5J\\xb8e\\xd1<Jvd=EO\\xf2W\\x95\\x95\\xf6\\x1dQ\"\\xde\\x0e\\x01\\xc7&\\x86\\t\\x96[M_f\\xdft\\x8e\\xa34u\\xc4\\xd1\\xcc\\xedp\\xbb\\xdb\\xb3d\\xb0\\xe7\\x11<\\xbeU\\\\g\\x86h\\xe4\\xb4S\\xa8D\\xe4\\xc2\\xf8\\xc1#\\xb1\\xad\\xed\\xaf\\xe5\\xb7\\xb7u\\xd6<\\xb6\\x01$\\x8c\\x8d\\x98w\\xaeoz\\xf5\\xd1\\x7fo\\xb1\\x97\\x14i\\x12Xf_\\xf7\\xa3;\\x10}\\xf1\\xda\\xb4\\xe37)vA\\x1b\\xba\\x8fa\\x872;\\x1a\\x16\\xf0\\xb9\\x82\\x12rb;#g<\\xbaPw\\xb7q\\xdb\\xc6\\xd3\\xccp\\x06\\x06:\\xb1\\xe8=I\\xa8\\xcawh\\xa2\\x8dl\\xf2\\xe2D\\x823$\\xa7bq\\x8e\\xacO )\\xcf\\x0b\\xe0z\\x8cw|I2\\xe83\\x14\\'\\xddOR:\\x9f\\xda\\xa0\\xf0\\x8f\\x0b{\\xcb\\x8f\\xf5N \\xb91\\x9cA\\x11\\xdc!\\xea}M[&]qH\\xa0\\xe0\\xf7\\xf5\\xaab\\xc7k\\xc9\\x93\\xc9\\x93~(^\\xc1\\xa5r\\x14l7&\\x83\\xe2%\\xe3\\xd3\\x15\\xbe>\\xb3(\\xd9\\x8f(\\xd7\\xab\\x1ag3\\xaa\\r)\\xb2\\x8f\\xd6\\x96N\\xf9\\x91\\x9c\\xf3l\\x0f\\x90\\xe9O9P\\xb1@\\x11[\\xc7n\\xbe]\\xb8&F\\xdd\\xe4ng\\xd4\\xff\\x00T/\\x17\\x85\\xa5\\xb3\\x11\\xc2N\\x03e\\xf1\\xcd\\xa8\\xa9_K\\xb1S\\xce\\x87iy\\xefP\\x94\\xb5ER\\xec\\x85\\x9cZ-\\x94\\xd0m\\x1d\\xb9\\x11\\xb0\\xf8\\xeeO\\xe7G^\\x80$\\xfa\\xcc9(\\xdc\\xc8\\xa0\\x8b+#!\\xf7[\\x98\\xafm\\x9d\\xe0M\\x19\\xd7\\x17Q\\xda\\xa6\\xe4=\\x04\\xac\\x82h\\x00\\'~\\x8dK\\x18\\xf9r\\xe8}\\xd0\\x12\\x08\\xf8\\xd6\\xe5\\xbc\\xb7o,\\xeczT\\x13\\xb6\\xbc\\x9c\\xef\\xd3\\xe3P\\x9c\\x87\\x8a7\\x9eo\"9\\xa4f\\xf7Q\\xb2~T\\x7f\\x828\\xff\\x00\\x08\\xe1\\xfe\\x1e\\x82;\\xff\\x00\\x0cZ\\xf1;\\x87&V\\x9eiYO\\xb5\\xb8\\\\\\x0e\\x80~\\xe6\\xa9\\xde&\\xbe\\xcd\\x84\\xb1)\\xc32\\xe88\\xeev\\xc7\\xebG\\xd9\\xbcq@\\xa9\\x95\\xc2\\xec2z\\r\\xa9T\\x9cv\\x86\\xab-\\x96\\x9c#S\\x00\\xe4\\xbb~\\x18\\xf7\\xfdj\\xe7\\xc0|\\x11}}\\xa4,^Dg\\xd3,k\\xaa\\xf0?\\x05\\xf0\\xfe\\x17\\x18\\x92\\xe3A`7?\\xf54?\\x1f\\xf1\\xef\\x03\\xe0\\x11\\xb4V\\xa5n&\\x1fv>_3V\\xf0o\\x9d\\t\\xe4\\x97\\x1b\\x13[}\\x17p\\xe8 \\xf3o\\xaeZ,n\\xcc\\x00-\\xf2\\'a\\xfa\\xd5w\\x8c\\xf8\\xc3\\xc2\\x1e\\n\\xb8\\x87\\xfd\\x06\\xc1/8\\x842\\x12\\xd2\\x03\\xa9\\xf1\\x8c\\x1c\\xc8z\\x9eX\\x1bUS\\xc6\\xff\\x00H\\xbcO\\xc4\\x05\\xed\\xe3s\\x14\\x07a\\x0c[\\x0f\\x99\\xaekp\\x91\\xea/s&\\xb3\\x9f\\xf6\\xe3?\\xb9\\xac\\xa3\\xbd\\r\\xcf\\xc8\\xd3\\xc5\\xde \\xb8\\xe3\\xfcj\\xeb\\x88\\xcc\\x89\\x1b\\xcb+K\\xa5\\x0eB\\x93\\xebU[\\xfb\\xe9\\xa5\\x8dcA\\xee\\x8c\\x16&\\x9b\\xdf\\xcc\\xb28H\\xe3\\x03;,q\\x8c\\xe7\\xfb\\xa38g\\x83\\xef/\\xdd%\\xe2\\x81\\xec\\xac\\xb9\\xe8\\x18\\x12\\xb0\\xf4\\x07\\xdd\\xf8\\x9a\\xa4b,\\xa4u\\x1f\\xfc>x\\x85\\xaf<\\x1bu\\xc2.%//\\x0e\\xb8:2\\x7f\\xf6\\x9ceG\\xc8\\x86\\xabW\\x88\\x14,\\x92\\x1cl?J\\xa5\\xf8Rn\\x0f\\xc0\\xaf-\\xad8U\\x9c\\xb6\\xf1\\xb3\\x04y\\x19\\xb3\\xab=X\\xf35i\\xe3\\x13\\x17\\xb6Vc\\xbb\\xb1bO<\\x9e\\x9f!K\\x95T\\x85\\x83\\xb4Tx\\x8a\\x86\\xd4\\xd8\\xd8u\\xedU\\x9b\\x89\\xb1&\\x11\\x88$\\xe34\\xeb\\xc63\\x98^;H\\xb6\\x01U\\xdb\\xd4\\x9d\\xea\\xb9#\\xe6c\\xa8eN3\\xe9R\\x94\\xbe\\x8a\\xa4M#;c\\x079\\xe5\\xf2\\xe9^\\x06ua,{2\\xff\\x00\\xde\\rB\\xdb!\\n\\xddr;\\xe6\\xa4\\x8a`\\xc7\\'\\x19\\xc7\\xb5A6\\x1aD\\xccC8\\x92\"\\x03\\x11\\x92?\\x8a\\xd9\\x80e\\xf4#\\x95/\\x92\\xe8\"\\xe5\\x80U\\x1b\\x92\\xc7\\x00R{\\xee>\\xd2\\x83\\x17\\x0f\\xf6\\x9f\\x97\\x98A\\xd2>\\x1d\\xe9\\xe2\\x84l\\xb2^q\\x08\\xac,\\x8c\\x97/\\x90\\x9b*\\x83\\x92\\xc7\\xa0\\x02\\x80\\xe1\\x91O\\x7fs\\x1d\\xcd\\xe7\\xb3#6!\\x8b;E\\x9f\\xbc\\x7f\\xcb\\xf6\\xaad\\x90_4\\xc2\\xe1\\xa6\\xf3.S\\xf1\\xee\\xa7\\xe0:U\\xb3\\xc2\\xdcF;\\xbb\\xd8b\\x91\\x9a)\\xf5\\x02\\xd1\\xbe\\xc7\\xe5\\xde\\x99\\xae\\x85:\\xe5\\x94iig\\x1cI\\xc9F\\x05G4\\x81A\\xc6\\xc0\\x9a\\x89f:7\\xcf*\\x12ys\\xd6\\xbb\\xa7:Z9!\\x1b{=\\x9eL\\xe7z\\x06g\\xc9\\xafe\\x9343\\xb6~\\x15\\xc5,\\x87Lbi.\\xe3j\\x16L\\x8c\\xech\\xa6;g4,\\xbe\\x86\\xa6\\xe6QD\\x85\\xc0\\xc6\\xfb|+\\xc8d*p\\xd9\"\\xb5bs\\x8d_\\x98\\xad\\x0b\\x11\\xef\\x01\\xf2\\xa9\\xb9\\x06\\x8d\\xa5l\\x93A]N#\\x89\\x98\\xf2\\x03\\x97\\xadK,\\xa0\\x0fku\\xef\\xd4UO\\xc4\\x9cUm\\xe3|\\x1c\\x93\\xb2\\x0e\\xfe\\xb4\\xa991\\xb8\\x16qK\\xff\\x00\\xac\\xf1x`\\xceB?\\x98\\xe7\\xe1\\xbd?U\\x9eX\\xe31A,\\xa0(\\x04\\xa2\\x93\\x83\\xcf\\x1b|j\\xa9\\xe1\\xa1\\x96\\xe2WR\\rL\"\\x11\\x82z3\\xb7\\xf4\\r_\\xfc9w}\\x05\\x81[;\\x99\\xa3\\x8c\\xbeJ\\xa4\\x85Fp={b\\xac\\xd2N\\xbe\\x84\\xb6\\xd5\\x9d\\x1f\\xc5_H|S\\x8c;\\xa3\\xdc2\\xc5\\xd2(\\xf6QT{\\xab\\xe2\\xe4\\x99\\xe4\\'\\xfcT\\xd2[\\x9b\\xf3\\x83\\x82\\x11}h/=\\x9d\\x8a\\xbb\\xf9k\\xf8\\x98n~U\\xd1$\\x05\\xf4\\x86\\xb7\\\\K\\xd9+\\x1e\\x15z*\\xf34*\\xda]\\\\\\xef.m\\xe2\\xee\\xe3\\xda?\\x05\\xa8K\\xac\\n\\n\\xe0g\\xef\\xe7-C\\xff\\x00\\xa8\\xc8\\x8d\\x98\\x98\\x8d\\xf9\\xb1\\xce~U\\'!\\xd4K\\x8f\\x05<\\x0f\\x86\\x85`\\xaf\\x15\\xc7[\\x9b\\x84\\xceO\\xa3\\x0fv\\xaci9\\x99\\x03\\xc0\\xd1\\xcc\\x8d\\xbe\\xa5`\\xc2\\xb9b\\xf1\\x1f5\\xc7\\x9d\\xa9\\x8f-\\xb7\\xfd)\\x95\\x85\\xacN\\xcb2O\\xe4\\x91\\xbf\\xd8\\xb6\\x18|{S\\xc7+\\x12X\\xd7\\xd9z\\xb8A\"n4\\x9fJm\\xc58\\x91\\xfa\\x9d\\xb19\\xd3\\xe5\\rdsf\\xea\\x07\\xf2k\\x99\\xcf\\xe2\\x198G\\xb1\\x1d\\xd3\\xde\\x0e~\\\\\\xc7_\\xeb\\xccV\\xb7>2{\\x98\\xe2\\xf3\"\\x16\\x89\\x8c.F\\xaf\\x8e\\xf4g%$,`\\xd3\\x1dq\\t^\\xe6\\xe6I\\xae7v9\\xcf :\\x00>\\x14\\xaayW$\\xc7\\x93\\xdc\\x9a[7\\x10w\\xc3\\x80\\xac\\x0f\\xdf\\x92A\\x8f\\x90\\x15\\xe6\\x1e\\xe9\\xbd\\x89\\xd4\\x81\\xcc#\\r\\xbf-\\xeb\\x9f\\xc4\\xb5\\x84\\xbd\\xc0BY\\x9f\\x07\\xd7\\x9d\\x0cx\\x84\\x8e\\xec\\xb0#\\x0c}\\xe7\\x18\\x07\\xf9\\xaf\\x05\\xa9Pt\\xe3s\\xd2\\xa30\\xc8\\x8d\\x82\\x0e)\\xa8\\x1c\\x90\\xf9rH\\xda\\xee>\\xd5\\xb3\\xd7\\x90\\xf8\\n.\\x11#\\x9d(\\xab\\xab\\xb1\\x18\\xa9$\\xb6xB\\x96\\x1c\\xc6jH\\xdf\\xcb\\n\\xe4\\xef\\xd2\\x8a\\xdf \\xfe\\x18\\x90O)\\xd2\\xd1\\xa8\\xf8\\xd4\\x83\\x85\\xc7 \\xd5\\x93\\x1c\\xc8r\\x8c\\xa7\\x185 \\xbc\\xdca\\x18\\x9f\\x85\\x15\\x1d\\xd8#\\xda w\\x15H\\xa8\\x93\\x93\\x90\\x7f\\x08\\xe2W\\x96\\x10\\xc3\\x05\\xd25\\xc4\\x04\\xe9\\xf3\\xcb\\xfbC\\xfe@\\xf3\\xf8\\xd3\\xd3(}\\xc5V\"\\xb8Y6 c\\xd6\\x8b\\xb4\\xbf\\xd3(V\\xc2C\\xc9Y\\xce\\x0b\\x1f\\x87AO5kBGOc\\x87\\'MB\\xc4\\x8a!p\\xeb\\xebQ\\xc8\\x98\\x1e\\x95\\xc8\\xcb\\xa0v}\\xb1\\x9a\\x82C\\x9eu\\xbc\\xb8\\x1c\\xff\\x00J\\x81\\x9b=r?ZV\\x12)\\t\\xe9\\x82=hwr\\x14\\xe0\\xed\\xda\\xa4\\x95\\xb03J8\\x95\\xe2\\xc0\\x8eu\\x01\\x81\\xed\\x1e\\xd4\\x81\\x04\\xe3\\x9cM-\\xe1}M\\xa5\\x07?S\\xda\\xb9\\xdd\\xed\\xe4\\x97\\x93\\x99%\\xdb\\xf0\\xaf\\xe1\\x14\\x7f\\x17\\xb9{\\xc9\\xf2s\\xe4\\x83\\xec\\x0f\\xe6\\x95\\xcd\\x13\\x01\\xa8o\\x8a\\xeb\\xc5\\x05\\x14Jr\\xb1\\xd7\\x04\\x91V\\xc6H\\xc6u\\xbc\\xda\\x9b\\xe0\\x06\\xdf\\xa95e\\xb5`!P\\x7fj\\xacp8\\xc9\\x89I\\x07\\x04\\xe6\\xac\\xb1!+\\xb0\\xda\\xa5\\x97\\x91\\xe1\\xc0LRZ\\xc6\\xda\\x8e\\xef\\xfe{\\xb7\\xcb\\xb5Esrd\\x04F4\\x0e\\xc7r~t\\x89\\xa5$\\xef\\xce\\x8a\\xb5y\\x18\\x8f7d\\xf8o\\xf2\\xaa\\xb0\\x9a\\xcb\\x13\\x86\\xccR\\x15c\\xf7y\\x83^*H\\x18\\x0b\\xb4hA\\xfb\\xc0S\\xd8\\xae\\xacm\\xa2,1\\x9co\\xab\\xde\\xf9\\xd2\\x8b\\xae%\\xf5\\xa7\\xf2\\xad\\x93f\\xe8\\xc39\\xac\\xb6k7v\\xb7\\xb6\\x8fW\\x98\\xac\\xa7\\xf0\\x9c\\xe6\\x827\\x92\\xc8\\xc7\\xea\\xdff9\\x16\\xcdF\\xfc5T\\x96\\x92S\\xe6v]\\xff\\x00:\\xd4\\x89N\\x14\\xc6\\x19G\\xff\\x00\\x15mt\\x13x\\x8a$\\x9ed\\x9fn\\xfc\\xf2N\\x06\\x7f\\x9a!\\xe1{\\xec\\x19\\x1f\\xcb\\x1d\\xe4\\xe5\\xf2\\xafm\\xe0\\xb7\\xd2\\x1aiUX\\x1fu\\xd7\\x00\\x7fu3\\xb8 h\\x1a\\xb3\\xb0\\xd0s\\x9aV\\xc2\\xb6\\x077\\x0c\\x82\\x1c0p\\xcd\\xf9\\xd6=\\x99P&\\\\\\xc6S\\xef+c\\x15\\xa4\\xce\\x11\\xf3\\x1b>G=\\xb0\\r\\x0fq\\x7fu1Tt\\x01G-<\\x85d\\x9b7\\x03Xx\\xed\\xd4D+$R\\xc6\\x06\\x07\\x9a0O\\xa9\"\\x8b\\x8b\\x8f\\xa4\\xacVK&\\xc63\\x88_$\\xfeu]\\x8a3;\\x80d\\x05\\x8f!\\x9aukd\\x96\\xd0\\x96-\\xed\\x1d\\xcb\\x03\\x91\\xf0\\xad\\xc0)\\x05\\xbf\\x8bmdU\\x86k9\\xed\\xf4\\xe0+\\xb1\\x0c\\x07\\xc7\\x154\\x8e\\xce\\xbbiea\\x95*v\"\\xaa\\\\RP\\xd2\\x14\\x18=\\xcfa[\\xd8\\xcfu\\xc3\\xe1\\xcaM$j\\xdb\\xacd\\x06_\\x8e\\r\\x1eU\\x81*z.\\x90[0\\x8cH\\xd2`zoS\\xc6#$y\\xb2\\xca\\x99 n1T+\\xbb\\xdb\\xfb\\xb5\\x0b-\\xdc\\xc5O$C\\xa0~\\x94\\xd7\\x82^\\xbc0-\\xad\\xe3\\xe5\\x13\\xdc\\x93\\x9e\\x07c\\xfd\\xd0h\\xc9>\\xcb]\\xe5\\xb2\\xc0\\x8a\\xe6I\\x19O/^\\xd4\\x12\\x8f1Hx\\x8b\\xf7\\x18\\'\\x14z\\xdc\\xc1q\\xa4\\x97C\\x12\\x8c\\x0c8\\xf7\\xbb\\xd7\\x89%\\xbd\\x99y.\\xaf-\\xed\\xed\\xc9\\xc0\\xd7 \\xc9>\\x82\\x86\\xfa\\x17\\xfa\\x17\\xc1\\xb8\\xd2\\xc5/\\xd5\\xee\\xa4\\xd2\\xa7\\xdcf\\xe4?\\xc75g$:\\xf7\\xdb\\xa5R\\xee\\xa3[\\xbd\\xe3ux\\x9b\\xdd\\xe4A\\xf9\\x8a\\x97\\x84_\\\\\\xf0\\xa7\\x16\\xf7Ld\\xb4\\xe8I\\xc9A\\xf1\\xedCL\\xd4\\xd1a\\xb8B\\x17=)|\\xa3 \\xe7\\x06\\x8f\\x9bT\\xa3\\\\l\\x1a3\\xb8#\\xb5(\\xb8\\xb9US\\xe6.\\x87\\x07\\x99\\xe5Shd\\x0f{q\\xe5FF\\xa1\\x9cs\\xec*\\x91\\xc4n\\x1a\\xfeC\\x1cY\\xfa\\xba\\x9fx\\x9f|\\xff\\x00T\\xff\\x00\\x8a\\xa4\\xb7\\xaa\\x16,$,2\\xd2>\\xda\\xbd\\x00\\xfeiSY\\xaa\\r>h$t\\x03\\x14\\xd1U\\xb31L\\xf6\\xd9\\x8f\\xd8\\x1a\\x88\\xe9K\\xe7\\\\B\\xdd\\xf1M\\xee$\\x11\\xe7\\x19\\x06\\x93\\xddM\\xe68T\\x18\\xcboW\\x85\\xb2r\\xd1`\\xe11i\\x8a0\\x07!O\"\\x8d\\xb4\\x0c\\nO\\x0b\\x04\\xb2\\xd4\\x0e\\x18\\xe1G\\xa15g\\x8e0\\x01\\xc0\\xdb5\\xcf6UpU\\xbc\\x95\\x80\\x9f3f\\x1d\\xe8[\\x9b\\xf0\\xbbG\\xb9\\xebQ<\\xd3^\\xb63\\x95\\x1d\\xfaV\\xc2(\\xe3\\xc0\\x8f\\x12?]C\\xf6\\xab\\xd7\\xd8\\x08\\x966\\x9f\\xdb\\x99\\xcav\\xff\\x00\\xf9EA0\\x84iE\\\\\\x1em\\xf7\\x8f\\xce\\xa0\\xd1#\\xc9\\x8c\\x12\\xdd\\x8d\\x13\\x0c\\x01\\x06\\\\\\x82\\xdf\\xb5f\\xc2\\x15n\\x91\\xca\\xc3\\xcc}\\x03\\xf54\\xd1d\\xb7\\xb6\\x8f\\x11\\xc65\\x9eG;\\xfc\\xe9\\x11bvF \\x1f\\xd6\\xb7-\\xe5(w#\\x07\\x96w\\xcd+5\\x0c&\\xb6k\\xac\\x994\\xb8\\x03=\\xb0>4\\x9e\\xe2\\x01\\x13\\xe2\\xd5\\xa4C\\xc8\\xb1\\xe5\\xf2\\xa2d\\xe2A\\xe2\\x11\\x90cA\\xf3\\xd4}\\x7f\\xaa\\x89\\xa6\\xd5\\xc8\\x82\\xa7\\xad\\x05h \\x8c.\\x15N\\xb2\\xb2/\\xe7Z\\xd9\\xf9R\\xc8Z}Q\\x8e\\xc3\\x91\\xa6\\xf6\\xb6\\x1ez4\\x8c4\\xa1>\\xc8\\x1dO\\xf5Q]\\xc5\\xe4g\\xeb\\x08\\xac1\\xcct\\x14l\\xc42\\xc9\\x0c\\t\\x95(\\xe3\\xfcO\\xfd\\x9aY-\\xf3\\xc8q\\x11t\\xcfcQ\\xbc\"\\xe6\\x7f\\xb3\\xca\\x92}\\x90w\\xc0\\xaf$\\rh\\xcd\\x1b\\rX\\xd8\\xb5:H\\x0e\\xcd\\xe0\\xd3\\x1c\\x8a\\xf2\\xe2L}\\xde\\xff\\x00\\x1a/\\xeb\\x0b,\\x9a\\x9c\\xb6Oq@\\xc7\\xa6C\\x88\\xf1\\xa8\\xf4?\\xdd\\x17\\x1cF3\\xbf\\xbd\\xebBFC[~\\x1e\\xb2.\\xac\\x8dG\\xaa\\xee\\x07\\xa5F\\xd6\\xe7QX\\xf0\\xc0s<\\xa85r\\x9b#\\x95\\x1e\\x87\\x19\\xa9\\r\\xec\\x91\\xae\\xa6l\\xa0\\xe9\\xdc\\xf6\\xa9\\xb4\\xc6D\\xb7H\"MS.\\xdftc9\\xa4\\xe6\\x04\\x92B\\xda\\x06\\xa6;\\xe3j\\x9ek\\xd6\\xb9|\\xc8py\\x01\\xd0\\x0e\\xc2\\x8c\\xb6\\x8e\\x14O2F_A\\x9a?\\x14o\\x91\\xad\\x8d\\xd5\\xc7\\x0bpm%`3\\x93\\x1bn\\xa7\\xe5\\xfdU\\x94q\\xf5\\xe2\\x0b\\x1a\\xdc\\xdb\\x8by\\x14cXmH\\xdf>\\x9f:C\\xf5p~\\xd0\\xec\\xcd\\xba\\x8e\\x98\\xad\\x1d\\x0cI\\x96R\\xb9\\xfd\\xa9n\\xcdE\\xf7\\x81\\\\Icn\\x10+\\xbc\\x1a\\xb3\\xa7\\x9e\\x90{T7\\x89\\x1c\\xcds\\xe6,\\x9el\\xf9\\x1ep\\xfb\\x83\\xb0\\x1d\\x05sO\\xad\\xcc\\xb2\\x0f\\xabO4K\\x9fd#\\x91\\xf3\\xa7Q\\xf1{\\xfbhU~\\xb9#\\xc9\\xd4\\xbf\\xb5\\xfb\\xd38\\xd0\\x89_\\x05\\xabG\\xb1\\xa4:\\xb8\\x03`\\xcd\\xbd(\\xb9P\\xec\\xf9\\n\\x08\\xe7\\xde\\x97\\x0f\\x12\\\\r\\xb9\\x82)Gp4\\x9a0\\xdcEt\\xba\\xa3$>2U\\xb9\\x8aV\\xa84*\\xbb@\\xe0\\xe0\\xe7\\xb5\\'(E\\xe4*\\xca@.w\\xe9\\xb5\\x12\\xf3\\x95\\xbdH\\xc6@2\\x81\\x8fL\\xd0\\xb1E8%\\xd2B\\xba\\x898\\xcfsV\\x8a\\xa4M\\xbbe\\x87l\\xc1\\x0e\\xda\\xb5+\\xe3\\xe7\\x81W\\x8bkI&Fd\\x1b\\x06\"\\xa8\\xd6\\xb1\\\\\\x9b\\xf8&\\xba\\xf6\\xfc\\xc2\\x91kc\\x92\\xc4\\x11\\x9c\\xf5\\xdba]&\\xcagKX\\xd9c\\x0b\\xaf.@\\xe9\\x92\\x7f\\x8cW>mQHl\\xe5\\xae\\xa5\\x061\\x85\\x1f\\x87\\xf9\\xa9\\xedm\\x9a@\\x18\\xe4\\'|ni\\xa5\\xaf\\x0eP\\xaa\\xf20v\\xe6\\x14n\\x07\\xf6jy\\xbc\\xa0p\\x80k\\xee9\\n\\xa3\\x91\\x81\\x93D1\\xe8\\xd2\\ns\\xd2y\\x9a\\x16\\xe2?7\\xfd\\xb3\\xa7\\xae\\x92v\\xfc\\xe8\\x83\\x0b\\xc8w\\xf6\\x8fq\\xce\\xa1y\\x96-\\xa0\\xc37\\xe2\\xe8>\\x14\\xb65\\x00\\xcf\\x13\\xda\\x10&VV\\xe6\\x16\\x85i\\x99\\x99\\x99\\x8e\\xf4l\\x92nw\\x0f\\x9e\\xfb\\xe6\\x86tI\\x0f\\xd9\\x8d-\\xdb\\x98\\xa6@\\xe0\\x88\\xc9\\x93\\x823\\x9d\\xb6\\xa2\\xa1\\xb5\\x08C\\xb9+\\xfe9\\xfd\\xeaXl^\\xdc\\x89\\'B\\t\\xddOA\\xf3\\xadn\\xee\\x16$lm\\xfcV\\xbe\\x91\\x83\\x0f\\x17h\\x14\\xab\\x04l\\x0cg\\x18\\xc5$\\xbd\\xbfk\\xc9\\xf9\\x95Q\\xc9O2{\\xd0r\\xcc\\xf37\\xa7E\\xad\\xa2Q\\x13\\x82\\xfb\\xb1\\xdb\\x15E\\x15\\x1d\\x8bv<\\xe1\\xf0\\x8bh\\x0bH\\x07\\x9a\\xe3\\x9f<P\\x8f\\x17\\x98\\xe1NL\\xa7`G\\xde\\xa1^g\\\\\\x10\\xe4|\\xe9\\xa7\\x0c\\x960u\\xdc\\xa9\\x0cG\\xb2\\xc3p\\xa3\\xbdM\\xdf#\\xfe\\x88\\x8f\\x0cX\\x86&S\\xab\\xab\\xadD\\xd1H\\xbe\\xc4\\x12\\x87A\\xd1\\xa9\\xc5\\xcd\\xc0PV7W\\'\\xb7J\\x89!\\x8d\\xb1\\x80\\x03\\x1d\\x86:\\xd0\\xf2fI\\t\\xdb1\\xef,l\\x98\\xe6\\xc3qAO#J\\xf9_pr\\xc5=\\xbe\\x8ck\\xf2Q\\xf2\\x88}\\xa3\\xdd\\xba\\xd2k\\x9br\\xaeJ{\\'\\xd2\\x9a\\r0H\\xd2(\\xb2w\\xe5Ei\\xd7\\xbf\\xdc^\\x9d\\xcd\\x0f\\x04\\x93.\\xda\\x03\\x1f\\x85\\x1cg\\x0b\\x18Im\\xc0\\x0b\\xcc\\x8c\\x83\\x9a.\\xec\\xca\\xa8\\xf2\\x0b\\xa6\\x84\\xe0\\x9dK\\xcf\\x07\\xf8\\xa8\\xf8\\x87\\x11\\xf3\\x07\\x97\\x82\\xb9\\xdd\\xb7\\xcf\\xc0T\\x13:cTga\\xcc\\x1et\\xbd\\x98\\xbb\\x13\\xd4\\x9a1\\x82\\xbb\\x16R\\xa1\\xa7\\x0eH\\x1c\\x99%#\\x0b\\xc8\\x1e\\xf5<\\x8269\\xd2G\\xa84\\xbc\\x90\\x91\\xaa\\x83\\xf1\\xadCv\\'\\xe5A\\xabv\\x14\\xe8ck\\x02\\xcd)\\xceT.\\xe75\\xec\\xcc\\xd6\\xf3)]\\xb4\\x9dG\\xfe=kKY\\xa4\\x86,\\xe3V\\xad\\xf0y\\xd7\\x9cBu{W\\x90lp\\x17\\x1f\\x13K\\xd8[\\xd0,\\x8c$\\xbdY\\xbe\\xf0\\x04\\x9f\\x908\\xfe(\\x94O-\\x93V\\xfaH\\xc8\\xa5\\xd6d\\xcag:\\x97*\\xa3\\x00\\x9cg,\\x01\\xc7z`\\xcd\\x9cj8\\xc7:\\xac\\x91(\\xec\\xb1\\xf0\\xf6N\\'{\\x15\\xb5\\xb6 H\\xa5\\xd7\\xaeg\\x19rpH\\x1f k\\xa4[ \\xd0p\\xa3\\x00\\xe0|\\xb6\\xfe+\\x99x-\\xdeN,-\\xd8\\x0f&)M\\xc9\\x05w\\xd4\\x13H\\xc9\\xf8gj\\xeav\\xab\\xa6\\x05\\x07\\x9drg\\x7f\\xea\\x8a\\xe3\\xe2\\xceJ\\xf3\\xc9\\t\\xc4n@#q\\xd0\\xd1\\xf1{h\\xb9\\xeb\\x8eU\\x95\\x94\\xec\\xc6\\xdcE\\x8c(#\\x8fed\\xd6\\xc7\\xab\\x1c\\xf5\\xf4\\xa5\\xae\\xa0\\xb7m\\xb3\\xb5eed\\x10)\\x0e\\x06GSFp\\xf8\\xd4\\x1d\\\\\\xd8\\xb62zVVS\\xf4\\x01\\x95\\xcc\\xcf\\x04\\x07A\\xd8m\\x83\\xbdU\\xb8\\x9e\\x0c\\xa4\\x00\\x02\\x8d\\xf0++(\\xe3\\xe4\\x12\\xe0\\x8a\\xd0\\x0c3c~U\\xa9\\x19:\\x8erk+)\\xdf \\\\\\x05Z\\xc6\\xb2H\\x9a\\xc6v\\xce(\\xe4\\x01c\\x04s\\xde\\xb2\\xb2\\xa7!\\xbb\\x07}\\xdb<\\x8e3\\x91D\\xd8\\xdc\\xc8\\x16S\\x90J)\\xd2H\\xe5YYC\\xa1\\x99\\x0c,L\\x83\\'9\\xa9f\\x8d[9\\x1c\\xab++v\\x0e\\x81\\xad#_\\xac\\x13\\xf8A\"\\x8f\\x90\\xe2\\x12N\\xfbg\\x07qYYZ\\\\\\x99\\x08\\xef\\xd1X!\\n\\x14\\x9c\\x9d\\xb6\\xa1m\\xd4<\\xc06\\xf8\\xde\\xb2\\xb2\\xad\\x1f\\x899\\xfc\\x8d\\xe5\\xf6e t\\xad\\x94mYYA\\xf0d\\x19+\\x1c\\x01\\xd2\\x84\\xe2\\x07M\\x90\\x03l\\xc9\\xbf\\xe5YYB<\\xa0\\xcf\\x80\\x08~\\xff\\x00\\xfc\\x7f\\x91DGu<8\\xf2\\xe5e\\xc7.\\xb8\\xfc\\xeb+*\\xcc\\xe7E\\xff\\x00\\xc0sKy\\xc4\\xf8\\x95\\xcd\\xe4\\xb2Os(V\\x92i\\x0e\\xa7bq\\x92Os]\"!\\xf6b\\xb2\\xb2\\xbc\\xfc\\xff\\x006uC\\xe2\\x7f\\xff\\xd9'"
      ]
     },
     "execution_count": 43,
     "metadata": {},
     "output_type": "execute_result"
    }
   ],
   "source": [
    "image_link.content"
   ]
  },
  {
   "cell_type": "code",
   "execution_count": 44,
   "metadata": {},
   "outputs": [],
   "source": [
    "f = open('bed_image.jpg','wb')"
   ]
  },
  {
   "cell_type": "code",
   "execution_count": 45,
   "metadata": {},
   "outputs": [
    {
     "data": {
      "text/plain": [
       "7106"
      ]
     },
     "execution_count": 45,
     "metadata": {},
     "output_type": "execute_result"
    }
   ],
   "source": [
    "f.write(image_link.content)"
   ]
  },
  {
   "cell_type": "code",
   "execution_count": 46,
   "metadata": {},
   "outputs": [],
   "source": [
    "f.close()"
   ]
  },
  {
   "cell_type": "code",
   "execution_count": 47,
   "metadata": {},
   "outputs": [],
   "source": [
    "# can click cell and markdown to write in html to view as well"
   ]
  },
  {
   "cell_type": "code",
   "execution_count": null,
   "metadata": {},
   "outputs": [],
   "source": []
  }
 ],
 "metadata": {
  "kernelspec": {
   "display_name": "Python 3",
   "language": "python",
   "name": "python3"
  },
  "language_info": {
   "codemirror_mode": {
    "name": "ipython",
    "version": 3
   },
   "file_extension": ".py",
   "mimetype": "text/x-python",
   "name": "python",
   "nbconvert_exporter": "python",
   "pygments_lexer": "ipython3",
   "version": "3.8.5"
  }
 },
 "nbformat": 4,
 "nbformat_minor": 4
}
